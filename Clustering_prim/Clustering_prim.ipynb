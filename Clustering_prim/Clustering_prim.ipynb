{
 "cells": [
  {
   "cell_type": "markdown",
   "metadata": {},
   "source": [
    "When exploring a large set of documents -- such as Wikipedia, news articles, StackOverflow, etc. -- it can be useful to get a list of related material. To find relevant documents you typically\n",
    "* Decide on a notion of similarity\n",
    "* Find the documents that are most similar \n",
    "\n",
    "In the assignment you will\n",
    "* Gain intuition for different notions of similarity and practice finding similar documents. \n",
    "* Explore the tradeoffs with representing documents using raw word counts and TF-IDF\n",
    "* Explore the behavior of different distance metrics by looking at the Wikipedia pages most similar to President Obama’s page."
   ]
  },
  {
   "cell_type": "code",
   "execution_count": 1,
   "metadata": {
    "collapsed": false,
    "jupyter": {
     "outputs_hidden": false
    }
   },
   "outputs": [],
   "source": [
    "import matplotlib.pyplot as plt\n",
    "import numpy as np\n",
    "import pandas as pd\n",
    "%matplotlib inline"
   ]
  },
  {
   "cell_type": "markdown",
   "metadata": {},
   "source": [
    "## Load Wikipedia dataset"
   ]
  },
  {
   "cell_type": "markdown",
   "metadata": {},
   "source": [
    "We will be using the dataset of abridged Wikipedia pages. Each element of the dataset consists of a link to the wikipedia article, the name of the person, and the text of the article (in lowercase).  "
   ]
  },
  {
   "cell_type": "code",
   "execution_count": 2,
   "metadata": {
    "collapsed": false,
    "jupyter": {
     "outputs_hidden": false
    }
   },
   "outputs": [
    {
     "data": {
      "text/html": [
       "<div>\n",
       "<style scoped>\n",
       "    .dataframe tbody tr th:only-of-type {\n",
       "        vertical-align: middle;\n",
       "    }\n",
       "\n",
       "    .dataframe tbody tr th {\n",
       "        vertical-align: top;\n",
       "    }\n",
       "\n",
       "    .dataframe thead th {\n",
       "        text-align: right;\n",
       "    }\n",
       "</style>\n",
       "<table border=\"1\" class=\"dataframe\">\n",
       "  <thead>\n",
       "    <tr style=\"text-align: right;\">\n",
       "      <th></th>\n",
       "      <th>URI</th>\n",
       "      <th>name</th>\n",
       "      <th>text</th>\n",
       "    </tr>\n",
       "  </thead>\n",
       "  <tbody>\n",
       "    <tr>\n",
       "      <th>0</th>\n",
       "      <td>&lt;http://dbpedia.org/resource/Digby_Morrell&gt;</td>\n",
       "      <td>Digby Morrell</td>\n",
       "      <td>digby morrell born 10 october 1979 is a former...</td>\n",
       "    </tr>\n",
       "    <tr>\n",
       "      <th>1</th>\n",
       "      <td>&lt;http://dbpedia.org/resource/Alfred_J._Lewy&gt;</td>\n",
       "      <td>Alfred J. Lewy</td>\n",
       "      <td>alfred j lewy aka sandy lewy graduated from un...</td>\n",
       "    </tr>\n",
       "    <tr>\n",
       "      <th>2</th>\n",
       "      <td>&lt;http://dbpedia.org/resource/Harpdog_Brown&gt;</td>\n",
       "      <td>Harpdog Brown</td>\n",
       "      <td>harpdog brown is a singer and harmonica player...</td>\n",
       "    </tr>\n",
       "    <tr>\n",
       "      <th>3</th>\n",
       "      <td>&lt;http://dbpedia.org/resource/Franz_Rottensteiner&gt;</td>\n",
       "      <td>Franz Rottensteiner</td>\n",
       "      <td>franz rottensteiner born in waidmannsfeld lowe...</td>\n",
       "    </tr>\n",
       "    <tr>\n",
       "      <th>4</th>\n",
       "      <td>&lt;http://dbpedia.org/resource/G-Enka&gt;</td>\n",
       "      <td>G-Enka</td>\n",
       "      <td>henry krvits born 30 december 1974 in tallinn ...</td>\n",
       "    </tr>\n",
       "  </tbody>\n",
       "</table>\n",
       "</div>"
      ],
      "text/plain": [
       "                                                 URI                 name  \\\n",
       "0        <http://dbpedia.org/resource/Digby_Morrell>        Digby Morrell   \n",
       "1       <http://dbpedia.org/resource/Alfred_J._Lewy>       Alfred J. Lewy   \n",
       "2        <http://dbpedia.org/resource/Harpdog_Brown>        Harpdog Brown   \n",
       "3  <http://dbpedia.org/resource/Franz_Rottensteiner>  Franz Rottensteiner   \n",
       "4               <http://dbpedia.org/resource/G-Enka>               G-Enka   \n",
       "\n",
       "                                                text  \n",
       "0  digby morrell born 10 october 1979 is a former...  \n",
       "1  alfred j lewy aka sandy lewy graduated from un...  \n",
       "2  harpdog brown is a singer and harmonica player...  \n",
       "3  franz rottensteiner born in waidmannsfeld lowe...  \n",
       "4  henry krvits born 30 december 1974 in tallinn ...  "
      ]
     },
     "execution_count": 2,
     "metadata": {},
     "output_type": "execute_result"
    }
   ],
   "source": [
    "wiki = pd.read_csv('people_wiki.csv')\n",
    "wiki.head()"
   ]
  },
  {
   "cell_type": "markdown",
   "metadata": {},
   "source": [
    "If you want to check whether the text on the webpage agrees with the one here, you can display it with the following code:"
   ]
  },
  {
   "cell_type": "code",
   "execution_count": null,
   "metadata": {
    "collapsed": true
   },
   "outputs": [
    {
     "name": "stdout",
     "output_type": "stream",
     "text": [
      "digby morrell born 10 october 1979 is a former australian rules footballer who played with the kangaroos and carlton in the australian football league aflfrom western australia morrell played his early senior football for west perth his 44game senior career for the falcons spanned 19982000 and he was the clubs leading goalkicker in 2000 at the age of 21 morrell was recruited to the australian football league by the kangaroos football club with its third round selection in the 2001 afl rookie draft as a forward he twice kicked five goals during his time with the kangaroos the first was in a losing cause against sydney in 2002 and the other the following season in a drawn game against brisbaneafter the 2003 season morrell was traded along with david teague to the carlton football club in exchange for corey mckernan he played 32 games for the blues before being delisted at the end of 2005 he continued to play victorian football league vfl football with the northern bullants carltons vflaffiliate in 2006 and acted as playing assistant coach in 2007 in 2008 he shifted to the box hill hawks before retiring from playing at the end of the season from 2009 until 2013 morrell was the senior coach of the strathmore football club in the essendon district football league leading the club to the 2011 premier division premiership since 2014 he has coached the west coburg football club also in the edflhe currently teaches physical education at parade college in melbourne\n"
     ]
    },
    {
     "data": {
      "text/html": [
       "<!DOCTYPE html>\n",
       "<html\n",
       "    prefix=\"\n",
       "        dbp: http://dbpedia.org/property/\n",
       "        dbo: http://dbedia.org/ontology/\n",
       "        dct: http://purl.org/dc/terms/\n",
       "        dbd: http://dbpedia.org/datatype/\n",
       "\tog:  https://ogp.me/ns#\n",
       "\t\"\n",
       ">\n",
       "\n",
       "\n",
       "<!-- header -->\n",
       "<head>\n",
       "    <meta charset=\"utf-8\" />\n",
       "    <meta name=\"viewport\" content=\"width=device-width, initial-scale=1\" />\n",
       "\n",
       "    <title>About: Digby Morrell</title>\n",
       "\n",
       "    <!-- Links -->\n",
       "    <link rel=\"alternate\" type=\"application/rdf+xml\" \t\thref=\"http://dbpedia.org/data/Digby_Morrell.rdf\" title=\"Structured Descriptor Document (RDF/XML format)\" />\n",
       "    <link rel=\"alternate\" type=\"text/n3\" \t\t\thref=\"http://dbpedia.org/data/Digby_Morrell.n3\" title=\"Structured Descriptor Document (N3 format)\" />\n",
       "    <link rel=\"alternate\" type=\"text/turtle\" \t\t\thref=\"http://dbpedia.org/data/Digby_Morrell.ttl\" title=\"Structured Descriptor Document (Turtle format)\" />\n",
       "    <link rel=\"alternate\" type=\"application/json+rdf\" \t\thref=\"http://dbpedia.org/data/Digby_Morrell.jrdf\" title=\"Structured Descriptor Document (RDF/JSON format)\" />\n",
       "    <link rel=\"alternate\" type=\"application/json\" \t\thref=\"http://dbpedia.org/data/Digby_Morrell.json\" title=\"Structured Descriptor Document (RDF/JSON format)\" />\n",
       "    <link rel=\"alternate\" type=\"application/atom+xml\" \t\thref=\"http://dbpedia.org/data/Digby_Morrell.atom\" title=\"OData (Atom+Feed format)\" />\n",
       "    <link rel=\"alternate\" type=\"text/plain\" \t\t\thref=\"http://dbpedia.org/data/Digby_Morrell.ntriples\" title=\"Structured Descriptor Document (N-Triples format)\" />\n",
       "    <link rel=\"alternate\" type=\"text/csv\"   \t\t\thref=\"http://dbpedia.org/sparql?default-graph-uri=http%3A%2F%2Fdbpedia.org&amp;query=DESCRIBE%20%3Chttp%3A%2F%2Fdbpedia.org%2Fresource%2FDigby_Morrell%3E&amp;format=text%2Fcsv\" title=\"Structured Descriptor Document (CSV format)\" />\n",
       "    \n",
       "    <link rel=\"alternate\" type=\"application/microdata+json\"\thref=\"http://dbpedia.org/sparql?default-graph-uri=http%3A%2F%2Fdbpedia.org&amp;query=DESCRIBE%20%3Chttp%3A%2F%2Fdbpedia.org%2Fresource%2FDigby_Morrell%3E&amp;format=application%2Fmicrodata%2Bjson\" title=\"Structured Descriptor Document (Microdata/JSON format)\" />\n",
       "    <link rel=\"alternate\" type=\"text/html\" \t\t\thref=\"http://dbpedia.org/sparql?default-graph-uri=http%3A%2F%2Fdbpedia.org&amp;query=DESCRIBE%20%3Chttp%3A%2F%2Fdbpedia.org%2Fresource%2FDigby_Morrell%3E&amp;format=text%2Fhtml\" title=\"Structured Descriptor Document (Microdata/HTML format)\" />\n",
       "    <link rel=\"alternate\" type=\"application/ld+json\" \t\thref=\"http://dbpedia.org/sparql?default-graph-uri=http%3A%2F%2Fdbpedia.org&amp;query=DESCRIBE%20%3Chttp%3A%2F%2Fdbpedia.org%2Fresource%2FDigby_Morrell%3E&amp;format=application%2Fld%2Bjson\" title=\"Structured Descriptor Document (JSON-LD format)\" />\n",
       "    <link rel=\"alternate\" type=\"text/x-html-script-ld+json\"\thref=\"http://dbpedia.org/sparql?default-graph-uri=http%3A%2F%2Fdbpedia.org&amp;query=DESCRIBE%20%3Chttp%3A%2F%2Fdbpedia.org%2Fresource%2FDigby_Morrell%3E&amp;format=text%2Fx-html-script-ld%2Bjson\" title=\"Structured Descriptor Document (HTML with embedded JSON-LD)\" />\n",
       "    <link rel=\"alternate\" type=\"text/x-html-script-turtle\"\thref=\"http://dbpedia.org/sparql?default-graph-uri=http%3A%2F%2Fdbpedia.org&amp;query=DESCRIBE%20%3Chttp%3A%2F%2Fdbpedia.org%2Fresource%2FDigby_Morrell%3E&amp;format=text%2Fx-html-script-turtle\" title=\"Structured Descriptor Document (HTML with embedded Turtle)\" />\n",
       "    <link rel=\"timegate\" type=\"text/html\" \t\t\thref=\"http://dbpedia.mementodepot.org/timegate/http://dbpedia.org/page/Digby_Morrell\" title=\"Time Machine\" />\n",
       "    <link rel=\"foaf:primarytopic\" \t\t\t\thref=\"http://dbpedia.org/resource/Digby_Morrell\"/>\n",
       "    <link rev=\"describedby\" \t\t\t\t\thref=\"http://dbpedia.org/resource/Digby_Morrell\"/>\n",
       "    <!-- /Links -->\n",
       "\n",
       "    <!-- Stylesheets -->\n",
       "    <link rel=\"stylesheet\" href=\"https://cdnjs.cloudflare.com/ajax/libs/bootstrap/5.2.1/css/bootstrap.min.css\"\n",
       "\tintegrity=\"sha512-siwe/oXMhSjGCwLn+scraPOWrJxHlUgMBMZXdPe2Tnk3I0x3ESCoLz7WZ5NTH6SZrywMY+PB1cjyqJ5jAluCOg==\"\n",
       "\tcrossorigin=\"anonymous\" />\n",
       "    <link rel=\"stylesheet\" href=\"https://cdnjs.cloudflare.com/ajax/libs/bootstrap-icons/1.9.1/font/bootstrap-icons.min.css\"\n",
       "\tintegrity=\"sha512-5PV92qsds/16vyYIJo3T/As4m2d8b6oWYfoqV+vtizRB6KhF1F9kYzWzQmsO6T3z3QG2Xdhrx7FQ+5R1LiQdUA==\"\n",
       "\tcrossorigin=\"anonymous\" />\n",
       "    <!-- link rel=\"stylesheet\" href=\"/statics/css/dbpedia.css\" -->\n",
       "    <!-- /Stylesheets-->\n",
       "\n",
       "    <!-- OpenGraph -->\n",
       "    <meta property=\"og:title\"       content=\"Digby Morrell\" />\n",
       "    <meta property=\"og:type\"        content=\"article\" />\n",
       "    <meta property=\"og:url\"         content=\"http://dbpedia.org/resource/Digby_Morrell\" />\n",
       "    <meta property=\"og:image\"       content=\"/statics/images/dbpedia_logo.png\" />\n",
       "    <meta property=\"og:description\" content=\"Digby Morrell (born 10 October 1979) is a former Australian rules footballer who played with the Kangaroos and Carlton in the Australian Football League (AFL). From Western Australia, Morrell played his early senior football for West Perth. His 44-game senior career for the Falcons spanned 1998–2000, and he was the club&#39;s leading goalkicker in 2000. At the age of 21, Morrell was recruited to the Australian Football League by the Kangaroos Football Club with its third round selection in the 2001 AFL Rookie Draft. As a forward he twice kicked five goals during his time with the Kangaroos. The first was in a losing cause against Sydney in 2002 and the other the following season in a drawn game against Brisbane.\" />\n",
       "    <meta property=\"og:site_name\"   content=\"DBpedia\" />\n",
       "    <!-- /OpenGraph-->\n",
       "</head>\n",
       "<body about=\"http://dbpedia.org/resource/Digby_Morrell\">\n",
       "\n",
       "<!-- navbar -->\n",
       "<nav class=\"navbar navbar-expand-md navbar-light bg-light fixed-top align-items-center\">\n",
       "    <div class=\"container-xl\">\n",
       "\t<a class=\"navbar-brand\" href=\"http://wiki.dbpedia.org/about\" title=\"About DBpedia\" style=\"color: #2c5078\">\n",
       "\t    <img class=\"img-fluid\" src=\"/statics/images/dbpedia_logo_land_120.png\" alt=\"About DBpedia\" />\n",
       "\t</a>\n",
       "\t<button class=\"navbar-toggler\" type=\"button\" data-bs-toggle=\"collapse\" data-bs-target=\"#dbp-navbar\" aria-controls=\"dbp-navbar\" aria-expanded=\"false\" aria-label=\"Toggle navigation\">\n",
       "\t    <span class=\"navbar-toggler-icon\"></span>\n",
       "\t</button>\n",
       "\n",
       "\t<div class=\"collapse navbar-collapse\" id=\"dbp-navbar\">\n",
       "\t    <ul class=\"navbar-nav me-auto mb-2 mb-lg-0\">\n",
       "\t\t<li class=\"nav-item dropdown\">\n",
       "\t\t    <a class=\"nav-link dropdown-toggle\" href=\"#\" id=\"navbarDropdownBrowse\" role=\"button\" data-bs-toggle=\"dropdown\" aria-expanded=\"false\">\n",
       "\t\t    <i class=\"bi-eye-fill\"></i> Browse using<span class=\"caret\"></span></a>\n",
       "\n",
       "\t\t    <ul class=\"dropdown-menu\" aria-labelledby=\"navbarDropdownBrowse\">\n",
       "\t\t\t<li class=\"dropdown-item\"><a class=\"nav-link\" href=\"/describe/?uri=http%3A%2F%2Fdbpedia.org%2Fresource%2FDigby_Morrell\">OpenLink Faceted Browser</a></li>\n",
       "\t\t\t<li class=\"dropdown-item\"><a class=\"nav-link\" href=\"http://osde.demo.openlinksw.com/#/editor?uri=http%3A%2F%2Fdbpedia.org%2Fdata%2FDigby_Morrell.ttl&amp;view=statements\">OpenLink Structured Data Editor</a></li>\n",
       "\t\t\t<li class=\"dropdown-item\"><a class=\"nav-link\" href=\"http://en.lodlive.it/?http%3A%2F%2Fdbpedia.org%2Fresource%2FDigby_Morrell\">LodLive Browser</a></li>\n",
       "\t\t\t<!-- li class=\"dropdown-item\"><a class=\"nav-link\" href=\"http://lodmilla.sztaki.hu/lodmilla/?url=http%3A%2F%2Fdbpedia.org%2Fresource%2FDigby_Morrell\">LODmilla Browser</a></li -->\n",
       "\t\t    </ul>\n",
       "\t\t</li>\n",
       "\n",
       "\t\t<li class=\"nav-item dropdown\">\n",
       "\t\t    <a class=\"nav-link dropdown-toggle\" href=\"#\" id=\"navbarDropdownFormats\" role=\"button\" data-bs-toggle=\"dropdown\" aria-expanded=\"false\">\n",
       "\t\t    <i class=\"bi-file-earmark-fill\"></i> Formats<span class=\"caret\"></span></a>\n",
       "\n",
       "\t\t    <ul class=\"dropdown-menu\" aria-labelledby=\"navbarDropdownFormats\">\n",
       "\t\t\t<li class=\"dropdown-item-text\">RDF:</li>\n",
       "\t\t\t<li><a class=\"dropdown-item\" href=\"http://dbpedia.org/data/Digby_Morrell.ntriples\">N-Triples</a></li>\n",
       "\t\t\t<li><a class=\"dropdown-item\" href=\"http://dbpedia.org/data/Digby_Morrell.n3\">N3</a></li>\n",
       "\t\t\t<li><a class=\"dropdown-item\" href=\"http://dbpedia.org/data/Digby_Morrell.ttl\">Turtle</a></li>\n",
       "\t\t\t<li><a class=\"dropdown-item\" href=\"http://dbpedia.org/data/Digby_Morrell.json\">JSON</a></li>\n",
       "\t\t\t<li><a class=\"dropdown-item\" href=\"http://dbpedia.org/data/Digby_Morrell.rdf\">XML</a></li>\n",
       "\t\t\t<li class=\"dropdown-divider\"></li>\n",
       "\t\t\t<li class=\"dropdown-item-text\">OData:</li>\n",
       "\t\t\t<li><a class=\"dropdown-item\" href=\"http://dbpedia.org/data/Digby_Morrell.atom\">Atom</a></li>\n",
       "\t\t\t<li><a class=\"dropdown-item\" href=\"http://dbpedia.org/data/Digby_Morrell.jsod\">JSON</a></li>\n",
       "\t\t\t<li class=\"dropdown-divider\"></li>\n",
       "\t\t\t<li class=\"dropdown-item-text\">Microdata:</li>\n",
       "\t\t\t<li><a class=\"dropdown-item\" href=\"http://dbpedia.org/sparql?default-graph-uri=http%3A%2F%2Fdbpedia.org&amp;query=DESCRIBE%20%3Chttp%3A%2F%2Fdbpedia.org%2Fresource%2FDigby_Morrell%3E&amp;format=application%2Fmicrodata%2Bjson\">JSON</a></li>\n",
       "\t\t\t<li><a class=\"dropdown-item\" href=\"http://dbpedia.org/sparql?default-graph-uri=http%3A%2F%2Fdbpedia.org&amp;query=DESCRIBE%20%3Chttp%3A%2F%2Fdbpedia.org%2Fresource%2FDigby_Morrell%3E&amp;format=text%2Fhtml\">HTML</a></li>\n",
       "\t\t\t<li class=\"dropdown-divider\"></li>\n",
       "\t\t\t<li class=\"dropdown-item-text\">Embedded:</li>\n",
       "\t\t\t<li><a class=\"dropdown-item\" href=\"http://dbpedia.org/sparql?default-graph-uri=http%3A%2F%2Fdbpedia.org&amp;query=DESCRIBE%20%3Chttp%3A%2F%2Fdbpedia.org%2Fresource%2FDigby_Morrell%3E&amp;format=text%2Fx-html-script-ld%2Bjson\">JSON</a></li>\n",
       "\t\t\t<li><a class=\"dropdown-item\" href=\"http://dbpedia.org/sparql?default-graph-uri=http%3A%2F%2Fdbpedia.org&amp;query=DESCRIBE%20%3Chttp%3A%2F%2Fdbpedia.org%2Fresource%2FDigby_Morrell%3E&amp;format=text%2Fx-html-script-turtle\">Turtle</a></li>\n",
       "\t\t\t<li class=\"dropdown-divider\"></li>\n",
       "\t\t\t<li class=\"dropdown-item-text\">Other:</li>\n",
       "\t\t\t<li><a class=\"dropdown-item\" href=\"http://dbpedia.org/sparql?default-graph-uri=http%3A%2F%2Fdbpedia.org&amp;query=DESCRIBE%20%3Chttp%3A%2F%2Fdbpedia.org%2Fresource%2FDigby_Morrell%3E&amp;format=text%2Fcsv\">CSV</a></li>\n",
       "\t\t\t<li><a class=\"dropdown-item\" href=\"http://dbpedia.org/sparql?default-graph-uri=http%3A%2F%2Fdbpedia.org&amp;query=DESCRIBE%20%3Chttp%3A%2F%2Fdbpedia.org%2Fresource%2FDigby_Morrell%3E&amp;format=application%2Fld%2Bjson\">JSON-LD</a></li>\n",
       "\n",
       "\t\t    </ul>\n",
       "\t\t</li>\n",
       "\t    </ul>\n",
       "\n",
       "\t    <ul class=\"navbar-nav ms-auto\">\n",
       "\t\t<li class=\"nav-item\">\n",
       "\t\t    <a class=\"nav-link\" href=\"/fct/\" title=\"Switch to /fct endpoint\"><i class=\"bi-box-arrow-up-right\"></i> Faceted Browser </a>\n",
       "\t\t</li>\n",
       "\n",
       "\t\t<li class=\"nav-item\">\n",
       "\t\t    <a class=\"nav-link\" href=\"/sparql/\" title=\"Switch to /sparql endpoint\"><i class=\"bi-box-arrow-up-right\"></i> Sparql Endpoint </a>\n",
       "\t\t</li>\n",
       "\n",
       "\t    </ul>\n",
       "\t</div>\n",
       "   </div>\n",
       "</nav>\n",
       "<div style=\"margin-bottom: 60px\"></div>\n",
       "<!-- /navbar -->\n",
       "\n",
       "\n",
       "<!-- page-header -->\n",
       "<section>\n",
       "    <div class=\"container-xl\">\n",
       "\t<div class=\"row\">\n",
       "\t    <div class=\"col\">\n",
       "\t\t<h1 id=\"title\" class=\"display-6\"><b>About:</b>\n",
       "\t\t    <a href=\"http://dbpedia.org/resource/Digby_Morrell\">Digby Morrell</a>\n",
       "\t\t</h1>\n",
       "\t    </div>\n",
       "\t</div>\n",
       "\t<div class=\"row\">\n",
       "\t    <div class=\"col\">\n",
       "\t\t<div class=\"text-muted\">\n",
       "\t\t    <span class=\"text-nowrap\">An Entity of Type: <a href=\"http://dbpedia.org/ontology/Animal\">animal</a>, </span>\n",
       "\t\t    <span class=\"text-nowrap\">from Named Graph:  <a href=\"http://dbpedia.org\">http://dbpedia.org</a>, </span>\n",
       "\t\t    <span class=\"text-nowrap\">within Data Space: <a href=\"http://dbpedia.org\">dbpedia.org</a></span>\n",
       "\t\t</div>\n",
       "\t    </div>\n",
       "\t</div>\n",
       "\t<div class=\"row pt-2\">\n",
       "\t    <div class=\"col-xs-9 col-sm-10\">\n",
       "\t\t<p class=\"lead\">Digby Morrell (born 10 October 1979) is a former Australian rules footballer who played with the Kangaroos and Carlton in the Australian Football League (AFL). From Western Australia, Morrell played his early senior football for West Perth. His 44-game senior career for the Falcons spanned 1998–2000, and he was the club&#39;s leading goalkicker in 2000. At the age of 21, Morrell was recruited to the Australian Football League by the Kangaroos Football Club with its third round selection in the 2001 AFL Rookie Draft. As a forward he twice kicked five goals during his time with the Kangaroos. The first was in a losing cause against Sydney in 2002 and the other the following season in a drawn game against Brisbane.</p>\n",
       "\t    </div>\n",
       "\n",
       "\t</div>\n",
       "    </div>\n",
       "</section>\n",
       "<!-- page-header -->\n",
       "\n",
       "<!-- property-table -->\n",
       "<section>\n",
       "    <div class=\"container-xl\">\n",
       "\t<div class=\"row\">\n",
       "\t    <div class=\"table-responsive\">\n",
       "\t\t<table class=\"table table-hover table-sm table-light\">\n",
       "\t\t    <thead>\n",
       "\t\t\t<tr>\n",
       "\t\t\t    <th class=\"col-xs-3 \">Property</th>\n",
       "\t\t\t    <th class=\"col-xs-9 px-3\">Value</th>\n",
       "\t\t\t</tr>\n",
       "\t\t    </thead>\n",
       "\t\t    <tbody>\n",
       "<tr class=\"odd\"><td class=\"col-2\"><a class=\"uri\" href=\"http://dbpedia.org/ontology/Person/height\"><small>dbo:</small>Person/height</a>\n",
       "</td><td class=\"col-10 text-break\"><ul>\n",
       "\t<li><span class=\"literal\"><span property=\"ns0:height\" prefix=\"ns0: http://dbpedia.org/ontology/Person/\" datatype=\"dbd:centimetre\" >191.0</span></span></li>\n",
       "</ul></td></tr><tr class=\"even\"><td class=\"col-2\"><a class=\"uri\" href=\"http://dbpedia.org/ontology/Person/weight\"><small>dbo:</small>Person/weight</a>\n",
       "</td><td class=\"col-10 text-break\"><ul>\n",
       "\t<li><span class=\"literal\"><span property=\"ns1:weight\" prefix=\"ns1: http://dbpedia.org/ontology/Person/\" datatype=\"dbd:kilogram\" >97.0</span></span></li>\n",
       "</ul></td></tr><tr class=\"odd\"><td class=\"col-2\"><a class=\"uri\" href=\"http://dbpedia.org/ontology/abstract\"><small>dbo:</small>abstract</a>\n",
       "</td><td class=\"col-10 text-break\"><ul>\n",
       "\t<li><span class=\"literal\"><span property=\"dbo:abstract\" lang=\"en\" >Digby Morrell (born 10 October 1979) is a former Australian rules footballer who played with the Kangaroos and Carlton in the Australian Football League (AFL). From Western Australia, Morrell played his early senior football for West Perth. His 44-game senior career for the Falcons spanned 1998–2000, and he was the club&#39;s leading goalkicker in 2000. At the age of 21, Morrell was recruited to the Australian Football League by the Kangaroos Football Club with its third round selection in the 2001 AFL Rookie Draft. As a forward he twice kicked five goals during his time with the Kangaroos. The first was in a losing cause against Sydney in 2002 and the other the following season in a drawn game against Brisbane. After the 2003 season, Morrell was traded, along with David Teague, to the Carlton Football Club in exchange for Corey McKernan. He played 32 games for the Blues before being delisted at the end of 2005. He continued to play Victorian Football League (VFL) football with the Northern Bullants, Carlton&#39;s VFL-affiliate in 2006, and acted as playing assistant coach in 2007. In 2008, he shifted to the Box Hill Hawks, before retiring from playing at the end of the season. From 2009 until 2013, Morrell was the senior coach of the Strathmore Football Club in the Essendon District Football League, leading the club to the 2011 Premier Division premiership.from 2014 - 2018 he was the senior coach of the West Coburg Football Club, also in the EDFL.In September 2018 he was appointed new coach of the Pascoe Vale Football Club. He currently teaches physical education at the Parade College Bundoora campus in Melbourne.</span><small> (en)</small></span></li>\n",
       "</ul></td></tr><tr class=\"even\"><td class=\"col-2\"><a class=\"uri\" href=\"http://dbpedia.org/ontology/birthDate\"><small>dbo:</small>birthDate</a>\n",
       "</td><td class=\"col-10 text-break\"><ul>\n",
       "\t<li><span class=\"literal\"><span property=\"dbo:birthDate\" datatype=\"xsd:date\" >1979-10-10</span><small> (xsd:date)</small></span></li>\n",
       "</ul></td></tr><tr class=\"odd\"><td class=\"col-2\"><a class=\"uri\" href=\"http://dbpedia.org/ontology/careerStation\"><small>dbo:</small>careerStation</a>\n",
       "</td><td class=\"col-10 text-break\"><ul>\n",
       "\t<li><span class=\"literal\"><a class=\"uri\" rel=\"dbo:careerStation\" resource=\"http://dbpedia.org/resource/Digby_Morrell__CareerStation__1\"  href=\"http://dbpedia.org/resource/Digby_Morrell__CareerStation__1\"><small>dbr</small>:Digby_Morrell__CareerStation__1</a></span></li>\n",
       "\t<li><span class=\"literal\"><a class=\"uri\" rel=\"dbo:careerStation\" resource=\"http://dbpedia.org/resource/Digby_Morrell__CareerStation__2\"  href=\"http://dbpedia.org/resource/Digby_Morrell__CareerStation__2\"><small>dbr</small>:Digby_Morrell__CareerStation__2</a></span></li>\n",
       "</ul></td></tr><tr class=\"even\"><td class=\"col-2\"><a class=\"uri\" href=\"http://dbpedia.org/ontology/debutTeam\"><small>dbo:</small>debutTeam</a>\n",
       "</td><td class=\"col-10 text-break\"><ul>\n",
       "\t<li><span class=\"literal\"><a class=\"uri\" rel=\"dbo:debutTeam\" resource=\"http://dbpedia.org/resource/North_Melbourne_Football_Club\"  href=\"http://dbpedia.org/resource/North_Melbourne_Football_Club\"><small>dbr</small>:North_Melbourne_Football_Club</a></span></li>\n",
       "</ul></td></tr><tr class=\"odd\"><td class=\"col-2\"><a class=\"uri\" href=\"http://dbpedia.org/ontology/height\"><small>dbo:</small>height</a>\n",
       "</td><td class=\"col-10 text-break\"><ul>\n",
       "\t<li><span class=\"literal\"><span property=\"dbo:height\" datatype=\"xsd:double\" >1.910000</span><small> (xsd:double)</small></span></li>\n",
       "</ul></td></tr><tr class=\"even\"><td class=\"col-2\"><a class=\"uri\" href=\"http://dbpedia.org/ontology/weight\"><small>dbo:</small>weight</a>\n",
       "</td><td class=\"col-10 text-break\"><ul>\n",
       "\t<li><span class=\"literal\"><span property=\"dbo:weight\" datatype=\"xsd:double\" >97000.000000</span><small> (xsd:double)</small></span></li>\n",
       "</ul></td></tr><tr class=\"odd\"><td class=\"col-2\"><a class=\"uri\" href=\"http://dbpedia.org/ontology/wikiPageID\"><small>dbo:</small>wikiPageID</a>\n",
       "</td><td class=\"col-10 text-break\"><ul>\n",
       "\t<li><span class=\"literal\"><span property=\"dbo:wikiPageID\" datatype=\"xsd:integer\" >12660423</span><small> (xsd:integer)</small></span></li>\n",
       "</ul></td></tr><tr class=\"even\"><td class=\"col-2\"><a class=\"uri\" href=\"http://dbpedia.org/ontology/wikiPageLength\"><small>dbo:</small>wikiPageLength</a>\n",
       "</td><td class=\"col-10 text-break\"><ul>\n",
       "\t<li><span class=\"literal\"><span property=\"dbo:wikiPageLength\" datatype=\"xsd:nonNegativeInteger\" >4013</span><small> (xsd:nonNegativeInteger)</small></span></li>\n",
       "</ul></td></tr><tr class=\"odd\"><td class=\"col-2\"><a class=\"uri\" href=\"http://dbpedia.org/ontology/wikiPageRevisionID\"><small>dbo:</small>wikiPageRevisionID</a>\n",
       "</td><td class=\"col-10 text-break\"><ul>\n",
       "\t<li><span class=\"literal\"><span property=\"dbo:wikiPageRevisionID\" datatype=\"xsd:integer\" >1108573112</span><small> (xsd:integer)</small></span></li>\n",
       "</ul></td></tr><tr class=\"even\"><td class=\"col-2\"><a class=\"uri\" href=\"http://dbpedia.org/ontology/wikiPageWikiLink\"><small>dbo:</small>wikiPageWikiLink</a>\n",
       "</td><td class=\"col-10 text-break\"><ul>\n",
       "\t<li><span class=\"literal\"><a class=\"uri\" rel=\"dbo:wikiPageWikiLink\" resource=\"http://dbpedia.org/resource/Carlton_Football_Club\"  href=\"http://dbpedia.org/resource/Carlton_Football_Club\"><small>dbr</small>:Carlton_Football_Club</a></span></li>\n",
       "\t<li><span class=\"literal\"><a class=\"uri\" rel=\"dbo:wikiPageWikiLink\" resource=\"http://dbpedia.org/resource/Category:1979_births\"  href=\"http://dbpedia.org/resource/Category:1979_births\"><small>dbc</small>:1979_births</a></span></li>\n",
       "\t<li><span class=\"literal\"><a class=\"uri\" rel=\"dbo:wikiPageWikiLink\" resource=\"http://dbpedia.org/resource/David_Teague_(footballer)\"  href=\"http://dbpedia.org/resource/David_Teague_(footballer)\"><small>dbr</small>:David_Teague_(footballer)</a></span></li>\n",
       "\t<li><span class=\"literal\"><a class=\"uri\" rel=\"dbo:wikiPageWikiLink\" resource=\"http://dbpedia.org/resource/Victorian_Football_League\"  href=\"http://dbpedia.org/resource/Victorian_Football_League\"><small>dbr</small>:Victorian_Football_League</a></span></li>\n",
       "\t<li><span class=\"literal\"><a class=\"uri\" rel=\"dbo:wikiPageWikiLink\" resource=\"http://dbpedia.org/resource/Category:Living_people\"  href=\"http://dbpedia.org/resource/Category:Living_people\"><small>dbc</small>:Living_people</a></span></li>\n",
       "\t<li><span class=\"literal\"><a class=\"uri\" rel=\"dbo:wikiPageWikiLink\" resource=\"http://dbpedia.org/resource/Corey_McKernan\"  href=\"http://dbpedia.org/resource/Corey_McKernan\"><small>dbr</small>:Corey_McKernan</a></span></li>\n",
       "\t<li><span class=\"literal\"><a class=\"uri\" rel=\"dbo:wikiPageWikiLink\" resource=\"http://dbpedia.org/resource/Strathmore_Football_Club\"  href=\"http://dbpedia.org/resource/Strathmore_Football_Club\"><small>dbr</small>:Strathmore_Football_Club</a></span></li>\n",
       "\t<li><span class=\"literal\"><a class=\"uri\" rel=\"dbo:wikiPageWikiLink\" resource=\"http://dbpedia.org/resource/Australian_Football_League\"  href=\"http://dbpedia.org/resource/Australian_Football_League\"><small>dbr</small>:Australian_Football_League</a></span></li>\n",
       "\t<li><span class=\"literal\"><a class=\"uri\" rel=\"dbo:wikiPageWikiLink\" resource=\"http://dbpedia.org/resource/2000_AFL_Draft\"  href=\"http://dbpedia.org/resource/2000_AFL_Draft\"><small>dbr</small>:2000_AFL_Draft</a></span></li>\n",
       "\t<li><span class=\"literal\"><a class=\"uri\" rel=\"dbo:wikiPageWikiLink\" resource=\"http://dbpedia.org/resource/West_Australian_Football_League\"  href=\"http://dbpedia.org/resource/West_Australian_Football_League\"><small>dbr</small>:West_Australian_Football_League</a></span></li>\n",
       "\t<li><span class=\"literal\"><a class=\"uri\" rel=\"dbo:wikiPageWikiLink\" resource=\"http://dbpedia.org/resource/West_Coburg_Football_Club\"  href=\"http://dbpedia.org/resource/West_Coburg_Football_Club\"><small>dbr</small>:West_Coburg_Football_Club</a></span></li>\n",
       "\t<li><span class=\"literal\"><a class=\"uri\" rel=\"dbo:wikiPageWikiLink\" resource=\"http://dbpedia.org/resource/West_Perth_Football_Club\"  href=\"http://dbpedia.org/resource/West_Perth_Football_Club\"><small>dbr</small>:West_Perth_Football_Club</a></span></li>\n",
       "\t<li><span class=\"literal\"><a class=\"uri\" rel=\"dbo:wikiPageWikiLink\" resource=\"http://dbpedia.org/resource/Essendon_District_Football_League\"  href=\"http://dbpedia.org/resource/Essendon_District_Football_League\"><small>dbr</small>:Essendon_District_Football_League</a></span></li>\n",
       "\t<li><span class=\"literal\"><a class=\"uri\" rel=\"dbo:wikiPageWikiLink\" resource=\"http://dbpedia.org/resource/North_Melbourne_Football_Club\"  href=\"http://dbpedia.org/resource/North_Melbourne_Football_Club\"><small>dbr</small>:North_Melbourne_Football_Club</a></span></li>\n",
       "\t<li><span class=\"literal\"><a class=\"uri\" rel=\"dbo:wikiPageWikiLink\" resource=\"http://dbpedia.org/resource/Parade_College\"  href=\"http://dbpedia.org/resource/Parade_College\"><small>dbr</small>:Parade_College</a></span></li>\n",
       "\t<li><span class=\"literal\"><a class=\"uri\" rel=\"dbo:wikiPageWikiLink\" resource=\"http://dbpedia.org/resource/Pascoe_Vale_Football_Club\"  href=\"http://dbpedia.org/resource/Pascoe_Vale_Football_Club\"><small>dbr</small>:Pascoe_Vale_Football_Club</a></span></li>\n",
       "\t<li><span class=\"literal\"><a class=\"uri\" rel=\"dbo:wikiPageWikiLink\" resource=\"http://dbpedia.org/resource/Category:Australian_rules_footballers_from_Western_Australia\"  href=\"http://dbpedia.org/resource/Category:Australian_rules_footballers_from_Western_Australia\"><small>dbc</small>:Australian_rules_footballers_from_Western_Australia</a></span></li>\n",
       "\t<li><span class=\"literal\"><a class=\"uri\" rel=\"dbo:wikiPageWikiLink\" resource=\"http://dbpedia.org/resource/Category:Box_Hill_Football_Club_players\"  href=\"http://dbpedia.org/resource/Category:Box_Hill_Football_Club_players\"><small>dbc</small>:Box_Hill_Football_Club_players</a></span></li>\n",
       "\t<li><span class=\"literal\"><a class=\"uri\" rel=\"dbo:wikiPageWikiLink\" resource=\"http://dbpedia.org/resource/Category:Carlton_Football_Club_players\"  href=\"http://dbpedia.org/resource/Category:Carlton_Football_Club_players\"><small>dbc</small>:Carlton_Football_Club_players</a></span></li>\n",
       "\t<li><span class=\"literal\"><a class=\"uri\" rel=\"dbo:wikiPageWikiLink\" resource=\"http://dbpedia.org/resource/Category:North_Melbourne_Football_Club_players\"  href=\"http://dbpedia.org/resource/Category:North_Melbourne_Football_Club_players\"><small>dbc</small>:North_Melbourne_Football_Club_players</a></span></li>\n",
       "\t<li><span class=\"literal\"><a class=\"uri\" rel=\"dbo:wikiPageWikiLink\" resource=\"http://dbpedia.org/resource/Category:Preston_Football_Club_(VFA)_players\"  href=\"http://dbpedia.org/resource/Category:Preston_Football_Club_(VFA)_players\"><small>dbc</small>:Preston_Football_Club_(VFA)_players</a></span></li>\n",
       "\t<li><span class=\"literal\"><a class=\"uri\" rel=\"dbo:wikiPageWikiLink\" resource=\"http://dbpedia.org/resource/Australian_rules_football\"  href=\"http://dbpedia.org/resource/Australian_rules_football\"><small>dbr</small>:Australian_rules_football</a></span></li>\n",
       "\t<li><span class=\"literal\"><a class=\"uri\" rel=\"dbo:wikiPageWikiLink\" resource=\"http://dbpedia.org/resource/Northern_Bullants\"  href=\"http://dbpedia.org/resource/Northern_Bullants\"><small>dbr</small>:Northern_Bullants</a></span></li>\n",
       "\t<li><span class=\"literal\"><a class=\"uri\" rel=\"dbo:wikiPageWikiLink\" resource=\"http://dbpedia.org/resource/Box_Hill_Hawks\"  href=\"http://dbpedia.org/resource/Box_Hill_Hawks\"><small>dbr</small>:Box_Hill_Hawks</a></span></li>\n",
       "</ul></td></tr><tr class=\"odd\"><td class=\"col-2\"><a class=\"uri\" href=\"http://dbpedia.org/property/birthDate\"><small>dbp:</small>birthDate</a>\n",
       "</td><td class=\"col-10 text-break\"><ul>\n",
       "\t<li><span class=\"literal\"><span property=\"dbp:birthDate\" datatype=\"xsd:date\" >1979-10-10</span><small> (xsd:date)</small></span></li>\n",
       "</ul></td></tr><tr class=\"even\"><td class=\"col-2\"><a class=\"uri\" href=\"http://dbpedia.org/property/club\"><small>dbp:</small>club</a>\n",
       "</td><td class=\"col-10 text-break\"><ul>\n",
       "\t<li><span class=\"literal\"><a class=\"uri\" rel=\"dbp:club\" resource=\"http://dbpedia.org/resource/Carlton_Football_Club\"  href=\"http://dbpedia.org/resource/Carlton_Football_Club\"><small>dbr</small>:Carlton_Football_Club</a></span></li>\n",
       "\t<li><span class=\"literal\"><a class=\"uri\" rel=\"dbp:club\" resource=\"http://dbpedia.org/resource/North_Melbourne_Football_Club\"  href=\"http://dbpedia.org/resource/North_Melbourne_Football_Club\"><small>dbr</small>:North_Melbourne_Football_Club</a></span></li>\n",
       "</ul></td></tr><tr class=\"odd\"><td class=\"col-2\"><a class=\"uri\" href=\"http://dbpedia.org/property/debutdate\"><small>dbp:</small>debutdate</a>\n",
       "</td><td class=\"col-10 text-break\"><ul>\n",
       "\t<li><span class=\"literal\"><span property=\"dbp:debutdate\" datatype=\"xsd:integer\" >2001</span><small> (xsd:integer)</small></span></li>\n",
       "</ul></td></tr><tr class=\"even\"><td class=\"col-2\"><a class=\"uri\" href=\"http://dbpedia.org/property/debutopponent\"><small>dbp:</small>debutopponent</a>\n",
       "</td><td class=\"col-10 text-break\"><ul>\n",
       "\t<li><span class=\"literal\"><span property=\"dbp:debutopponent\" lang=\"en\" >Richmond</span><small> (en)</small></span></li>\n",
       "</ul></td></tr><tr class=\"odd\"><td class=\"col-2\"><a class=\"uri\" href=\"http://dbpedia.org/property/debutstadium\"><small>dbp:</small>debutstadium</a>\n",
       "</td><td class=\"col-10 text-break\"><ul>\n",
       "\t<li><span class=\"literal\"><span property=\"dbp:debutstadium\" lang=\"en\" >Docklands</span><small> (en)</small></span></li>\n",
       "</ul></td></tr><tr class=\"even\"><td class=\"col-2\"><a class=\"uri\" href=\"http://dbpedia.org/property/debutteam\"><small>dbp:</small>debutteam</a>\n",
       "</td><td class=\"col-10 text-break\"><ul>\n",
       "\t<li><span class=\"literal\"><a class=\"uri\" rel=\"dbp:debutteam\" resource=\"http://dbpedia.org/resource/North_Melbourne_Football_Club\"  href=\"http://dbpedia.org/resource/North_Melbourne_Football_Club\"><small>dbr</small>:North_Melbourne_Football_Club</a></span></li>\n",
       "</ul></td></tr><tr class=\"odd\"><td class=\"col-2\"><a class=\"uri\" href=\"http://dbpedia.org/property/gamesGoals\"><small>dbp:</small>gamesGoals</a>\n",
       "</td><td class=\"col-10 text-break\"><ul>\n",
       "\t<li><span class=\"literal\"><span property=\"dbp:gamesGoals\" datatype=\"xsd:integer\" >32</span><small> (xsd:integer)</small></span></li>\n",
       "\t<li><span class=\"literal\"><span property=\"dbp:gamesGoals\" datatype=\"xsd:integer\" >40</span><small> (xsd:integer)</small></span></li>\n",
       "</ul></td></tr><tr class=\"even\"><td class=\"col-2\"><a class=\"uri\" href=\"http://dbpedia.org/property/gamesGoalstotal\"><small>dbp:</small>gamesGoalstotal</a>\n",
       "</td><td class=\"col-10 text-break\"><ul>\n",
       "\t<li><span class=\"literal\"><span property=\"dbp:gamesGoalstotal\" datatype=\"xsd:integer\" >72</span><small> (xsd:integer)</small></span></li>\n",
       "</ul></td></tr><tr class=\"odd\"><td class=\"col-2\"><a class=\"uri\" href=\"http://dbpedia.org/property/height\"><small>dbp:</small>height</a>\n",
       "</td><td class=\"col-10 text-break\"><ul>\n",
       "\t<li><span class=\"literal\"><span property=\"dbp:height\" datatype=\"dbd:centimetre\" >191.0</span></span></li>\n",
       "</ul></td></tr><tr class=\"even\"><td class=\"col-2\"><a class=\"uri\" href=\"http://dbpedia.org/property/name\"><small>dbp:</small>name</a>\n",
       "</td><td class=\"col-10 text-break\"><ul>\n",
       "\t<li><span class=\"literal\"><span property=\"dbp:name\" lang=\"en\" >Digby Morrell</span><small> (en)</small></span></li>\n",
       "</ul></td></tr><tr class=\"odd\"><td class=\"col-2\"><a class=\"uri\" href=\"http://dbpedia.org/property/originalteam\"><small>dbp:</small>originalteam</a>\n",
       "</td><td class=\"col-10 text-break\"><ul>\n",
       "\t<li><span class=\"literal\"><span property=\"dbp:originalteam\" lang=\"en\" >West Perth  Pingrup</span><small> (en)</small></span></li>\n",
       "</ul></td></tr><tr class=\"even\"><td class=\"col-2\"><a class=\"uri\" href=\"http://dbpedia.org/property/statsend\"><small>dbp:</small>statsend</a>\n",
       "</td><td class=\"col-10 text-break\"><ul>\n",
       "\t<li><span class=\"literal\"><span property=\"dbp:statsend\" datatype=\"xsd:integer\" >2005</span><small> (xsd:integer)</small></span></li>\n",
       "</ul></td></tr><tr class=\"odd\"><td class=\"col-2\"><a class=\"uri\" href=\"http://dbpedia.org/property/weight\"><small>dbp:</small>weight</a>\n",
       "</td><td class=\"col-10 text-break\"><ul>\n",
       "\t<li><span class=\"literal\"><span property=\"dbp:weight\" datatype=\"dbd:kilogram\" >97.0</span></span></li>\n",
       "</ul></td></tr><tr class=\"even\"><td class=\"col-2\"><a class=\"uri\" href=\"http://dbpedia.org/property/wikiPageUsesTemplate\"><small>dbp:</small>wikiPageUsesTemplate</a>\n",
       "</td><td class=\"col-10 text-break\"><ul>\n",
       "\t<li><span class=\"literal\"><a class=\"uri\" rel=\"dbp:wikiPageUsesTemplate\" resource=\"http://dbpedia.org/resource/Template:AFL_Tables\"  href=\"http://dbpedia.org/resource/Template:AFL_Tables\"><small>dbt</small>:AFL_Tables</a></span></li>\n",
       "\t<li><span class=\"literal\"><a class=\"uri\" rel=\"dbp:wikiPageUsesTemplate\" resource=\"http://dbpedia.org/resource/Template:Commons_category\"  href=\"http://dbpedia.org/resource/Template:Commons_category\"><small>dbt</small>:Commons_category</a></span></li>\n",
       "\t<li><span class=\"literal\"><a class=\"uri\" rel=\"dbp:wikiPageUsesTemplate\" resource=\"http://dbpedia.org/resource/Template:Reflist\"  href=\"http://dbpedia.org/resource/Template:Reflist\"><small>dbt</small>:Reflist</a></span></li>\n",
       "\t<li><span class=\"literal\"><a class=\"uri\" rel=\"dbp:wikiPageUsesTemplate\" resource=\"http://dbpedia.org/resource/Template:Short_description\"  href=\"http://dbpedia.org/resource/Template:Short_description\"><small>dbt</small>:Short_description</a></span></li>\n",
       "\t<li><span class=\"literal\"><a class=\"uri\" rel=\"dbp:wikiPageUsesTemplate\" resource=\"http://dbpedia.org/resource/Template:Use_Australian_English\"  href=\"http://dbpedia.org/resource/Template:Use_Australian_English\"><small>dbt</small>:Use_Australian_English</a></span></li>\n",
       "\t<li><span class=\"literal\"><a class=\"uri\" rel=\"dbp:wikiPageUsesTemplate\" resource=\"http://dbpedia.org/resource/Template:Use_dmy_dates\"  href=\"http://dbpedia.org/resource/Template:Use_dmy_dates\"><small>dbt</small>:Use_dmy_dates</a></span></li>\n",
       "\t<li><span class=\"literal\"><a class=\"uri\" rel=\"dbp:wikiPageUsesTemplate\" resource=\"http://dbpedia.org/resource/Template:Birth_date_and_age\"  href=\"http://dbpedia.org/resource/Template:Birth_date_and_age\"><small>dbt</small>:Birth_date_and_age</a></span></li>\n",
       "\t<li><span class=\"literal\"><a class=\"uri\" rel=\"dbp:wikiPageUsesTemplate\" resource=\"http://dbpedia.org/resource/Template:2001_AFL_rookie_draft\"  href=\"http://dbpedia.org/resource/Template:2001_AFL_rookie_draft\"><small>dbt</small>:2001_AFL_rookie_draft</a></span></li>\n",
       "\t<li><span class=\"literal\"><a class=\"uri\" rel=\"dbp:wikiPageUsesTemplate\" resource=\"http://dbpedia.org/resource/Template:Infobox_AFL_biography\"  href=\"http://dbpedia.org/resource/Template:Infobox_AFL_biography\"><small>dbt</small>:Infobox_AFL_biography</a></span></li>\n",
       "\t<li><span class=\"literal\"><a class=\"uri\" rel=\"dbp:wikiPageUsesTemplate\" resource=\"http://dbpedia.org/resource/Template:VFL-affiliate\"  href=\"http://dbpedia.org/resource/Template:VFL-affiliate\"><small>dbt</small>:VFL-affiliate</a></span></li>\n",
       "</ul></td></tr><tr class=\"odd\"><td class=\"col-2\"><a class=\"uri\" href=\"http://dbpedia.org/property/wordnet_type\"><small>dbp:</small>wordnet_type</a>\n",
       "</td><td class=\"col-10 text-break\"><ul>\n",
       "\t<li><span class=\"literal\"><a class=\"uri\" rel=\"dbp:wordnet_type nofollow\" resource=\"http://www.w3.org/2006/03/wn/wn20/instances/synset-football_player-noun-1\"  href=\"http://www.w3.org/2006/03/wn/wn20/instances/synset-football_player-noun-1\">http://www.w3.org/2006/03/wn/wn20/instances/synset-football_player-noun-1</a></span></li>\n",
       "</ul></td></tr><tr class=\"even\"><td class=\"col-2\"><a class=\"uri\" href=\"http://dbpedia.org/property/years\"><small>dbp:</small>years</a>\n",
       "</td><td class=\"col-10 text-break\"><ul>\n",
       "\t<li><span class=\"literal\"><span property=\"dbp:years\" datatype=\"xsd:integer\" >2001</span><small> (xsd:integer)</small></span></li>\n",
       "\t<li><span class=\"literal\"><span property=\"dbp:years\" datatype=\"xsd:integer\" >2004</span><small> (xsd:integer)</small></span></li>\n",
       "</ul></td></tr><tr class=\"odd\"><td class=\"col-2\"><a class=\"uri\" href=\"http://purl.org/dc/terms/subject\"><small>dcterms:</small>subject</a>\n",
       "</td><td class=\"col-10 text-break\"><ul>\n",
       "\t<li><span class=\"literal\"><a class=\"uri\" rel=\"dcterms:subject\" resource=\"http://dbpedia.org/resource/Category:1979_births\" prefix=\"dcterms: http://purl.org/dc/terms/\"  href=\"http://dbpedia.org/resource/Category:1979_births\"><small>dbc</small>:1979_births</a></span></li>\n",
       "\t<li><span class=\"literal\"><a class=\"uri\" rel=\"dcterms:subject\" resource=\"http://dbpedia.org/resource/Category:Living_people\" prefix=\"dcterms: http://purl.org/dc/terms/\"  href=\"http://dbpedia.org/resource/Category:Living_people\"><small>dbc</small>:Living_people</a></span></li>\n",
       "\t<li><span class=\"literal\"><a class=\"uri\" rel=\"dcterms:subject\" resource=\"http://dbpedia.org/resource/Category:Australian_rules_footballers_from_Western_Australia\" prefix=\"dcterms: http://purl.org/dc/terms/\"  href=\"http://dbpedia.org/resource/Category:Australian_rules_footballers_from_Western_Australia\"><small>dbc</small>:Australian_rules_footballers_from_Western_Australia</a></span></li>\n",
       "\t<li><span class=\"literal\"><a class=\"uri\" rel=\"dcterms:subject\" resource=\"http://dbpedia.org/resource/Category:Box_Hill_Football_Club_players\" prefix=\"dcterms: http://purl.org/dc/terms/\"  href=\"http://dbpedia.org/resource/Category:Box_Hill_Football_Club_players\"><small>dbc</small>:Box_Hill_Football_Club_players</a></span></li>\n",
       "\t<li><span class=\"literal\"><a class=\"uri\" rel=\"dcterms:subject\" resource=\"http://dbpedia.org/resource/Category:Carlton_Football_Club_players\" prefix=\"dcterms: http://purl.org/dc/terms/\"  href=\"http://dbpedia.org/resource/Category:Carlton_Football_Club_players\"><small>dbc</small>:Carlton_Football_Club_players</a></span></li>\n",
       "\t<li><span class=\"literal\"><a class=\"uri\" rel=\"dcterms:subject\" resource=\"http://dbpedia.org/resource/Category:North_Melbourne_Football_Club_players\" prefix=\"dcterms: http://purl.org/dc/terms/\"  href=\"http://dbpedia.org/resource/Category:North_Melbourne_Football_Club_players\"><small>dbc</small>:North_Melbourne_Football_Club_players</a></span></li>\n",
       "\t<li><span class=\"literal\"><a class=\"uri\" rel=\"dcterms:subject\" resource=\"http://dbpedia.org/resource/Category:Preston_Football_Club_(VFA)_players\" prefix=\"dcterms: http://purl.org/dc/terms/\"  href=\"http://dbpedia.org/resource/Category:Preston_Football_Club_(VFA)_players\"><small>dbc</small>:Preston_Football_Club_(VFA)_players</a></span></li>\n",
       "</ul></td></tr><tr class=\"even\"><td class=\"col-2\"><a class=\"uri\" href=\"http://purl.org/linguistics/gold/hypernym\"><small>gold:</small>hypernym</a>\n",
       "</td><td class=\"col-10 text-break\"><ul>\n",
       "\t<li><span class=\"literal\"><a class=\"uri\" rel=\"gold:hypernym\" resource=\"http://dbpedia.org/resource/Footballer\" prefix=\"gold: http://purl.org/linguistics/gold/\"  href=\"http://dbpedia.org/resource/Footballer\"><small>dbr</small>:Footballer</a></span></li>\n",
       "</ul></td></tr><tr class=\"odd\"><td class=\"col-2\"><a class=\"uri\" href=\"http://www.w3.org/1999/02/22-rdf-syntax-ns#type\"><small>rdf:</small>type</a>\n",
       "</td><td class=\"col-10 text-break\"><ul>\n",
       "\t<li><span class=\"literal\"><a class=\"uri\" rel=\"rdf:type\" resource=\"http://www.w3.org/2002/07/owl#Thing\"  href=\"http://www.w3.org/2002/07/owl#Thing\"><small>owl</small>:Thing</a></span></li>\n",
       "\t<li><span class=\"literal\"><a class=\"uri\" rel=\"rdf:type\" resource=\"http://xmlns.com/foaf/0.1/Person\"  href=\"http://xmlns.com/foaf/0.1/Person\"><small>foaf</small>:Person</a></span></li>\n",
       "\t<li><span class=\"literal\"><a class=\"uri\" rel=\"rdf:type\" resource=\"http://dbpedia.org/ontology/Person\"  href=\"http://dbpedia.org/ontology/Person\"><small>dbo</small>:Person</a></span></li>\n",
       "\t<li><span class=\"literal\"><a class=\"uri\" rel=\"rdf:type\" resource=\"http://www.ontologydesignpatterns.org/ont/dul/DUL.owl#NaturalPerson\"  href=\"http://www.ontologydesignpatterns.org/ont/dul/DUL.owl#NaturalPerson\"><small>dul</small>:NaturalPerson</a></span></li>\n",
       "\t<li><span class=\"literal\"><a class=\"uri\" rel=\"rdf:type\" resource=\"http://www.wikidata.org/entity/Q19088\"  href=\"http://www.wikidata.org/entity/Q19088\"><small>wikidata</small>:Q19088</a></span></li>\n",
       "\t<li><span class=\"literal\"><a class=\"uri\" rel=\"rdf:type\" resource=\"http://www.wikidata.org/entity/Q215627\"  href=\"http://www.wikidata.org/entity/Q215627\"><small>wikidata</small>:Q215627</a></span></li>\n",
       "\t<li><span class=\"literal\"><a class=\"uri\" rel=\"rdf:type\" resource=\"http://www.wikidata.org/entity/Q5\"  href=\"http://www.wikidata.org/entity/Q5\"><small>wikidata</small>:Q5</a></span></li>\n",
       "\t<li><span class=\"literal\"><a class=\"uri\" rel=\"rdf:type\" resource=\"http://www.wikidata.org/entity/Q729\"  href=\"http://www.wikidata.org/entity/Q729\"><small>wikidata</small>:Q729</a></span></li>\n",
       "\t<li><span class=\"literal\"><a class=\"uri\" rel=\"rdf:type\" resource=\"http://www.wikidata.org/entity/Q13414980\"  href=\"http://www.wikidata.org/entity/Q13414980\"><small>wikidata</small>:Q13414980</a></span></li>\n",
       "\t<li><span class=\"literal\"><a class=\"uri\" rel=\"rdf:type\" resource=\"http://dbpedia.org/class/yago/WikicatAustralianRulesFootballersFromWesternAustralia\"  href=\"http://dbpedia.org/class/yago/WikicatAustralianRulesFootballersFromWesternAustralia\"><small>yago</small>:WikicatAustralianRulesFootballersFromWesternAustralia</a></span></li>\n",
       "\t<li><span class=\"literal\"><a class=\"uri\" rel=\"rdf:type\" resource=\"http://dbpedia.org/class/yago/WikicatBoxHillFootballClubPlayers\"  href=\"http://dbpedia.org/class/yago/WikicatBoxHillFootballClubPlayers\"><small>yago</small>:WikicatBoxHillFootballClubPlayers</a></span></li>\n",
       "\t<li><span class=\"literal\"><a class=\"uri\" rel=\"rdf:type\" resource=\"http://dbpedia.org/ontology/Animal\"  href=\"http://dbpedia.org/ontology/Animal\"><small>dbo</small>:Animal</a></span></li>\n",
       "\t<li><span class=\"literal\"><a class=\"uri\" rel=\"rdf:type\" resource=\"http://dbpedia.org/ontology/Athlete\"  href=\"http://dbpedia.org/ontology/Athlete\"><small>dbo</small>:Athlete</a></span></li>\n",
       "\t<li><span class=\"literal\"><a class=\"uri\" rel=\"rdf:type\" resource=\"http://dbpedia.org/ontology/AustralianRulesFootballPlayer\"  href=\"http://dbpedia.org/ontology/AustralianRulesFootballPlayer\"><small>dbo</small>:AustralianRulesFootballPlayer</a></span></li>\n",
       "\t<li><span class=\"literal\"><a class=\"uri\" rel=\"rdf:type\" resource=\"http://dbpedia.org/ontology/Eukaryote\"  href=\"http://dbpedia.org/ontology/Eukaryote\"><small>dbo</small>:Eukaryote</a></span></li>\n",
       "\t<li><span class=\"literal\"><a class=\"uri\" rel=\"rdf:type\" resource=\"http://dbpedia.org/ontology/SoccerPlayer\"  href=\"http://dbpedia.org/ontology/SoccerPlayer\"><small>dbo</small>:SoccerPlayer</a></span></li>\n",
       "\t<li><span class=\"literal\"><a class=\"uri\" rel=\"rdf:type\" resource=\"http://dbpedia.org/ontology/Species\"  href=\"http://dbpedia.org/ontology/Species\"><small>dbo</small>:Species</a></span></li>\n",
       "\t<li><span class=\"literal\"><a class=\"uri\" rel=\"rdf:type\" resource=\"http://dbpedia.org/class/yago/WikicatCarltonFootballClubPlayers\"  href=\"http://dbpedia.org/class/yago/WikicatCarltonFootballClubPlayers\"><small>yago</small>:WikicatCarltonFootballClubPlayers</a></span></li>\n",
       "\t<li><span class=\"literal\"><a class=\"uri\" rel=\"rdf:type\" resource=\"http://schema.org/Person\"  href=\"http://schema.org/Person\"><small>schema</small>:Person</a></span></li>\n",
       "\t<li><span class=\"literal\"><a class=\"uri\" rel=\"rdf:type\" resource=\"http://dbpedia.org/class/yago/WikicatLivingPeople\"  href=\"http://dbpedia.org/class/yago/WikicatLivingPeople\"><small>yago</small>:WikicatLivingPeople</a></span></li>\n",
       "\t<li><span class=\"literal\"><a class=\"uri\" rel=\"rdf:type\" resource=\"http://dbpedia.org/class/yago/WikicatNorthMelbourneFootballClubPlayers\"  href=\"http://dbpedia.org/class/yago/WikicatNorthMelbourneFootballClubPlayers\"><small>yago</small>:WikicatNorthMelbourneFootballClubPlayers</a></span></li>\n",
       "\t<li><span class=\"literal\"><a class=\"uri\" rel=\"rdf:type\" resource=\"http://dbpedia.org/class/yago/WikicatNorthernBluesPlayers\"  href=\"http://dbpedia.org/class/yago/WikicatNorthernBluesPlayers\"><small>yago</small>:WikicatNorthernBluesPlayers</a></span></li>\n",
       "\t<li><span class=\"literal\"><a class=\"uri\" rel=\"rdf:type\" resource=\"http://dbpedia.org/class/yago/Athlete109820263\"  href=\"http://dbpedia.org/class/yago/Athlete109820263\"><small>yago</small>:Athlete109820263</a></span></li>\n",
       "\t<li><span class=\"literal\"><a class=\"uri\" rel=\"rdf:type\" resource=\"http://dbpedia.org/class/yago/CausalAgent100007347\"  href=\"http://dbpedia.org/class/yago/CausalAgent100007347\"><small>yago</small>:CausalAgent100007347</a></span></li>\n",
       "\t<li><span class=\"literal\"><a class=\"uri\" rel=\"rdf:type\" resource=\"http://dbpedia.org/class/yago/Contestant109613191\"  href=\"http://dbpedia.org/class/yago/Contestant109613191\"><small>yago</small>:Contestant109613191</a></span></li>\n",
       "\t<li><span class=\"literal\"><a class=\"uri\" rel=\"rdf:type\" resource=\"http://dbpedia.org/class/yago/FootballPlayer110101634\"  href=\"http://dbpedia.org/class/yago/FootballPlayer110101634\"><small>yago</small>:FootballPlayer110101634</a></span></li>\n",
       "\t<li><span class=\"literal\"><a class=\"uri\" rel=\"rdf:type\" resource=\"http://dbpedia.org/class/yago/LivingThing100004258\"  href=\"http://dbpedia.org/class/yago/LivingThing100004258\"><small>yago</small>:LivingThing100004258</a></span></li>\n",
       "\t<li><span class=\"literal\"><a class=\"uri\" rel=\"rdf:type\" resource=\"http://dbpedia.org/class/yago/Object100002684\"  href=\"http://dbpedia.org/class/yago/Object100002684\"><small>yago</small>:Object100002684</a></span></li>\n",
       "\t<li><span class=\"literal\"><a class=\"uri\" rel=\"rdf:type\" resource=\"http://dbpedia.org/class/yago/Organism100004475\"  href=\"http://dbpedia.org/class/yago/Organism100004475\"><small>yago</small>:Organism100004475</a></span></li>\n",
       "\t<li><span class=\"literal\"><a class=\"uri\" rel=\"rdf:type\" resource=\"http://dbpedia.org/class/yago/Person100007846\"  href=\"http://dbpedia.org/class/yago/Person100007846\"><small>yago</small>:Person100007846</a></span></li>\n",
       "\t<li><span class=\"literal\"><a class=\"uri\" rel=\"rdf:type\" resource=\"http://dbpedia.org/class/yago/PhysicalEntity100001930\"  href=\"http://dbpedia.org/class/yago/PhysicalEntity100001930\"><small>yago</small>:PhysicalEntity100001930</a></span></li>\n",
       "\t<li><span class=\"literal\"><a class=\"uri\" rel=\"rdf:type\" resource=\"http://dbpedia.org/class/yago/Player110439851\"  href=\"http://dbpedia.org/class/yago/Player110439851\"><small>yago</small>:Player110439851</a></span></li>\n",
       "\t<li><span class=\"literal\"><a class=\"uri\" rel=\"rdf:type\" resource=\"http://dbpedia.org/class/yago/YagoLegalActor\"  href=\"http://dbpedia.org/class/yago/YagoLegalActor\"><small>yago</small>:YagoLegalActor</a></span></li>\n",
       "\t<li><span class=\"literal\"><a class=\"uri\" rel=\"rdf:type\" resource=\"http://dbpedia.org/class/yago/YagoLegalActorGeo\"  href=\"http://dbpedia.org/class/yago/YagoLegalActorGeo\"><small>yago</small>:YagoLegalActorGeo</a></span></li>\n",
       "\t<li><span class=\"literal\"><a class=\"uri\" rel=\"rdf:type\" resource=\"http://dbpedia.org/class/yago/Whole100003553\"  href=\"http://dbpedia.org/class/yago/Whole100003553\"><small>yago</small>:Whole100003553</a></span></li>\n",
       "</ul></td></tr><tr class=\"even\"><td class=\"col-2\"><a class=\"uri\" href=\"http://www.w3.org/2000/01/rdf-schema#comment\"><small>rdfs:</small>comment</a>\n",
       "</td><td class=\"col-10 text-break\"><ul>\n",
       "\t<li><span class=\"literal\"><span property=\"rdfs:comment\" lang=\"en\" >Digby Morrell (born 10 October 1979) is a former Australian rules footballer who played with the Kangaroos and Carlton in the Australian Football League (AFL). From Western Australia, Morrell played his early senior football for West Perth. His 44-game senior career for the Falcons spanned 1998–2000, and he was the club&#39;s leading goalkicker in 2000. At the age of 21, Morrell was recruited to the Australian Football League by the Kangaroos Football Club with its third round selection in the 2001 AFL Rookie Draft. As a forward he twice kicked five goals during his time with the Kangaroos. The first was in a losing cause against Sydney in 2002 and the other the following season in a drawn game against Brisbane.</span><small> (en)</small></span></li>\n",
       "</ul></td></tr><tr class=\"odd\"><td class=\"col-2\"><a class=\"uri\" href=\"http://www.w3.org/2000/01/rdf-schema#label\"><small>rdfs:</small>label</a>\n",
       "</td><td class=\"col-10 text-break\"><ul>\n",
       "\t<li><span class=\"literal\"><span property=\"rdfs:label\" lang=\"en\" >Digby Morrell</span><small> (en)</small></span></li>\n",
       "</ul></td></tr><tr class=\"even\"><td class=\"col-2\"><a class=\"uri\" href=\"http://www.w3.org/2002/07/owl#sameAs\"><small>owl:</small>sameAs</a>\n",
       "</td><td class=\"col-10 text-break\"><ul>\n",
       "\t<li><span class=\"literal\"><a class=\"uri\" rel=\"owl:sameAs\" resource=\"http://rdf.freebase.com/ns/m.02w_8_k\"  href=\"http://rdf.freebase.com/ns/m.02w_8_k\"><small>freebase</small>:Digby Morrell</a></span></li>\n",
       "\t<li><span class=\"literal\"><a class=\"uri\" rel=\"owl:sameAs\" resource=\"http://yago-knowledge.org/resource/Digby_Morrell\"  href=\"http://yago-knowledge.org/resource/Digby_Morrell\"><small>yago-res</small>:Digby Morrell</a></span></li>\n",
       "\t<li><span class=\"literal\"><a class=\"uri\" rel=\"owl:sameAs\" resource=\"http://www.wikidata.org/entity/Q5275580\"  href=\"http://www.wikidata.org/entity/Q5275580\"><small>wikidata</small>:Digby Morrell</a></span></li>\n",
       "\t<li><span class=\"literal\"><a class=\"uri\" rel=\"owl:sameAs\" resource=\"https://global.dbpedia.org/id/4innu\"  href=\"https://global.dbpedia.org/id/4innu\">https://global.dbpedia.org/id/4innu</a></span></li>\n",
       "</ul></td></tr><tr class=\"odd\"><td class=\"col-2\"><a class=\"uri\" href=\"http://www.w3.org/ns/prov#wasDerivedFrom\"><small>prov:</small>wasDerivedFrom</a>\n",
       "</td><td class=\"col-10 text-break\"><ul>\n",
       "\t<li><span class=\"literal\"><a class=\"uri\" rel=\"prov:wasDerivedFrom\" resource=\"http://en.wikipedia.org/wiki/Digby_Morrell?oldid=1108573112&amp;ns=0\"  href=\"http://en.wikipedia.org/wiki/Digby_Morrell?oldid=1108573112&amp;ns=0\"><small>wikipedia-en</small>:Digby_Morrell?oldid=1108573112&amp;ns=0</a></span></li>\n",
       "</ul></td></tr><tr class=\"even\"><td class=\"col-2\"><a class=\"uri\" href=\"http://xmlns.com/foaf/0.1/isPrimaryTopicOf\"><small>foaf:</small>isPrimaryTopicOf</a>\n",
       "</td><td class=\"col-10 text-break\"><ul>\n",
       "\t<li><span class=\"literal\"><a class=\"uri\" rel=\"foaf:isPrimaryTopicOf\" resource=\"http://en.wikipedia.org/wiki/Digby_Morrell\"  href=\"http://en.wikipedia.org/wiki/Digby_Morrell\"><small>wikipedia-en</small>:Digby_Morrell</a></span></li>\n",
       "</ul></td></tr><tr class=\"odd\"><td class=\"col-2\"><a class=\"uri\" href=\"http://xmlns.com/foaf/0.1/name\"><small>foaf:</small>name</a>\n",
       "</td><td class=\"col-10 text-break\"><ul>\n",
       "\t<li><span class=\"literal\"><span property=\"foaf:name\" lang=\"en\" >Digby Morrell</span><small> (en)</small></span></li>\n",
       "</ul></td></tr><tr class=\"even\"><td class=\"col-2\">is <a class=\"uri\" href=\"http://dbpedia.org/ontology/wikiPageDisambiguates\"><small>dbo:</small>wikiPageDisambiguates</a>\n",
       " of</td><td class=\"col-10 text-break\"><ul>\n",
       "\t<li><span class=\"literal\"><a class=\"uri\" rev=\"dbo:wikiPageDisambiguates\" resource=\"http://dbpedia.org/resource/Morrell\"  href=\"http://dbpedia.org/resource/Morrell\"><small>dbr</small>:Morrell</a></span></li>\n",
       "</ul></td></tr><tr class=\"odd\"><td class=\"col-2\">is <a class=\"uri\" href=\"http://dbpedia.org/ontology/wikiPageWikiLink\"><small>dbo:</small>wikiPageWikiLink</a>\n",
       " of</td><td class=\"col-10 text-break\"><ul>\n",
       "\t<li><span class=\"literal\"><a class=\"uri\" rev=\"dbo:wikiPageWikiLink\" resource=\"http://dbpedia.org/resource/Morrell\"  href=\"http://dbpedia.org/resource/Morrell\"><small>dbr</small>:Morrell</a></span></li>\n",
       "\t<li><span class=\"literal\"><a class=\"uri\" rev=\"dbo:wikiPageWikiLink\" resource=\"http://dbpedia.org/resource/1998_Westar_Rules_Grand_Final\"  href=\"http://dbpedia.org/resource/1998_Westar_Rules_Grand_Final\"><small>dbr</small>:1998_Westar_Rules_Grand_Final</a></span></li>\n",
       "\t<li><span class=\"literal\"><a class=\"uri\" rev=\"dbo:wikiPageWikiLink\" resource=\"http://dbpedia.org/resource/2001_WAFL_season\"  href=\"http://dbpedia.org/resource/2001_WAFL_season\"><small>dbr</small>:2001_WAFL_season</a></span></li>\n",
       "\t<li><span class=\"literal\"><a class=\"uri\" rev=\"dbo:wikiPageWikiLink\" resource=\"http://dbpedia.org/resource/2002_AFL_draft\"  href=\"http://dbpedia.org/resource/2002_AFL_draft\"><small>dbr</small>:2002_AFL_draft</a></span></li>\n",
       "\t<li><span class=\"literal\"><a class=\"uri\" rev=\"dbo:wikiPageWikiLink\" resource=\"http://dbpedia.org/resource/2003_AFL_draft\"  href=\"http://dbpedia.org/resource/2003_AFL_draft\"><small>dbr</small>:2003_AFL_draft</a></span></li>\n",
       "\t<li><span class=\"literal\"><a class=\"uri\" rev=\"dbo:wikiPageWikiLink\" resource=\"http://dbpedia.org/resource/List_of_AFL_debuts_in_2004\"  href=\"http://dbpedia.org/resource/List_of_AFL_debuts_in_2004\"><small>dbr</small>:List_of_AFL_debuts_in_2004</a></span></li>\n",
       "\t<li><span class=\"literal\"><a class=\"uri\" rev=\"dbo:wikiPageWikiLink\" resource=\"http://dbpedia.org/resource/List_of_Carlton_Football_Club_players\"  href=\"http://dbpedia.org/resource/List_of_Carlton_Football_Club_players\"><small>dbr</small>:List_of_Carlton_Football_Club_players</a></span></li>\n",
       "\t<li><span class=\"literal\"><a class=\"uri\" rev=\"dbo:wikiPageWikiLink\" resource=\"http://dbpedia.org/resource/2005_VFL_season\"  href=\"http://dbpedia.org/resource/2005_VFL_season\"><small>dbr</small>:2005_VFL_season</a></span></li>\n",
       "\t<li><span class=\"literal\"><a class=\"uri\" rev=\"dbo:wikiPageWikiLink\" resource=\"http://dbpedia.org/resource/2006_VFL_season\"  href=\"http://dbpedia.org/resource/2006_VFL_season\"><small>dbr</small>:2006_VFL_season</a></span></li>\n",
       "\t<li><span class=\"literal\"><a class=\"uri\" rev=\"dbo:wikiPageWikiLink\" resource=\"http://dbpedia.org/resource/Digby_(name)\"  href=\"http://dbpedia.org/resource/Digby_(name)\"><small>dbr</small>:Digby_(name)</a></span></li>\n",
       "\t<li><span class=\"literal\"><a class=\"uri\" rev=\"dbo:wikiPageWikiLink\" resource=\"http://dbpedia.org/resource/List_of_North_Melbourne_Football_Club_players\"  href=\"http://dbpedia.org/resource/List_of_North_Melbourne_Football_Club_players\"><small>dbr</small>:List_of_North_Melbourne_Football_Club_players</a></span></li>\n",
       "\t<li><span class=\"literal\"><a class=\"uri\" rev=\"dbo:wikiPageWikiLink\" resource=\"http://dbpedia.org/resource/List_of_Old_Haleians\"  href=\"http://dbpedia.org/resource/List_of_Old_Haleians\"><small>dbr</small>:List_of_Old_Haleians</a></span></li>\n",
       "\t<li><span class=\"literal\"><a class=\"uri\" rev=\"dbo:wikiPageWikiLink\" resource=\"http://dbpedia.org/resource/2000_AFL_draft\"  href=\"http://dbpedia.org/resource/2000_AFL_draft\"><small>dbr</small>:2000_AFL_draft</a></span></li>\n",
       "</ul></td></tr><tr class=\"even\"><td class=\"col-2\">is <a class=\"uri\" href=\"http://xmlns.com/foaf/0.1/primaryTopic\"><small>foaf:</small>primaryTopic</a>\n",
       " of</td><td class=\"col-10 text-break\"><ul>\n",
       "\t<li><span class=\"literal\"><a class=\"uri\" rev=\"foaf:primaryTopic\" resource=\"http://en.wikipedia.org/wiki/Digby_Morrell\"  href=\"http://en.wikipedia.org/wiki/Digby_Morrell\"><small>wikipedia-en</small>:Digby_Morrell</a></span></li>\n",
       "</ul></td></tr>\n",
       "\t\t    </tbody>\n",
       "\t\t</table>\n",
       "\t    </div>\n",
       "\t</div>\n",
       "    </div>\n",
       "</section>\n",
       "<!-- property-table -->\n",
       "\n",
       "<!-- footer -->\n",
       "<section>\n",
       "    <div class=\"container-xl\">\n",
       "\t<div class=\"text-center p-4 bg-light\">\n",
       "\t    <a href=\"https://virtuoso.openlinksw.com/\" title=\"OpenLink Virtuoso\"><img class=\"powered_by\" src=\"/statics/images/virt_power_no_border.png\" alt=\"Powered by OpenLink Virtuoso\"/></a>&#160; &#160;\n",
       "\t    <a href=\"http://linkeddata.org/\"><img alt=\"This material is Open Knowledge\" src=\"/statics/images/LoDLogo.gif\"/></a> &#160; &#160;\n",
       "\t    <a href=\"http://dbpedia.org/sparql\"><img alt=\"W3C Semantic Web Technology\" src=\"/statics/images/sw-sparql-blue.png\"/></a> &#160;  &#160;\n",
       "\t    <a href=\"https://opendefinition.org/\"><img alt=\"This material is Open Knowledge\" src=\"/statics/images/od_80x15_red_green.png\"/></a>&#160; &#160;\n",
       "\t    <span style=\"display:none;\" about=\"\"\n",
       "\t\tresource=\"http://www.w3.org/TR/rdfa-syntax\"\n",
       "\t\trel=\"dc:conformsTo\">\n",
       "\t\t<a href=\"https://validator.w3.org/check?uri=referer\">\n",
       "\t\t    <img src=\"https://www.w3.org/Icons/valid-xhtml-rdfa\" alt=\"Valid XHTML + RDFa\" />\n",
       "\t\t</a>\n",
       "\t    </span>\n",
       "\t    <br />\n",
       "\t    <small class=\"text-muted\">\n",
       "\t\tThis content was extracted from <a href=\"http://en.wikipedia.org/wiki/Digby_Morrell\">Wikipedia</a> and is licensed under the <a href=\"http://creativecommons.org/licenses/by-sa/3.0/\">Creative Commons Attribution-ShareAlike 3.0 Unported License</a>\n",
       "\n",
       "\t    </small>\n",
       "\t</div>\n",
       "    </div>\n",
       "</section>\n",
       "<!-- #footer -->\n",
       "\n",
       "<!-- scripts -->\n",
       "    <script src=\"https://cdnjs.cloudflare.com/ajax/libs/bootstrap/5.2.1/js/bootstrap.bundle.min.js\"\n",
       "\tintegrity=\"sha512-1TK4hjCY5+E9H3r5+05bEGbKGyK506WaDPfPe1s/ihwRjr6OtL43zJLzOFQ+/zciONEd+sp7LwrfOCnyukPSsg==\"\n",
       "\tcrossorigin=\"anonymous\">\n",
       "    </script>\n",
       "</body>\n",
       "</html>\n"
      ],
      "text/plain": [
       "<IPython.core.display.HTML object>"
      ]
     },
     "execution_count": 3,
     "metadata": {},
     "output_type": "execute_result"
    }
   ],
   "source": [
    "from IPython.display import HTML\n",
    "print(wiki['text'][0])\n",
    "HTML(url=wiki['URI'][0])"
   ]
  },
  {
   "cell_type": "markdown",
   "metadata": {},
   "source": [
    "## Ex. 1: Extract word count vectors"
   ]
  },
  {
   "cell_type": "markdown",
   "metadata": {},
   "source": [
    "As we have seen in Assignment 4, we can extract word count vectors using `CountVectorizer` function.\n",
    "- make sure you include words of unit length by using the parameter: `token_pattern=r\"(?u)\\b\\w+\\b\"`\n",
    "- do not use any stopwords\n",
    "- take 10000 most frequent words in the corpus\n",
    "- explicitly take all the words independent of in how many documents they occur\n",
    "- obtain the matrix of word counts"
   ]
  },
  {
   "cell_type": "code",
   "execution_count": null,
   "metadata": {
    "collapsed": true
   },
   "outputs": [],
   "source": [
    "from sklearn.feature_extraction.text import CountVectorizer\n",
    "from sklearn.feature_extraction.text import TfidfTransformer\n",
    "\n",
    "\n",
    "vectorizer = CountVectorizer(\n",
    "    token_pattern=r\"(?u)\\b\\w+\\b\",  \n",
    "    max_features=10000,           \n",
    "    stop_words=None               \n",
    ")\n",
    "\n",
    "\n",
    "word_count_matrix = vectorizer.fit_transform(wiki[\"text\"])  \n",
    "\n",
    "\n",
    "# tfidf_transformer = TfidfTransformer(norm='l2', use_idf=False)\n",
    "# normalized_matrix = tfidf_transformer.fit_transform(word_count_matrix)\n"
   ]
  },
  {
   "cell_type": "markdown",
   "metadata": {},
   "source": [
    "## Ex. 2: Find nearest neighbors"
   ]
  },
  {
   "cell_type": "markdown",
   "metadata": {},
   "source": [
    "**a)** Start by finding the nearest neighbors of the Barack Obama page using the above word count matrix to represent the articles and **Euclidean** distance to measure distance.\n",
    "Save the distances in `wiki['BO-eucl']` and look at the top 10 nearest neighbors."
   ]
  },
  {
   "cell_type": "code",
   "execution_count": 9,
   "metadata": {
    "collapsed": true
   },
   "outputs": [
    {
     "name": "stdout",
     "output_type": "stream",
     "text": [
      "                               name    BO-eucl\n",
      "35817                  Barack Obama   0.000000\n",
      "24478                     Joe Biden  31.352831\n",
      "28447                George W. Bush  33.660065\n",
      "48202                  Tony Vaccaro  33.749074\n",
      "14754                   Mitt Romney  34.365681\n",
      "31423                Walter Mondale  34.438351\n",
      "36364                    Don Bonker  34.612137\n",
      "13229              Francisco Barrio  34.684290\n",
      "35357              Lawrence Summers  35.397740\n",
      "22745    Wynn Normington Hugh-Jones  35.454196\n",
      "25258             Marc Ravalomanana  35.454196\n",
      "36968              Michael E. Toner  35.679126\n",
      "13120              Vincent Obsitnik  35.679126\n",
      "57145                   Emil Skodon  35.693137\n",
      "9210                   Andy Anstett  35.707142\n",
      "1559                  Sangay Ngedup  35.721142\n",
      "52304              Hajim al-Hassani  35.721142\n",
      "4273               Martin Olav Sabo  35.721142\n",
      "27220                 Zamir Kabulov  35.749126\n",
      "53652  Charlie Clements (physician)  35.818989\n"
     ]
    }
   ],
   "source": [
    "# One can use the following:\n",
    "    # from sklearn.neighbors import NearestNeighbors\n",
    "    # nbrs = NearestNeighbors(n_neighbors=3, algorithm='brute',metric='euclidean').fit(X.toarray())\n",
    "    # distances, indices = nbrs.kneighbors(X.toarray())\n",
    "# but here let's use:\n",
    "from sklearn.metrics import pairwise_distances\n",
    "import numpy as np\n",
    "\n",
    "obama_idx = wiki[wiki['name'] == 'Barack Obama'].index[0] \n",
    "\n",
    "distances = pairwise_distances(word_count_matrix[obama_idx], word_count_matrix, metric='euclidean').flatten()\n",
    "\n",
    "wiki['BO-eucl'] = distances\n",
    "\n",
    "nearest_neighbors = wiki.sort_values(by='BO-eucl').iloc[:20]\n",
    "\n",
    "print(nearest_neighbors[['name', 'BO-eucl']])\n",
    "\n",
    "\n"
   ]
  },
  {
   "cell_type": "code",
   "execution_count": 12,
   "metadata": {
    "collapsed": false
   },
   "outputs": [
    {
     "data": {
      "text/html": [
       "<div>\n",
       "<style scoped>\n",
       "    .dataframe tbody tr th:only-of-type {\n",
       "        vertical-align: middle;\n",
       "    }\n",
       "\n",
       "    .dataframe tbody tr th {\n",
       "        vertical-align: top;\n",
       "    }\n",
       "\n",
       "    .dataframe thead th {\n",
       "        text-align: right;\n",
       "    }\n",
       "</style>\n",
       "<table border=\"1\" class=\"dataframe\">\n",
       "  <thead>\n",
       "    <tr style=\"text-align: right;\">\n",
       "      <th></th>\n",
       "      <th>URI</th>\n",
       "      <th>name</th>\n",
       "      <th>text</th>\n",
       "      <th>BO-eucl</th>\n",
       "    </tr>\n",
       "  </thead>\n",
       "  <tbody>\n",
       "    <tr>\n",
       "      <td>35817</td>\n",
       "      <td>&lt;http://dbpedia.org/resource/Barack_Obama&gt;</td>\n",
       "      <td>Barack Obama</td>\n",
       "      <td>barack hussein obama ii brk husen bm born augu...</td>\n",
       "      <td>0.000000</td>\n",
       "    </tr>\n",
       "    <tr>\n",
       "      <td>24478</td>\n",
       "      <td>&lt;http://dbpedia.org/resource/Joe_Biden&gt;</td>\n",
       "      <td>Joe Biden</td>\n",
       "      <td>joseph robinette joe biden jr dosf rbnt badn b...</td>\n",
       "      <td>31.336879</td>\n",
       "    </tr>\n",
       "    <tr>\n",
       "      <td>28447</td>\n",
       "      <td>&lt;http://dbpedia.org/resource/George_W._Bush&gt;</td>\n",
       "      <td>George W. Bush</td>\n",
       "      <td>george walker bush born july 6 1946 is an amer...</td>\n",
       "      <td>33.645208</td>\n",
       "    </tr>\n",
       "    <tr>\n",
       "      <td>48202</td>\n",
       "      <td>&lt;http://dbpedia.org/resource/Tony_Vaccaro&gt;</td>\n",
       "      <td>Tony Vaccaro</td>\n",
       "      <td>michelantonio celestino onofrio vaccaro born d...</td>\n",
       "      <td>33.734256</td>\n",
       "    </tr>\n",
       "    <tr>\n",
       "      <td>14754</td>\n",
       "      <td>&lt;http://dbpedia.org/resource/Mitt_Romney&gt;</td>\n",
       "      <td>Mitt Romney</td>\n",
       "      <td>willard mitt romney born march 12 1947 is an a...</td>\n",
       "      <td>34.351128</td>\n",
       "    </tr>\n",
       "    <tr>\n",
       "      <td>31423</td>\n",
       "      <td>&lt;http://dbpedia.org/resource/Walter_Mondale&gt;</td>\n",
       "      <td>Walter Mondale</td>\n",
       "      <td>walter frederick fritz mondale born january 5 ...</td>\n",
       "      <td>34.423829</td>\n",
       "    </tr>\n",
       "    <tr>\n",
       "      <td>36364</td>\n",
       "      <td>&lt;http://dbpedia.org/resource/Don_Bonker&gt;</td>\n",
       "      <td>Don Bonker</td>\n",
       "      <td>don leroy bonker born march 7 1937 in denver c...</td>\n",
       "      <td>34.597688</td>\n",
       "    </tr>\n",
       "    <tr>\n",
       "      <td>13229</td>\n",
       "      <td>&lt;http://dbpedia.org/resource/Francisco_Barrio&gt;</td>\n",
       "      <td>Francisco Barrio</td>\n",
       "      <td>francisco javier barrio terrazas born november...</td>\n",
       "      <td>34.669872</td>\n",
       "    </tr>\n",
       "    <tr>\n",
       "      <td>35357</td>\n",
       "      <td>&lt;http://dbpedia.org/resource/Lawrence_Summers&gt;</td>\n",
       "      <td>Lawrence Summers</td>\n",
       "      <td>lawrence henry larry summers born november 30 ...</td>\n",
       "      <td>35.383612</td>\n",
       "    </tr>\n",
       "    <tr>\n",
       "      <td>25258</td>\n",
       "      <td>&lt;http://dbpedia.org/resource/Marc_Ravalomanana&gt;</td>\n",
       "      <td>Marc Ravalomanana</td>\n",
       "      <td>marc ravalomanana malagasy ravalumanan born 12...</td>\n",
       "      <td>35.440090</td>\n",
       "    </tr>\n",
       "  </tbody>\n",
       "</table>\n",
       "</div>"
      ],
      "text/plain": [
       "                                                   URI               name  \\\n",
       "35817       <http://dbpedia.org/resource/Barack_Obama>       Barack Obama   \n",
       "24478          <http://dbpedia.org/resource/Joe_Biden>          Joe Biden   \n",
       "28447     <http://dbpedia.org/resource/George_W._Bush>     George W. Bush   \n",
       "48202       <http://dbpedia.org/resource/Tony_Vaccaro>       Tony Vaccaro   \n",
       "14754        <http://dbpedia.org/resource/Mitt_Romney>        Mitt Romney   \n",
       "31423     <http://dbpedia.org/resource/Walter_Mondale>     Walter Mondale   \n",
       "36364         <http://dbpedia.org/resource/Don_Bonker>         Don Bonker   \n",
       "13229   <http://dbpedia.org/resource/Francisco_Barrio>   Francisco Barrio   \n",
       "35357   <http://dbpedia.org/resource/Lawrence_Summers>   Lawrence Summers   \n",
       "25258  <http://dbpedia.org/resource/Marc_Ravalomanana>  Marc Ravalomanana   \n",
       "\n",
       "                                                    text    BO-eucl  \n",
       "35817  barack hussein obama ii brk husen bm born augu...   0.000000  \n",
       "24478  joseph robinette joe biden jr dosf rbnt badn b...  31.336879  \n",
       "28447  george walker bush born july 6 1946 is an amer...  33.645208  \n",
       "48202  michelantonio celestino onofrio vaccaro born d...  33.734256  \n",
       "14754  willard mitt romney born march 12 1947 is an a...  34.351128  \n",
       "31423  walter frederick fritz mondale born january 5 ...  34.423829  \n",
       "36364  don leroy bonker born march 7 1937 in denver c...  34.597688  \n",
       "13229  francisco javier barrio terrazas born november...  34.669872  \n",
       "35357  lawrence henry larry summers born november 30 ...  35.383612  \n",
       "25258  marc ravalomanana malagasy ravalumanan born 12...  35.440090  "
      ]
     },
     "execution_count": 12,
     "metadata": {},
     "output_type": "execute_result"
    }
   ],
   "source": []
  },
  {
   "cell_type": "markdown",
   "metadata": {},
   "source": [
    "**b)** Measure the pairwise distance between the Wikipedia pages of Barack Obama, George W. Bush, and Joe Biden. Which of the three pairs has the smallest distance?"
   ]
  },
  {
   "cell_type": "code",
   "execution_count": null,
   "metadata": {
    "collapsed": false
   },
   "outputs": [
    {
     "name": "stdout",
     "output_type": "stream",
     "text": [
      "31.336879231984796\n",
      "33.645207682521445\n"
     ]
    },
    {
     "data": {
      "text/plain": [
       "30.919249667480614"
      ]
     },
     "execution_count": 13,
     "metadata": {},
     "output_type": "execute_result"
    }
   ],
   "source": [
    "# Your code goes here\n"
   ]
  },
  {
   "cell_type": "code",
   "execution_count": null,
   "metadata": {},
   "outputs": [
    {
     "name": "stdout",
     "output_type": "stream",
     "text": [
      "Distance between Obama and Bush: 33.66006535941367\n",
      "Distance between Obama and Biden: 31.352830813181765\n",
      "Distance between Bush and Biden: 30.919249667480614\n",
      "The smallest distance is between George W. Bush and Joe Biden.\n"
     ]
    }
   ],
   "source": [
    "from sklearn.metrics import pairwise_distances\n",
    "\n",
    "\n",
    "obama_idx = wiki[wiki['name'] == 'Barack Obama'].index[0]\n",
    "bush_idx = wiki[wiki['name'] == 'George W. Bush'].index[0]\n",
    "biden_idx = wiki[wiki['name'] == 'Joe Biden'].index[0]\n",
    "\n",
    "\n",
    "dist_obama_bush = pairwise_distances(word_count_matrix[obama_idx], word_count_matrix[bush_idx], metric='euclidean')[0][0]\n",
    "dist_obama_biden = pairwise_distances(word_count_matrix[obama_idx],word_count_matrix[biden_idx], metric='euclidean')[0][0]\n",
    "dist_bush_biden = pairwise_distances(word_count_matrix[bush_idx], word_count_matrix[biden_idx], metric='euclidean')[0][0]\n",
    "\n",
    "\n",
    "print(f\"Distance between Obama and Bush: {dist_obama_bush}\")\n",
    "print(f\"Distance between Obama and Biden: {dist_obama_biden}\")\n",
    "print(f\"Distance between Bush and Biden: {dist_bush_biden}\")\n",
    "\n",
    "min_distance = min(dist_obama_bush, dist_obama_biden, dist_bush_biden)\n",
    "if min_distance == dist_obama_bush:\n",
    "    print(\"The smallest distance is between Barack Obama and George W. Bush.\")\n",
    "elif min_distance == dist_obama_biden:\n",
    "    print(\"The smallest distance is between Barack Obama and Joe Biden.\")\n",
    "else:\n",
    "    print(\"The smallest distance is between George W. Bush and Joe Biden.\")\n"
   ]
  },
  {
   "cell_type": "markdown",
   "metadata": {},
   "source": [
    "All of the 10 people from **a)** are politicians, but about half of them have rather tenuous connections with Obama, other than the fact that they are politicians, e.g.,\n",
    "\n",
    "* Francisco Barrio is a Mexican politician, and a former governor of Chihuahua.\n",
    "* Walter Mondale and Don Bonker are Democrats who made their career in late 1970s.\n",
    "\n",
    "Nearest neighbors with raw word counts got some things right, showing all politicians in the query result, but missed finer and important details."
   ]
  },
  {
   "cell_type": "markdown",
   "metadata": {},
   "source": [
    "**c)** Let's find out why Francisco Barrio was considered a close neighbor of Obama.\n",
    "To do this, look at the most frequently used words in each of Barack Obama and Francisco Barrio's pages."
   ]
  },
  {
   "cell_type": "code",
   "execution_count": 12,
   "metadata": {
    "collapsed": true
   },
   "outputs": [],
   "source": [
    "def top_words(name):\n",
    "    df = pd.DataFrame(wiki[wiki[\"name\"] == name][\"text\"].values[0].split(), columns=[\"word\"])\n",
    "    count = df[\"word\"].value_counts()\n",
    "    df = count.to_frame(\"count\")\n",
    "    return df.sort_values(by='count',ascending=False)"
   ]
  },
  {
   "cell_type": "code",
   "execution_count": 13,
   "metadata": {
    "collapsed": false,
    "jupyter": {
     "outputs_hidden": false
    }
   },
   "outputs": [
    {
     "data": {
      "text/html": [
       "<div>\n",
       "<style scoped>\n",
       "    .dataframe tbody tr th:only-of-type {\n",
       "        vertical-align: middle;\n",
       "    }\n",
       "\n",
       "    .dataframe tbody tr th {\n",
       "        vertical-align: top;\n",
       "    }\n",
       "\n",
       "    .dataframe thead th {\n",
       "        text-align: right;\n",
       "    }\n",
       "</style>\n",
       "<table border=\"1\" class=\"dataframe\">\n",
       "  <thead>\n",
       "    <tr style=\"text-align: right;\">\n",
       "      <th></th>\n",
       "      <th>count</th>\n",
       "    </tr>\n",
       "    <tr>\n",
       "      <th>word</th>\n",
       "      <th></th>\n",
       "    </tr>\n",
       "  </thead>\n",
       "  <tbody>\n",
       "    <tr>\n",
       "      <th>the</th>\n",
       "      <td>40</td>\n",
       "    </tr>\n",
       "    <tr>\n",
       "      <th>in</th>\n",
       "      <td>30</td>\n",
       "    </tr>\n",
       "    <tr>\n",
       "      <th>and</th>\n",
       "      <td>21</td>\n",
       "    </tr>\n",
       "    <tr>\n",
       "      <th>of</th>\n",
       "      <td>18</td>\n",
       "    </tr>\n",
       "    <tr>\n",
       "      <th>to</th>\n",
       "      <td>14</td>\n",
       "    </tr>\n",
       "    <tr>\n",
       "      <th>...</th>\n",
       "      <td>...</td>\n",
       "    </tr>\n",
       "    <tr>\n",
       "      <th>sandy</th>\n",
       "      <td>1</td>\n",
       "    </tr>\n",
       "    <tr>\n",
       "      <th>related</th>\n",
       "      <td>1</td>\n",
       "    </tr>\n",
       "    <tr>\n",
       "      <th>policies</th>\n",
       "      <td>1</td>\n",
       "    </tr>\n",
       "    <tr>\n",
       "      <th>promoted</th>\n",
       "      <td>1</td>\n",
       "    </tr>\n",
       "    <tr>\n",
       "      <th>hussein</th>\n",
       "      <td>1</td>\n",
       "    </tr>\n",
       "  </tbody>\n",
       "</table>\n",
       "<p>273 rows × 1 columns</p>\n",
       "</div>"
      ],
      "text/plain": [
       "          count\n",
       "word           \n",
       "the          40\n",
       "in           30\n",
       "and          21\n",
       "of           18\n",
       "to           14\n",
       "...         ...\n",
       "sandy         1\n",
       "related       1\n",
       "policies      1\n",
       "promoted      1\n",
       "hussein       1\n",
       "\n",
       "[273 rows x 1 columns]"
      ]
     },
     "execution_count": 13,
     "metadata": {},
     "output_type": "execute_result"
    }
   ],
   "source": [
    "obama_words = top_words('Barack Obama')\n",
    "obama_words"
   ]
  },
  {
   "cell_type": "code",
   "execution_count": 14,
   "metadata": {
    "collapsed": false
   },
   "outputs": [
    {
     "data": {
      "text/html": [
       "<div>\n",
       "<style scoped>\n",
       "    .dataframe tbody tr th:only-of-type {\n",
       "        vertical-align: middle;\n",
       "    }\n",
       "\n",
       "    .dataframe tbody tr th {\n",
       "        vertical-align: top;\n",
       "    }\n",
       "\n",
       "    .dataframe thead th {\n",
       "        text-align: right;\n",
       "    }\n",
       "</style>\n",
       "<table border=\"1\" class=\"dataframe\">\n",
       "  <thead>\n",
       "    <tr style=\"text-align: right;\">\n",
       "      <th></th>\n",
       "      <th>count</th>\n",
       "    </tr>\n",
       "    <tr>\n",
       "      <th>word</th>\n",
       "      <th></th>\n",
       "    </tr>\n",
       "  </thead>\n",
       "  <tbody>\n",
       "    <tr>\n",
       "      <th>the</th>\n",
       "      <td>36</td>\n",
       "    </tr>\n",
       "    <tr>\n",
       "      <th>of</th>\n",
       "      <td>24</td>\n",
       "    </tr>\n",
       "    <tr>\n",
       "      <th>and</th>\n",
       "      <td>18</td>\n",
       "    </tr>\n",
       "    <tr>\n",
       "      <th>in</th>\n",
       "      <td>17</td>\n",
       "    </tr>\n",
       "    <tr>\n",
       "      <th>he</th>\n",
       "      <td>10</td>\n",
       "    </tr>\n",
       "    <tr>\n",
       "      <th>...</th>\n",
       "      <td>...</td>\n",
       "    </tr>\n",
       "    <tr>\n",
       "      <th>organizations</th>\n",
       "      <td>1</td>\n",
       "    </tr>\n",
       "    <tr>\n",
       "      <th>mexico</th>\n",
       "      <td>1</td>\n",
       "    </tr>\n",
       "    <tr>\n",
       "      <th>due</th>\n",
       "      <td>1</td>\n",
       "    </tr>\n",
       "    <tr>\n",
       "      <th>actions</th>\n",
       "      <td>1</td>\n",
       "    </tr>\n",
       "    <tr>\n",
       "      <th>murders</th>\n",
       "      <td>1</td>\n",
       "    </tr>\n",
       "  </tbody>\n",
       "</table>\n",
       "<p>225 rows × 1 columns</p>\n",
       "</div>"
      ],
      "text/plain": [
       "               count\n",
       "word                \n",
       "the               36\n",
       "of                24\n",
       "and               18\n",
       "in                17\n",
       "he                10\n",
       "...              ...\n",
       "organizations      1\n",
       "mexico             1\n",
       "due                1\n",
       "actions            1\n",
       "murders            1\n",
       "\n",
       "[225 rows x 1 columns]"
      ]
     },
     "execution_count": 14,
     "metadata": {},
     "output_type": "execute_result"
    }
   ],
   "source": [
    "barrio_words = top_words('Francisco Barrio')\n",
    "barrio_words"
   ]
  },
  {
   "cell_type": "markdown",
   "metadata": {},
   "source": [
    "**d)** Extract the list of most frequent **common** words that appear in both Obama's and Barrio's documents and display the five words that appear most often in Barrio's article.\n",
    "\n",
    "Use a dataframe operation known as **join**. The **join** operation is very useful when it comes to playing around with data: it lets you combine the content of two tables using a shared column (in this case, the index column of words). See [the documentation](https://pandas.pydata.org/pandas-docs/stable/reference/api/pandas.DataFrame.join.html) for more details."
   ]
  },
  {
   "cell_type": "code",
   "execution_count": 15,
   "metadata": {
    "collapsed": false,
    "jupyter": {
     "outputs_hidden": false
    }
   },
   "outputs": [
    {
     "data": {
      "text/html": [
       "<div>\n",
       "<style scoped>\n",
       "    .dataframe tbody tr th:only-of-type {\n",
       "        vertical-align: middle;\n",
       "    }\n",
       "\n",
       "    .dataframe tbody tr th {\n",
       "        vertical-align: top;\n",
       "    }\n",
       "\n",
       "    .dataframe thead th {\n",
       "        text-align: right;\n",
       "    }\n",
       "</style>\n",
       "<table border=\"1\" class=\"dataframe\">\n",
       "  <thead>\n",
       "    <tr style=\"text-align: right;\">\n",
       "      <th></th>\n",
       "      <th>count_Obama</th>\n",
       "      <th>count_Barrio</th>\n",
       "    </tr>\n",
       "    <tr>\n",
       "      <th>word</th>\n",
       "      <th></th>\n",
       "      <th></th>\n",
       "    </tr>\n",
       "  </thead>\n",
       "  <tbody>\n",
       "    <tr>\n",
       "      <th>the</th>\n",
       "      <td>40</td>\n",
       "      <td>36</td>\n",
       "    </tr>\n",
       "    <tr>\n",
       "      <th>of</th>\n",
       "      <td>18</td>\n",
       "      <td>24</td>\n",
       "    </tr>\n",
       "    <tr>\n",
       "      <th>and</th>\n",
       "      <td>21</td>\n",
       "      <td>18</td>\n",
       "    </tr>\n",
       "    <tr>\n",
       "      <th>in</th>\n",
       "      <td>30</td>\n",
       "      <td>17</td>\n",
       "    </tr>\n",
       "    <tr>\n",
       "      <th>he</th>\n",
       "      <td>7</td>\n",
       "      <td>10</td>\n",
       "    </tr>\n",
       "  </tbody>\n",
       "</table>\n",
       "</div>"
      ],
      "text/plain": [
       "      count_Obama  count_Barrio\n",
       "word                           \n",
       "the            40            36\n",
       "of             18            24\n",
       "and            21            18\n",
       "in             30            17\n",
       "he              7            10"
      ]
     },
     "execution_count": 15,
     "metadata": {},
     "output_type": "execute_result"
    }
   ],
   "source": [
    "# Modify the code to avoid error.\n",
    "\n",
    "common_words = obama_words.join(barrio_words, rsuffix=\"_Barrio\")\n",
    "common_words.rename(columns={'count' : 'count_Obama'}, inplace=True)\n",
    "common_words.count_Barrio = common_words.count_Barrio.astype('Int64')\n",
    "common_words.sort_values(by='count_Barrio', ascending=False).head(5)"
   ]
  },
  {
   "cell_type": "markdown",
   "metadata": {},
   "source": [
    "Collect all words that appear both in Barack Obama and George W. Bush pages.  Out of those words, find the 10 words that show up most often in Obama's page. "
   ]
  },
  {
   "cell_type": "code",
   "execution_count": 16,
   "metadata": {
    "collapsed": false
   },
   "outputs": [
    {
     "data": {
      "text/html": [
       "<div>\n",
       "<style scoped>\n",
       "    .dataframe tbody tr th:only-of-type {\n",
       "        vertical-align: middle;\n",
       "    }\n",
       "\n",
       "    .dataframe tbody tr th {\n",
       "        vertical-align: top;\n",
       "    }\n",
       "\n",
       "    .dataframe thead th {\n",
       "        text-align: right;\n",
       "    }\n",
       "</style>\n",
       "<table border=\"1\" class=\"dataframe\">\n",
       "  <thead>\n",
       "    <tr style=\"text-align: right;\">\n",
       "      <th></th>\n",
       "      <th>count_Obama</th>\n",
       "      <th>count_Bush</th>\n",
       "    </tr>\n",
       "    <tr>\n",
       "      <th>word</th>\n",
       "      <th></th>\n",
       "      <th></th>\n",
       "    </tr>\n",
       "  </thead>\n",
       "  <tbody>\n",
       "    <tr>\n",
       "      <th>the</th>\n",
       "      <td>40</td>\n",
       "      <td>39</td>\n",
       "    </tr>\n",
       "    <tr>\n",
       "      <th>in</th>\n",
       "      <td>30</td>\n",
       "      <td>22</td>\n",
       "    </tr>\n",
       "    <tr>\n",
       "      <th>and</th>\n",
       "      <td>21</td>\n",
       "      <td>14</td>\n",
       "    </tr>\n",
       "    <tr>\n",
       "      <th>of</th>\n",
       "      <td>18</td>\n",
       "      <td>14</td>\n",
       "    </tr>\n",
       "    <tr>\n",
       "      <th>to</th>\n",
       "      <td>14</td>\n",
       "      <td>11</td>\n",
       "    </tr>\n",
       "    <tr>\n",
       "      <th>his</th>\n",
       "      <td>11</td>\n",
       "      <td>6</td>\n",
       "    </tr>\n",
       "    <tr>\n",
       "      <th>act</th>\n",
       "      <td>8</td>\n",
       "      <td>3</td>\n",
       "    </tr>\n",
       "    <tr>\n",
       "      <th>he</th>\n",
       "      <td>7</td>\n",
       "      <td>8</td>\n",
       "    </tr>\n",
       "    <tr>\n",
       "      <th>a</th>\n",
       "      <td>7</td>\n",
       "      <td>6</td>\n",
       "    </tr>\n",
       "    <tr>\n",
       "      <th>law</th>\n",
       "      <td>6</td>\n",
       "      <td>1</td>\n",
       "    </tr>\n",
       "  </tbody>\n",
       "</table>\n",
       "</div>"
      ],
      "text/plain": [
       "      count_Obama  count_Bush\n",
       "word                         \n",
       "the            40          39\n",
       "in             30          22\n",
       "and            21          14\n",
       "of             18          14\n",
       "to             14          11\n",
       "his            11           6\n",
       "act             8           3\n",
       "he              7           8\n",
       "a               7           6\n",
       "law             6           1"
      ]
     },
     "execution_count": 16,
     "metadata": {},
     "output_type": "execute_result"
    }
   ],
   "source": [
    "bush_words = top_words('George W. Bush')\n",
    "common_words2 = obama_words.join(bush_words, rsuffix=\"_Bush\")\n",
    "common_words2.rename(columns={'count' : 'count_Obama'}, inplace=True)\n",
    "common_words2.count_Bush = common_words2.count_Bush.astype('Int64')\n",
    "common_words2 = common_words2.drop('obama')\n",
    "common_words2.sort_values(by='count_Obama', ascending=False).head(10)"
   ]
  },
  {
   "cell_type": "markdown",
   "metadata": {},
   "source": [
    "**Note.** Even though common words are swamping out important subtle differences, commonalities in rarer political words still matter on the margin. This is why politicians are being listed in the query result instead of musicians, for example. In the next subsection, we will introduce a different metric that will place greater emphasis on those rarer words."
   ]
  },
  {
   "cell_type": "markdown",
   "metadata": {},
   "source": [
    "**e)** Among the words that appear in both Barack Obama and Francisco Barrio, take the 15 that appear most frequently in Obama. How many of the articles in the Wikipedia dataset contain all of those 15 words? Which are they?"
   ]
  },
  {
   "cell_type": "code",
   "execution_count": 17,
   "metadata": {
    "collapsed": false
   },
   "outputs": [
    {
     "name": "stdout",
     "output_type": "stream",
     "text": [
      "30\n"
     ]
    }
   ],
   "source": [
    "# It might be helpful to use:\n",
    "word_to_ind={v: i for i, v in\n",
    "             enumerate(vectorizer.get_feature_names_out())} # a dictionary with words as keys and indices as values\n",
    "\n",
    "# Your code goes here\n",
    "common_words3 = obama_words.join(barrio_words, rsuffix=\"_Barrio\")\n",
    "common_words3.dropna(inplace=True)\n",
    "obama_common = common_words3.sort_values(by=\"count\", ascending=False).iloc[:15]\n",
    "articles = word_count_matrix[:, [word_to_ind[word] for word in obama_common.index]]\n",
    "articles = [i for i, article in enumerate(articles) if article.todense().all()]\n",
    "\n",
    "print(len(articles))\n",
    "# articles.sum()"
   ]
  },
  {
   "cell_type": "code",
   "execution_count": 19,
   "metadata": {
    "collapsed": false
   },
   "outputs": [
    {
     "data": {
      "text/plain": [
       "1177                            Donald Fowler\n",
       "1413                            Chris Redfern\n",
       "3400                            James Bilbray\n",
       "4004                              Paul Kagame\n",
       "4874                            Bernard Kenny\n",
       "6617                               Paul Sarlo\n",
       "11316                Gy%C3%B6rgy Sur%C3%A1nyi\n",
       "12371                         Morley Winograd\n",
       "12743                 David Ibarra Mu%C3%B1oz\n",
       "13229                        Francisco Barrio\n",
       "16095    Charles Taylor (Liberian politician)\n",
       "24417                           Jesse Ventura\n",
       "24478                               Joe Biden\n",
       "28447                          George W. Bush\n",
       "29505                        Arturo Vallarino\n",
       "33744                        John O. Agwunobi\n",
       "35541                            Jimmy Carter\n",
       "35817                            Barack Obama\n",
       "36452                            Bill Clinton\n",
       "38081                          John Garamendi\n",
       "39489                          Helmut Anheier\n",
       "40229                            Edward Rowny\n",
       "42934      Henry Sanders (Alabama politician)\n",
       "48253                 Saber Hossain Chowdhury\n",
       "50868                           Russell Trood\n",
       "52229                     Robert Lewis Morgan\n",
       "53102                             Ewart Brown\n",
       "54765                 Chuck Wolfe (executive)\n",
       "55495                      Lokman Singh Karki\n",
       "56172                               Hu Jintao\n",
       "Name: name, dtype: object"
      ]
     },
     "execution_count": 19,
     "metadata": {},
     "output_type": "execute_result"
    }
   ],
   "source": [
    "wiki['name'][articles]"
   ]
  },
  {
   "cell_type": "markdown",
   "metadata": {},
   "source": [
    "## Ex. 3: TF-IDF to the rescue"
   ]
  },
  {
   "cell_type": "markdown",
   "metadata": {},
   "source": [
    "Much of the perceived commonalities between Obama and Barrio were due to occurrences of extremely frequent words, such as \"the\", \"and\", and \"his\". So nearest neighbors is recommending plausible results sometimes for the wrong reasons.\n",
    "\n",
    "To retrieve articles that are more relevant, we should focus more on rare words that don't happen in every article. **TF-IDF** (term frequency–inverse document frequency) is a feature representation that penalizes words that are too common."
   ]
  },
  {
   "cell_type": "markdown",
   "metadata": {},
   "source": [
    "**a)** Repeat the search for the 10 nearest neighbors of Barack Obama with Euclidean distance of TF-IDF. This time do not limit to only 10000 most frequent words, but take all of them."
   ]
  },
  {
   "cell_type": "code",
   "execution_count": 20,
   "metadata": {
    "collapsed": true
   },
   "outputs": [],
   "source": [
    "# We could use:\n",
    "    # from sklearn.feature_extraction.text import TfidfVectorizer\n",
    "# but since we already know how to compute CountVectorizer, let's use:\n",
    "from sklearn.feature_extraction.text import TfidfTransformer\n",
    "\n",
    "vectorizer = CountVectorizer(token_pattern=r\"(?u)\\b\\w+\\b\", stop_words=None)\n",
    "WCmatrix=vectorizer.fit_transform(wiki[\"text\"])\n",
    "\n",
    "tfidf=TfidfTransformer(smooth_idf=False, norm=None)\n",
    "TFIDFmatrix = tfidf.fit_transform(WCmatrix)"
   ]
  },
  {
   "cell_type": "code",
   "execution_count": 21,
   "metadata": {
    "collapsed": false
   },
   "outputs": [
    {
     "data": {
      "text/html": [
       "<div>\n",
       "<style scoped>\n",
       "    .dataframe tbody tr th:only-of-type {\n",
       "        vertical-align: middle;\n",
       "    }\n",
       "\n",
       "    .dataframe tbody tr th {\n",
       "        vertical-align: top;\n",
       "    }\n",
       "\n",
       "    .dataframe thead th {\n",
       "        text-align: right;\n",
       "    }\n",
       "</style>\n",
       "<table border=\"1\" class=\"dataframe\">\n",
       "  <thead>\n",
       "    <tr style=\"text-align: right;\">\n",
       "      <th></th>\n",
       "      <th>name</th>\n",
       "      <th>BO-eucl-TF-IDF</th>\n",
       "    </tr>\n",
       "  </thead>\n",
       "  <tbody>\n",
       "    <tr>\n",
       "      <th>35817</th>\n",
       "      <td>Barack Obama</td>\n",
       "      <td>0.000000</td>\n",
       "    </tr>\n",
       "    <tr>\n",
       "      <th>38376</th>\n",
       "      <td>Samantha Power</td>\n",
       "      <td>139.364493</td>\n",
       "    </tr>\n",
       "    <tr>\n",
       "      <th>46811</th>\n",
       "      <td>Jeff Sessions</td>\n",
       "      <td>139.757740</td>\n",
       "    </tr>\n",
       "    <tr>\n",
       "      <th>7914</th>\n",
       "      <td>Phil Schiliro</td>\n",
       "      <td>139.812175</td>\n",
       "    </tr>\n",
       "    <tr>\n",
       "      <th>38714</th>\n",
       "      <td>Eric Stern (politician)</td>\n",
       "      <td>140.450064</td>\n",
       "    </tr>\n",
       "    <tr>\n",
       "      <th>6507</th>\n",
       "      <td>Bob Menendez</td>\n",
       "      <td>141.661111</td>\n",
       "    </tr>\n",
       "    <tr>\n",
       "      <th>44681</th>\n",
       "      <td>Jesse Lee (politician)</td>\n",
       "      <td>142.342440</td>\n",
       "    </tr>\n",
       "    <tr>\n",
       "      <th>6796</th>\n",
       "      <td>Eric Holder</td>\n",
       "      <td>142.490179</td>\n",
       "    </tr>\n",
       "    <tr>\n",
       "      <th>38495</th>\n",
       "      <td>Barney Frank</td>\n",
       "      <td>142.581337</td>\n",
       "    </tr>\n",
       "    <tr>\n",
       "      <th>56008</th>\n",
       "      <td>Nathan Cullen</td>\n",
       "      <td>142.751073</td>\n",
       "    </tr>\n",
       "  </tbody>\n",
       "</table>\n",
       "</div>"
      ],
      "text/plain": [
       "                          name  BO-eucl-TF-IDF\n",
       "35817             Barack Obama        0.000000\n",
       "38376           Samantha Power      139.364493\n",
       "46811            Jeff Sessions      139.757740\n",
       "7914             Phil Schiliro      139.812175\n",
       "38714  Eric Stern (politician)      140.450064\n",
       "6507              Bob Menendez      141.661111\n",
       "44681   Jesse Lee (politician)      142.342440\n",
       "6796               Eric Holder      142.490179\n",
       "38495             Barney Frank      142.581337\n",
       "56008            Nathan Cullen      142.751073"
      ]
     },
     "execution_count": 21,
     "metadata": {},
     "output_type": "execute_result"
    }
   ],
   "source": [
    "# now recompute the distances as before but for TF-IDF\n",
    "dist = pairwise_distances(TFIDFmatrix[wiki[wiki.name == \"Barack Obama\"].index], TFIDFmatrix)\n",
    "# add the distances as a column in the wiki dataframe\n",
    "wiki['BO-eucl-TF-IDF'] = dist.T\n",
    "wiki[['name', 'BO-eucl-TF-IDF']].sort_values(by='BO-eucl-TF-IDF').iloc[:10]\n"
   ]
  },
  {
   "cell_type": "markdown",
   "metadata": {},
   "source": [
    "Let's determine whether this list makes sense.\n",
    "* With a notable exception of Nathan Cullen, the other 8 are all American politicians who are contemporaries of Barack Obama.\n",
    "* Phil Schiliro, Jesse Lee, Samantha Power, Eric Stern, Eric Holder worked for Obama.\n",
    "\n",
    "Clearly, the results are more plausible with the use of TF-IDF. Let's take a look at the word vector for Obama and Schilirio's pages. Notice that TF-IDF representation assigns a weight to each word. This weight captures relative importance of that word in the document."
   ]
  },
  {
   "cell_type": "markdown",
   "metadata": {},
   "source": [
    "**b)** Sort the words in Obama's article by their TF-IDF weights; do the same for Schiliro's article as well.\n",
    "Using the **join** operation we learned earlier, compute the common words shared by Obama's and Schiliro's articles.\n",
    "Sort the common words by their TF-IDF weights in Obama's document."
   ]
  },
  {
   "cell_type": "code",
   "execution_count": 22,
   "metadata": {
    "collapsed": true
   },
   "outputs": [],
   "source": [
    "def top_words_tf_idf(name):\n",
    "    \"\"\"\n",
    "    Get a table of the largest tf-idf words in the given person's wikipedia page.\n",
    "    \"\"\"\n",
    "    # Your code goes here\n",
    "    words = wiki[wiki.name == name]['text'].values[0].split()\n",
    "    ind = {v : i for i, v in enumerate(vectorizer.get_feature_names_out())}\n",
    "    words_weigths = [TFIDFmatrix[wiki[wiki.name == name].index][0, ind[word]] for word in words]\n",
    "    df = pd.Series(words_weigths, words).to_frame(\"tf-idf\")\n",
    "    df.drop_duplicates(inplace=True)\n",
    "    return df.sort_values(by='tf-idf',ascending=False)"
   ]
  },
  {
   "cell_type": "code",
   "execution_count": 23,
   "metadata": {
    "collapsed": false,
    "jupyter": {
     "outputs_hidden": false
    }
   },
   "outputs": [
    {
     "data": {
      "text/html": [
       "<div>\n",
       "<style scoped>\n",
       "    .dataframe tbody tr th:only-of-type {\n",
       "        vertical-align: middle;\n",
       "    }\n",
       "\n",
       "    .dataframe tbody tr th {\n",
       "        vertical-align: top;\n",
       "    }\n",
       "\n",
       "    .dataframe thead th {\n",
       "        text-align: right;\n",
       "    }\n",
       "</style>\n",
       "<table border=\"1\" class=\"dataframe\">\n",
       "  <thead>\n",
       "    <tr style=\"text-align: right;\">\n",
       "      <th></th>\n",
       "      <th>tf-idf_Obama</th>\n",
       "      <th>tf-idf_Schiliro</th>\n",
       "    </tr>\n",
       "  </thead>\n",
       "  <tbody>\n",
       "    <tr>\n",
       "      <th>obama</th>\n",
       "      <td>52.295653</td>\n",
       "      <td>11.621256</td>\n",
       "    </tr>\n",
       "    <tr>\n",
       "      <th>the</th>\n",
       "      <td>40.004063</td>\n",
       "      <td>10.001016</td>\n",
       "    </tr>\n",
       "    <tr>\n",
       "      <th>in</th>\n",
       "      <td>30.028962</td>\n",
       "      <td>5.004827</td>\n",
       "    </tr>\n",
       "    <tr>\n",
       "      <th>and</th>\n",
       "      <td>21.015648</td>\n",
       "      <td>6.004471</td>\n",
       "    </tr>\n",
       "    <tr>\n",
       "      <th>law</th>\n",
       "      <td>20.722936</td>\n",
       "      <td>10.361468</td>\n",
       "    </tr>\n",
       "    <tr>\n",
       "      <th>of</th>\n",
       "      <td>18.074811</td>\n",
       "      <td>9.037406</td>\n",
       "    </tr>\n",
       "    <tr>\n",
       "      <th>democratic</th>\n",
       "      <td>16.410689</td>\n",
       "      <td>8.205344</td>\n",
       "    </tr>\n",
       "    <tr>\n",
       "      <th>to</th>\n",
       "      <td>14.657229</td>\n",
       "      <td>7.328615</td>\n",
       "    </tr>\n",
       "    <tr>\n",
       "      <th>his</th>\n",
       "      <td>13.888726</td>\n",
       "      <td>1.262611</td>\n",
       "    </tr>\n",
       "    <tr>\n",
       "      <th>senate</th>\n",
       "      <td>13.164288</td>\n",
       "      <td>4.388096</td>\n",
       "    </tr>\n",
       "    <tr>\n",
       "      <th>president</th>\n",
       "      <td>11.226869</td>\n",
       "      <td>14.033587</td>\n",
       "    </tr>\n",
       "    <tr>\n",
       "      <th>presidential</th>\n",
       "      <td>9.386955</td>\n",
       "      <td>4.693478</td>\n",
       "    </tr>\n",
       "    <tr>\n",
       "      <th>he</th>\n",
       "      <td>8.493580</td>\n",
       "      <td>13.347054</td>\n",
       "    </tr>\n",
       "    <tr>\n",
       "      <th>states</th>\n",
       "      <td>8.473201</td>\n",
       "      <td>2.824400</td>\n",
       "    </tr>\n",
       "    <tr>\n",
       "      <th>2011</th>\n",
       "      <td>8.107041</td>\n",
       "      <td>5.404694</td>\n",
       "    </tr>\n",
       "  </tbody>\n",
       "</table>\n",
       "</div>"
      ],
      "text/plain": [
       "              tf-idf_Obama  tf-idf_Schiliro\n",
       "obama            52.295653        11.621256\n",
       "the              40.004063        10.001016\n",
       "in               30.028962         5.004827\n",
       "and              21.015648         6.004471\n",
       "law              20.722936        10.361468\n",
       "of               18.074811         9.037406\n",
       "democratic       16.410689         8.205344\n",
       "to               14.657229         7.328615\n",
       "his              13.888726         1.262611\n",
       "senate           13.164288         4.388096\n",
       "president        11.226869        14.033587\n",
       "presidential      9.386955         4.693478\n",
       "he                8.493580        13.347054\n",
       "states            8.473201         2.824400\n",
       "2011              8.107041         5.404694"
      ]
     },
     "execution_count": 23,
     "metadata": {},
     "output_type": "execute_result"
    }
   ],
   "source": [
    "obama_tf_idf = top_words_tf_idf('Barack Obama')\n",
    "schiliro_tf_idf = top_words_tf_idf('Phil Schiliro')\n",
    "common_words4 = obama_tf_idf.join(schiliro_tf_idf, rsuffix=\"_Schiliro\")\n",
    "common_words4.rename(columns={'tf-idf' : 'tf-idf_Obama'}, inplace=True)\n",
    "common_words4.dropna(inplace=True)\n",
    "common_words4.sort_values(by='tf-idf_Obama', ascending=False).head(15)"
   ]
  },
  {
   "cell_type": "markdown",
   "metadata": {},
   "source": [
    "**c)** Among the words that appear in both Barack Obama and Phil Schiliro, take the 15 that have largest weights in Obama. How many of the articles in the Wikipedia dataset contain all of those 15 words? Which are they?"
   ]
  },
  {
   "cell_type": "code",
   "execution_count": 24,
   "metadata": {
    "collapsed": false
   },
   "outputs": [
    {
     "name": "stdout",
     "output_type": "stream",
     "text": [
      "3\n"
     ]
    }
   ],
   "source": [
    "# It might be helpful to use:\n",
    "word_to_ind={v: i for i, v in enumerate(vectorizer.get_feature_names_out())} # a dictionary with words as keys and indices as values\n",
    "\n",
    "# Your code goes here\n",
    "common_words4 = obama_tf_idf.join(schiliro_tf_idf, rsuffix=\"_Barrio\")\n",
    "common_words4.dropna(inplace=True)\n",
    "obama_common = common_words4.sort_values(by=\"tf-idf\", ascending=False).iloc[:15]\n",
    "articles = WCmatrix[:, [word_to_ind[word] for word in obama_common.index]]\n",
    "articles = [i for i, article in enumerate(articles) if article.todense().all()]\n",
    "print(len(articles))\n",
    "# articles.sum()"
   ]
  },
  {
   "cell_type": "code",
   "execution_count": 25,
   "metadata": {
    "collapsed": false
   },
   "outputs": [
    {
     "data": {
      "text/plain": [
       "7914     Phil Schiliro\n",
       "24478        Joe Biden\n",
       "35817     Barack Obama\n",
       "Name: name, dtype: object"
      ]
     },
     "execution_count": 25,
     "metadata": {},
     "output_type": "execute_result"
    }
   ],
   "source": [
    "wiki['name'][articles]"
   ]
  },
  {
   "cell_type": "markdown",
   "metadata": {},
   "source": [
    "Notice the huge difference in this calculation using TF-IDF scores instead  of raw word counts. We've eliminated noise arising from extremely common words."
   ]
  },
  {
   "cell_type": "markdown",
   "metadata": {},
   "source": [
    "## Ex. 4: Choosing metrics"
   ]
  },
  {
   "cell_type": "markdown",
   "metadata": {},
   "source": [
    "**a)** Compute the Euclidean distance between TF-IDF features of Obama and Biden."
   ]
  },
  {
   "cell_type": "code",
   "execution_count": 26,
   "metadata": {
    "collapsed": false
   },
   "outputs": [
    {
     "name": "stdout",
     "output_type": "stream",
     "text": [
      "148.77845413077898\n"
     ]
    }
   ],
   "source": [
    "dist = pairwise_distances(TFIDFmatrix[wiki[(wiki.name == \"Barack Obama\") | (wiki.name == \"Joe Biden\")].index])\n",
    "print(dist[0,1])"
   ]
  },
  {
   "cell_type": "markdown",
   "metadata": {},
   "source": [
    "The distance is larger than the distances we found for the 10 nearest neighbors, which we repeat here for readability:"
   ]
  },
  {
   "cell_type": "code",
   "execution_count": 27,
   "metadata": {
    "collapsed": false,
    "jupyter": {
     "outputs_hidden": false
    }
   },
   "outputs": [
    {
     "data": {
      "text/html": [
       "<div>\n",
       "<style scoped>\n",
       "    .dataframe tbody tr th:only-of-type {\n",
       "        vertical-align: middle;\n",
       "    }\n",
       "\n",
       "    .dataframe tbody tr th {\n",
       "        vertical-align: top;\n",
       "    }\n",
       "\n",
       "    .dataframe thead th {\n",
       "        text-align: right;\n",
       "    }\n",
       "</style>\n",
       "<table border=\"1\" class=\"dataframe\">\n",
       "  <thead>\n",
       "    <tr style=\"text-align: right;\">\n",
       "      <th></th>\n",
       "      <th>name</th>\n",
       "      <th>BO-eucl-TF-IDF</th>\n",
       "    </tr>\n",
       "  </thead>\n",
       "  <tbody>\n",
       "    <tr>\n",
       "      <th>35817</th>\n",
       "      <td>Barack Obama</td>\n",
       "      <td>0.000000</td>\n",
       "    </tr>\n",
       "    <tr>\n",
       "      <th>38376</th>\n",
       "      <td>Samantha Power</td>\n",
       "      <td>139.364493</td>\n",
       "    </tr>\n",
       "    <tr>\n",
       "      <th>46811</th>\n",
       "      <td>Jeff Sessions</td>\n",
       "      <td>139.757740</td>\n",
       "    </tr>\n",
       "    <tr>\n",
       "      <th>7914</th>\n",
       "      <td>Phil Schiliro</td>\n",
       "      <td>139.812175</td>\n",
       "    </tr>\n",
       "    <tr>\n",
       "      <th>38714</th>\n",
       "      <td>Eric Stern (politician)</td>\n",
       "      <td>140.450064</td>\n",
       "    </tr>\n",
       "    <tr>\n",
       "      <th>6507</th>\n",
       "      <td>Bob Menendez</td>\n",
       "      <td>141.661111</td>\n",
       "    </tr>\n",
       "    <tr>\n",
       "      <th>44681</th>\n",
       "      <td>Jesse Lee (politician)</td>\n",
       "      <td>142.342440</td>\n",
       "    </tr>\n",
       "    <tr>\n",
       "      <th>6796</th>\n",
       "      <td>Eric Holder</td>\n",
       "      <td>142.490179</td>\n",
       "    </tr>\n",
       "    <tr>\n",
       "      <th>38495</th>\n",
       "      <td>Barney Frank</td>\n",
       "      <td>142.581337</td>\n",
       "    </tr>\n",
       "    <tr>\n",
       "      <th>56008</th>\n",
       "      <td>Nathan Cullen</td>\n",
       "      <td>142.751073</td>\n",
       "    </tr>\n",
       "  </tbody>\n",
       "</table>\n",
       "</div>"
      ],
      "text/plain": [
       "                          name  BO-eucl-TF-IDF\n",
       "35817             Barack Obama        0.000000\n",
       "38376           Samantha Power      139.364493\n",
       "46811            Jeff Sessions      139.757740\n",
       "7914             Phil Schiliro      139.812175\n",
       "38714  Eric Stern (politician)      140.450064\n",
       "6507              Bob Menendez      141.661111\n",
       "44681   Jesse Lee (politician)      142.342440\n",
       "6796               Eric Holder      142.490179\n",
       "38495             Barney Frank      142.581337\n",
       "56008            Nathan Cullen      142.751073"
      ]
     },
     "execution_count": 27,
     "metadata": {},
     "output_type": "execute_result"
    }
   ],
   "source": [
    "wiki.sort_values(by='BO-eucl-TF-IDF',ascending=True)[['name','BO-eucl-TF-IDF']][0:10]"
   ]
  },
  {
   "cell_type": "markdown",
   "metadata": {},
   "source": [
    "But one may wonder, is Biden's article that different from Obama's, more so than, say, Schiliro's? It turns out that, when we compute nearest neighbors using the Euclidean distances, we unwittingly favor short articles over long ones."
   ]
  },
  {
   "cell_type": "markdown",
   "metadata": {},
   "source": [
    "**b)** Let us compute the length of each Wikipedia document, and examine the document lengths for the 100 nearest neighbors to Obama's page. To compute text length use the same splitting rules you used in `vectorizer`."
   ]
  },
  {
   "cell_type": "code",
   "execution_count": 29,
   "metadata": {
    "collapsed": false,
    "jupyter": {
     "outputs_hidden": false
    }
   },
   "outputs": [],
   "source": [
    "# tokenizer = # Your code goes here\n",
    "\n",
    "def compute_length(row):\n",
    "  return len(row.split(' '))\n",
    "\n",
    "wiki['length'] = [compute_length(row) for row in wiki[\"text\"]]"
   ]
  },
  {
   "cell_type": "code",
   "execution_count": 30,
   "metadata": {
    "collapsed": false,
    "jupyter": {
     "outputs_hidden": false
    }
   },
   "outputs": [
    {
     "data": {
      "text/html": [
       "<div>\n",
       "<style scoped>\n",
       "    .dataframe tbody tr th:only-of-type {\n",
       "        vertical-align: middle;\n",
       "    }\n",
       "\n",
       "    .dataframe tbody tr th {\n",
       "        vertical-align: top;\n",
       "    }\n",
       "\n",
       "    .dataframe thead th {\n",
       "        text-align: right;\n",
       "    }\n",
       "</style>\n",
       "<table border=\"1\" class=\"dataframe\">\n",
       "  <thead>\n",
       "    <tr style=\"text-align: right;\">\n",
       "      <th></th>\n",
       "      <th>name</th>\n",
       "      <th>length</th>\n",
       "      <th>BO-eucl-TF-IDF</th>\n",
       "    </tr>\n",
       "  </thead>\n",
       "  <tbody>\n",
       "    <tr>\n",
       "      <th>35817</th>\n",
       "      <td>Barack Obama</td>\n",
       "      <td>540</td>\n",
       "      <td>0.000000</td>\n",
       "    </tr>\n",
       "    <tr>\n",
       "      <th>38376</th>\n",
       "      <td>Samantha Power</td>\n",
       "      <td>310</td>\n",
       "      <td>139.364493</td>\n",
       "    </tr>\n",
       "    <tr>\n",
       "      <th>46811</th>\n",
       "      <td>Jeff Sessions</td>\n",
       "      <td>230</td>\n",
       "      <td>139.757740</td>\n",
       "    </tr>\n",
       "    <tr>\n",
       "      <th>7914</th>\n",
       "      <td>Phil Schiliro</td>\n",
       "      <td>208</td>\n",
       "      <td>139.812175</td>\n",
       "    </tr>\n",
       "    <tr>\n",
       "      <th>38714</th>\n",
       "      <td>Eric Stern (politician)</td>\n",
       "      <td>255</td>\n",
       "      <td>140.450064</td>\n",
       "    </tr>\n",
       "    <tr>\n",
       "      <th>...</th>\n",
       "      <td>...</td>\n",
       "      <td>...</td>\n",
       "      <td>...</td>\n",
       "    </tr>\n",
       "    <tr>\n",
       "      <th>12834</th>\n",
       "      <td>Mark Waller (judge)</td>\n",
       "      <td>211</td>\n",
       "      <td>146.796202</td>\n",
       "    </tr>\n",
       "    <tr>\n",
       "      <th>11303</th>\n",
       "      <td>Steven Weinberg</td>\n",
       "      <td>227</td>\n",
       "      <td>146.815087</td>\n",
       "    </tr>\n",
       "    <tr>\n",
       "      <th>8277</th>\n",
       "      <td>John M. Facciola</td>\n",
       "      <td>207</td>\n",
       "      <td>146.823495</td>\n",
       "    </tr>\n",
       "    <tr>\n",
       "      <th>11996</th>\n",
       "      <td>Thomas H. Jackson</td>\n",
       "      <td>216</td>\n",
       "      <td>146.836489</td>\n",
       "    </tr>\n",
       "    <tr>\n",
       "      <th>50366</th>\n",
       "      <td>Patrick Lipton Robinson</td>\n",
       "      <td>201</td>\n",
       "      <td>146.849274</td>\n",
       "    </tr>\n",
       "  </tbody>\n",
       "</table>\n",
       "<p>100 rows × 3 columns</p>\n",
       "</div>"
      ],
      "text/plain": [
       "                          name  length  BO-eucl-TF-IDF\n",
       "35817             Barack Obama     540        0.000000\n",
       "38376           Samantha Power     310      139.364493\n",
       "46811            Jeff Sessions     230      139.757740\n",
       "7914             Phil Schiliro     208      139.812175\n",
       "38714  Eric Stern (politician)     255      140.450064\n",
       "...                        ...     ...             ...\n",
       "12834      Mark Waller (judge)     211      146.796202\n",
       "11303          Steven Weinberg     227      146.815087\n",
       "8277          John M. Facciola     207      146.823495\n",
       "11996        Thomas H. Jackson     216      146.836489\n",
       "50366  Patrick Lipton Robinson     201      146.849274\n",
       "\n",
       "[100 rows x 3 columns]"
      ]
     },
     "execution_count": 30,
     "metadata": {},
     "output_type": "execute_result"
    }
   ],
   "source": [
    "nearest_neighbors_euclidean = wiki.sort_values(by='BO-eucl-TF-IDF',ascending=True)[['name','length', 'BO-eucl-TF-IDF']][0:100]\n",
    "nearest_neighbors_euclidean"
   ]
  },
  {
   "cell_type": "markdown",
   "metadata": {},
   "source": [
    "**c)** To see how these document lengths compare to the lengths of other documents in the corpus, make a histogram of the document lengths of Obama's 100 nearest neighbors and compare to a histogram of document lengths for all documents."
   ]
  },
  {
   "cell_type": "code",
   "execution_count": 31,
   "metadata": {
    "collapsed": false,
    "jupyter": {
     "outputs_hidden": false
    }
   },
   "outputs": [
    {
     "data": {
      "image/png": "[encoded data removed]",
      "text/plain": [
       "<Figure size 1050x450 with 1 Axes>"
      ]
     },
     "metadata": {},
     "output_type": "display_data"
    }
   ],
   "source": [
    "plt.figure(figsize=(10.5,4.5))\n",
    "plt.hist(wiki.length, range=[0, 1000], density=True, color='black', label='Entire Wikipedia')\n",
    "plt.hist(nearest_neighbors_euclidean.length, bins=50, alpha=0.7, density=True, color='red', label='100 NNs of Obama (Euclidean)')\n",
    "plt.axvline(wiki[wiki.name == \"Barack Obama\"].length.values[0], label='Barack Obama', color='black', linestyle='--', linewidth=3.2)\n",
    "plt.axvline(wiki[wiki.name == \"Joe Biden\"].length.values[0], label='Joe Biden', color='green', linestyle='--', linewidth=3.2)\n",
    "\n",
    "plt.xlabel(\"# of words\")\n",
    "plt.ylabel(\"Percentage\")\n",
    "plt.yticks(np.arange(0.00, 0.040001, 0.01))\n",
    "plt.legend()\n",
    "plt.tight_layout()"
   ]
  },
  {
   "cell_type": "markdown",
   "metadata": {},
   "source": [
    "Relative to the rest of Wikipedia, nearest neighbors of Obama are overwhemingly short, most of them being shorter than 300 words. The bias towards short articles is not appropriate in this application as there is really no reason to  favor short articles over long articles (they are all Wikipedia articles, after all). Many of the Wikipedia articles are 300 words or more, and both Obama and Biden are over 300 words long.\n",
    "\n",
    "**Note**: For the interest of computation time, the dataset given here contains _excerpts_ of the articles rather than full text. For instance, the actual Wikipedia article about Obama is around 25000 words. Do not be surprised by the low numbers shown in the histogram."
   ]
  },
  {
   "cell_type": "markdown",
   "metadata": {},
   "source": [
    "**Note:** Both word-count features and TF-IDF are proportional to word frequencies. While TF-IDF penalizes very common words, longer articles tend to have longer TF-IDF vectors simply because they have more words in them."
   ]
  },
  {
   "cell_type": "markdown",
   "metadata": {},
   "source": [
    "To remove this bias, we turn to **cosine distances**:\n",
    "$$\n",
    "d(\\mathbf{x},\\mathbf{y}) = 1 - \\frac{\\mathbf{x}^T\\mathbf{y}}{\\|\\mathbf{x}\\| \\|\\mathbf{y}\\|}\n",
    "$$\n",
    "Cosine distances let us compare word distributions of two articles of varying lengths."
   ]
  },
  {
   "cell_type": "markdown",
   "metadata": {},
   "source": [
    "**d)** Train a new nearest neighbor model, this time with cosine distances.  Then repeat the search for Obama's 100 nearest neighbors and make a plot to better visualize the effect of having used cosine distance in place of Euclidean on our TF-IDF vectors."
   ]
  },
  {
   "cell_type": "code",
   "execution_count": 32,
   "metadata": {
    "collapsed": false,
    "jupyter": {
     "outputs_hidden": false
    }
   },
   "outputs": [
    {
     "data": {
      "text/html": [
       "<div>\n",
       "<style scoped>\n",
       "    .dataframe tbody tr th:only-of-type {\n",
       "        vertical-align: middle;\n",
       "    }\n",
       "\n",
       "    .dataframe tbody tr th {\n",
       "        vertical-align: top;\n",
       "    }\n",
       "\n",
       "    .dataframe thead th {\n",
       "        text-align: right;\n",
       "    }\n",
       "</style>\n",
       "<table border=\"1\" class=\"dataframe\">\n",
       "  <thead>\n",
       "    <tr style=\"text-align: right;\">\n",
       "      <th></th>\n",
       "      <th>name</th>\n",
       "      <th>length</th>\n",
       "      <th>BO-cosine-TF-IDF</th>\n",
       "    </tr>\n",
       "  </thead>\n",
       "  <tbody>\n",
       "    <tr>\n",
       "      <th>35817</th>\n",
       "      <td>Barack Obama</td>\n",
       "      <td>540</td>\n",
       "      <td>1.110223e-15</td>\n",
       "    </tr>\n",
       "    <tr>\n",
       "      <th>24478</th>\n",
       "      <td>Joe Biden</td>\n",
       "      <td>414</td>\n",
       "      <td>5.727248e-01</td>\n",
       "    </tr>\n",
       "    <tr>\n",
       "      <th>57108</th>\n",
       "      <td>Hillary Rodham Clinton</td>\n",
       "      <td>580</td>\n",
       "      <td>6.161487e-01</td>\n",
       "    </tr>\n",
       "    <tr>\n",
       "      <th>38376</th>\n",
       "      <td>Samantha Power</td>\n",
       "      <td>310</td>\n",
       "      <td>6.257966e-01</td>\n",
       "    </tr>\n",
       "    <tr>\n",
       "      <th>38714</th>\n",
       "      <td>Eric Stern (politician)</td>\n",
       "      <td>255</td>\n",
       "      <td>6.514751e-01</td>\n",
       "    </tr>\n",
       "    <tr>\n",
       "      <th>...</th>\n",
       "      <td>...</td>\n",
       "      <td>...</td>\n",
       "      <td>...</td>\n",
       "    </tr>\n",
       "    <tr>\n",
       "      <th>2045</th>\n",
       "      <td>Allan Ryan (attorney)</td>\n",
       "      <td>291</td>\n",
       "      <td>7.313755e-01</td>\n",
       "    </tr>\n",
       "    <tr>\n",
       "      <th>47085</th>\n",
       "      <td>Ray Thornton</td>\n",
       "      <td>326</td>\n",
       "      <td>7.319076e-01</td>\n",
       "    </tr>\n",
       "    <tr>\n",
       "      <th>16392</th>\n",
       "      <td>P%C3%A9ter Kov%C3%A1cs (lawyer)</td>\n",
       "      <td>365</td>\n",
       "      <td>7.321718e-01</td>\n",
       "    </tr>\n",
       "    <tr>\n",
       "      <th>55495</th>\n",
       "      <td>Lokman Singh Karki</td>\n",
       "      <td>2486</td>\n",
       "      <td>7.326076e-01</td>\n",
       "    </tr>\n",
       "    <tr>\n",
       "      <th>22304</th>\n",
       "      <td>Chung Dong-young</td>\n",
       "      <td>886</td>\n",
       "      <td>7.327848e-01</td>\n",
       "    </tr>\n",
       "  </tbody>\n",
       "</table>\n",
       "<p>100 rows × 3 columns</p>\n",
       "</div>"
      ],
      "text/plain": [
       "                                  name  length  BO-cosine-TF-IDF\n",
       "35817                     Barack Obama     540      1.110223e-15\n",
       "24478                        Joe Biden     414      5.727248e-01\n",
       "57108           Hillary Rodham Clinton     580      6.161487e-01\n",
       "38376                   Samantha Power     310      6.257966e-01\n",
       "38714          Eric Stern (politician)     255      6.514751e-01\n",
       "...                                ...     ...               ...\n",
       "2045             Allan Ryan (attorney)     291      7.313755e-01\n",
       "47085                     Ray Thornton     326      7.319076e-01\n",
       "16392  P%C3%A9ter Kov%C3%A1cs (lawyer)     365      7.321718e-01\n",
       "55495               Lokman Singh Karki    2486      7.326076e-01\n",
       "22304                 Chung Dong-young     886      7.327848e-01\n",
       "\n",
       "[100 rows x 3 columns]"
      ]
     },
     "execution_count": 32,
     "metadata": {},
     "output_type": "execute_result"
    }
   ],
   "source": [
    "cosine_dist = pairwise_distances(TFIDFmatrix[wiki[wiki.name == \"Barack Obama\"].index], TFIDFmatrix, metric=\"cosine\")\n",
    "wiki[\"BO-cosine-TF-IDF\"] = cosine_dist.T\n",
    "nearest_neighbors_cosine = wiki.sort_values(by='BO-cosine-TF-IDF', ascending=True)[['name', 'length', 'BO-cosine-TF-IDF']][:100]\n",
    "nearest_neighbors_cosine"
   ]
  },
  {
   "cell_type": "markdown",
   "metadata": {},
   "source": [
    "From a glance at the above table, things look better.  For example, we now see Joe Biden as Barack Obama's nearest neighbor!  We also see Hillary Clinton on the list.  This list looks even more plausible as nearest neighbors of Barack Obama."
   ]
  },
  {
   "cell_type": "code",
   "execution_count": 33,
   "metadata": {
    "collapsed": false,
    "jupyter": {
     "outputs_hidden": false
    }
   },
   "outputs": [
    {
     "data": {
      "image/png": "[encoded data removed]",
      "text/plain": [
       "<Figure size 1050x450 with 1 Axes>"
      ]
     },
     "metadata": {},
     "output_type": "display_data"
    }
   ],
   "source": [
    "plt.figure(figsize=(10.5,4.5))\n",
    "plt.hist(wiki.length, range=[0, 1000], density=True, color='black', label='Entire Wikipedia')\n",
    "plt.hist(nearest_neighbors_euclidean.length, bins=50, alpha=0.7, density=True, color='red', label='100 NNs of Obama (Euclidean)')\n",
    "plt.hist(nearest_neighbors_cosine.length, bins=50, alpha=0.7, density=True, color='blue', label='100 NNs of Obama (cosine)')\n",
    "plt.axvline(wiki[wiki.name == \"Barack Obama\"].length.values[0], label='Barack Obama', color='black', linestyle='--', linewidth=3.2)\n",
    "plt.axvline(wiki[wiki.name == \"Joe Biden\"].length.values[0], label='Joe Biden', color='green', linestyle='--', linewidth=3.2)\n",
    "\n",
    "plt.xlabel(\"# of words\")\n",
    "plt.ylabel(\"Percentage\")\n",
    "plt.yticks(np.arange(0.00, 0.040001, 0.01))\n",
    "plt.xlim([0, 1000])\n",
    "plt.legend()\n",
    "plt.tight_layout()"
   ]
  },
  {
   "cell_type": "markdown",
   "metadata": {},
   "source": [
    "Indeed, the 100 nearest neighbors using cosine distance provide a sampling across the range of document lengths, rather than just short articles like Euclidean distance provided."
   ]
  },
  {
   "cell_type": "markdown",
   "metadata": {},
   "source": [
    "**Moral of the story**: In deciding the features and distance measures, check if they produce results that make sense for your particular application."
   ]
  },
  {
   "cell_type": "markdown",
   "metadata": {},
   "source": [
    "## Ex. 5: Problem with cosine distances: tweets vs. long articles"
   ]
  },
  {
   "cell_type": "markdown",
   "metadata": {},
   "source": [
    "Happily ever after? Not so fast. Cosine distances ignore all document lengths, which may be great in certain situations but not in others. For instance, consider the following (admittedly contrived) example."
   ]
  },
  {
   "cell_type": "markdown",
   "metadata": {},
   "source": [
    "```\n",
    "+--------------------------------------------------------+\n",
    "|                                             +--------+ |\n",
    "|  One that shall not be named                | Follow | |\n",
    "|  @username                                  +--------+ |\n",
    "|                                                        |\n",
    "|  Democratic governments control law in response to     |\n",
    "|  popular act.                                          |\n",
    "|                                                        |\n",
    "|  8:05 AM - 16 May 2016                                 |\n",
    "|                                                        |\n",
    "|  Reply   Retweet (1,332)   Like (300)                  |\n",
    "|                                                        |\n",
    "+--------------------------------------------------------+\n",
    "```"
   ]
  },
  {
   "cell_type": "markdown",
   "metadata": {},
   "source": [
    "**a)** Transform the tweet into TF-IDF features, using the fit to the Wikipedia dataset. (That is, let's treat this tweet as an article in our Wikipedia dataset and see what happens.) How similar is this tweet to Barack Obama's Wikipedia article? "
   ]
  },
  {
   "cell_type": "code",
   "execution_count": 34,
   "metadata": {
    "collapsed": false
   },
   "outputs": [
    {
     "data": {
      "text/html": [
       "<div>\n",
       "<style scoped>\n",
       "    .dataframe tbody tr th:only-of-type {\n",
       "        vertical-align: middle;\n",
       "    }\n",
       "\n",
       "    .dataframe tbody tr th {\n",
       "        vertical-align: top;\n",
       "    }\n",
       "\n",
       "    .dataframe thead th {\n",
       "        text-align: right;\n",
       "    }\n",
       "</style>\n",
       "<table border=\"1\" class=\"dataframe\">\n",
       "  <thead>\n",
       "    <tr style=\"text-align: right;\">\n",
       "      <th></th>\n",
       "      <th>count</th>\n",
       "      <th>tf_idf</th>\n",
       "    </tr>\n",
       "  </thead>\n",
       "  <tbody>\n",
       "    <tr>\n",
       "      <th>democratic</th>\n",
       "      <td>1</td>\n",
       "      <td>4.102672</td>\n",
       "    </tr>\n",
       "    <tr>\n",
       "      <th>governments</th>\n",
       "      <td>1</td>\n",
       "      <td>5.167571</td>\n",
       "    </tr>\n",
       "    <tr>\n",
       "      <th>control</th>\n",
       "      <td>1</td>\n",
       "      <td>4.721765</td>\n",
       "    </tr>\n",
       "    <tr>\n",
       "      <th>law</th>\n",
       "      <td>1</td>\n",
       "      <td>3.453823</td>\n",
       "    </tr>\n",
       "    <tr>\n",
       "      <th>in</th>\n",
       "      <td>1</td>\n",
       "      <td>1.000965</td>\n",
       "    </tr>\n",
       "    <tr>\n",
       "      <th>response</th>\n",
       "      <td>1</td>\n",
       "      <td>5.261462</td>\n",
       "    </tr>\n",
       "    <tr>\n",
       "      <th>to</th>\n",
       "      <td>1</td>\n",
       "      <td>1.046945</td>\n",
       "    </tr>\n",
       "    <tr>\n",
       "      <th>popular</th>\n",
       "      <td>1</td>\n",
       "      <td>3.764479</td>\n",
       "    </tr>\n",
       "    <tr>\n",
       "      <th>act</th>\n",
       "      <td>1</td>\n",
       "      <td>4.459778</td>\n",
       "    </tr>\n",
       "  </tbody>\n",
       "</table>\n",
       "</div>"
      ],
      "text/plain": [
       "             count    tf_idf\n",
       "democratic       1  4.102672\n",
       "governments      1  5.167571\n",
       "control          1  4.721765\n",
       "law              1  3.453823\n",
       "in               1  1.000965\n",
       "response         1  5.261462\n",
       "to               1  1.046945\n",
       "popular          1  3.764479\n",
       "act              1  4.459778"
      ]
     },
     "execution_count": 34,
     "metadata": {},
     "output_type": "execute_result"
    }
   ],
   "source": [
    "df = pd.DataFrame({'text': ['democratic governments control law in response to popular act']})\n",
    "\n",
    "tfidfd = tfidf.transform(vectorizer.transform(df.text))\n",
    "\n",
    "def top_words_tf_idf(df):\n",
    "    words = df['text'].values[0].split()\n",
    "    ind = {v : i for i, v in enumerate(vectorizer.get_feature_names_out())}\n",
    "    words_weigths = [tfidfd[0, ind[word]] for word in words]\n",
    "    words_count = [words.count(word) for word in words]\n",
    "    data = {\"count\" : words_count, \"tf_idf\" : words_weigths}\n",
    "    df = pd.DataFrame(data, index=words)\n",
    "    return df\n",
    "top_words_tf_idf(df)"
   ]
  },
  {
   "cell_type": "markdown",
   "metadata": {},
   "source": [
    "Let's compare this tweet's TF-IDF vectors  to Barack Obama's Wikipedia entry."
   ]
  },
  {
   "cell_type": "code",
   "execution_count": 35,
   "metadata": {
    "collapsed": false,
    "jupyter": {
     "outputs_hidden": false
    }
   },
   "outputs": [
    {
     "data": {
      "text/html": [
       "<div>\n",
       "<style scoped>\n",
       "    .dataframe tbody tr th:only-of-type {\n",
       "        vertical-align: middle;\n",
       "    }\n",
       "\n",
       "    .dataframe tbody tr th {\n",
       "        vertical-align: top;\n",
       "    }\n",
       "\n",
       "    .dataframe thead th {\n",
       "        text-align: right;\n",
       "    }\n",
       "</style>\n",
       "<table border=\"1\" class=\"dataframe\">\n",
       "  <thead>\n",
       "    <tr style=\"text-align: right;\">\n",
       "      <th></th>\n",
       "      <th>tf-idf</th>\n",
       "    </tr>\n",
       "  </thead>\n",
       "  <tbody>\n",
       "    <tr>\n",
       "      <th>obama</th>\n",
       "      <td>52.295653</td>\n",
       "    </tr>\n",
       "    <tr>\n",
       "      <th>the</th>\n",
       "      <td>40.004063</td>\n",
       "    </tr>\n",
       "    <tr>\n",
       "      <th>act</th>\n",
       "      <td>35.678223</td>\n",
       "    </tr>\n",
       "    <tr>\n",
       "      <th>in</th>\n",
       "      <td>30.028962</td>\n",
       "    </tr>\n",
       "    <tr>\n",
       "      <th>iraq</th>\n",
       "      <td>21.747379</td>\n",
       "    </tr>\n",
       "    <tr>\n",
       "      <th>...</th>\n",
       "      <td>...</td>\n",
       "    </tr>\n",
       "    <tr>\n",
       "      <th>is</th>\n",
       "      <td>2.055233</td>\n",
       "    </tr>\n",
       "    <tr>\n",
       "      <th>new</th>\n",
       "      <td>1.887235</td>\n",
       "    </tr>\n",
       "    <tr>\n",
       "      <th>which</th>\n",
       "      <td>1.767431</td>\n",
       "    </tr>\n",
       "    <tr>\n",
       "      <th>that</th>\n",
       "      <td>1.661407</td>\n",
       "    </tr>\n",
       "    <tr>\n",
       "      <th>by</th>\n",
       "      <td>1.374553</td>\n",
       "    </tr>\n",
       "  </tbody>\n",
       "</table>\n",
       "<p>265 rows × 1 columns</p>\n",
       "</div>"
      ],
      "text/plain": [
       "          tf-idf\n",
       "obama  52.295653\n",
       "the    40.004063\n",
       "act    35.678223\n",
       "in     30.028962\n",
       "iraq   21.747379\n",
       "...          ...\n",
       "is      2.055233\n",
       "new     1.887235\n",
       "which   1.767431\n",
       "that    1.661407\n",
       "by      1.374553\n",
       "\n",
       "[265 rows x 1 columns]"
      ]
     },
     "execution_count": 35,
     "metadata": {},
     "output_type": "execute_result"
    }
   ],
   "source": [
    "obama_tf_idf"
   ]
  },
  {
   "cell_type": "markdown",
   "metadata": {},
   "source": [
    "**b)** Now, compute the cosine distance between the Barack Obama article and this tweet:"
   ]
  },
  {
   "cell_type": "code",
   "execution_count": 36,
   "metadata": {
    "collapsed": false,
    "jupyter": {
     "outputs_hidden": false
    }
   },
   "outputs": [
    {
     "data": {
      "text/plain": [
       "array([[0.69866453]])"
      ]
     },
     "execution_count": 36,
     "metadata": {},
     "output_type": "execute_result"
    }
   ],
   "source": [
    "from sklearn.metrics.pairwise import cosine_distances # for one pair of samples we can just use this function\n",
    "\n",
    "# Your code goes here\n",
    "cosine_distances(TFIDFmatrix[wiki[wiki.name == \"Barack Obama\"].index], tfidfd)"
   ]
  },
  {
   "cell_type": "markdown",
   "metadata": {},
   "source": [
    "Let's compare this distance to the distance between the Barack Obama article and all of its Wikipedia nearest neighbors:"
   ]
  },
  {
   "cell_type": "code",
   "execution_count": 37,
   "metadata": {
    "collapsed": false,
    "jupyter": {
     "outputs_hidden": false
    }
   },
   "outputs": [
    {
     "data": {
      "text/html": [
       "<div>\n",
       "<style scoped>\n",
       "    .dataframe tbody tr th:only-of-type {\n",
       "        vertical-align: middle;\n",
       "    }\n",
       "\n",
       "    .dataframe tbody tr th {\n",
       "        vertical-align: top;\n",
       "    }\n",
       "\n",
       "    .dataframe thead th {\n",
       "        text-align: right;\n",
       "    }\n",
       "</style>\n",
       "<table border=\"1\" class=\"dataframe\">\n",
       "  <thead>\n",
       "    <tr style=\"text-align: right;\">\n",
       "      <th></th>\n",
       "      <th>name</th>\n",
       "      <th>length</th>\n",
       "      <th>BO-cosine-TF-IDF</th>\n",
       "    </tr>\n",
       "  </thead>\n",
       "  <tbody>\n",
       "    <tr>\n",
       "      <th>35817</th>\n",
       "      <td>Barack Obama</td>\n",
       "      <td>540</td>\n",
       "      <td>1.110223e-15</td>\n",
       "    </tr>\n",
       "    <tr>\n",
       "      <th>24478</th>\n",
       "      <td>Joe Biden</td>\n",
       "      <td>414</td>\n",
       "      <td>5.727248e-01</td>\n",
       "    </tr>\n",
       "    <tr>\n",
       "      <th>57108</th>\n",
       "      <td>Hillary Rodham Clinton</td>\n",
       "      <td>580</td>\n",
       "      <td>6.161487e-01</td>\n",
       "    </tr>\n",
       "    <tr>\n",
       "      <th>38376</th>\n",
       "      <td>Samantha Power</td>\n",
       "      <td>310</td>\n",
       "      <td>6.257966e-01</td>\n",
       "    </tr>\n",
       "    <tr>\n",
       "      <th>38714</th>\n",
       "      <td>Eric Stern (politician)</td>\n",
       "      <td>255</td>\n",
       "      <td>6.514751e-01</td>\n",
       "    </tr>\n",
       "    <tr>\n",
       "      <th>28447</th>\n",
       "      <td>George W. Bush</td>\n",
       "      <td>505</td>\n",
       "      <td>6.594783e-01</td>\n",
       "    </tr>\n",
       "    <tr>\n",
       "      <th>39357</th>\n",
       "      <td>John McCain</td>\n",
       "      <td>410</td>\n",
       "      <td>6.616452e-01</td>\n",
       "    </tr>\n",
       "    <tr>\n",
       "      <th>48693</th>\n",
       "      <td>Artur Davis</td>\n",
       "      <td>371</td>\n",
       "      <td>6.666905e-01</td>\n",
       "    </tr>\n",
       "    <tr>\n",
       "      <th>18827</th>\n",
       "      <td>Henry Waxman</td>\n",
       "      <td>279</td>\n",
       "      <td>6.712258e-01</td>\n",
       "    </tr>\n",
       "    <tr>\n",
       "      <th>37199</th>\n",
       "      <td>Barry Sullivan (lawyer)</td>\n",
       "      <td>893</td>\n",
       "      <td>6.732998e-01</td>\n",
       "    </tr>\n",
       "    <tr>\n",
       "      <th>46811</th>\n",
       "      <td>Jeff Sessions</td>\n",
       "      <td>230</td>\n",
       "      <td>6.735815e-01</td>\n",
       "    </tr>\n",
       "    <tr>\n",
       "      <th>36452</th>\n",
       "      <td>Bill Clinton</td>\n",
       "      <td>524</td>\n",
       "      <td>6.752595e-01</td>\n",
       "    </tr>\n",
       "    <tr>\n",
       "      <th>6796</th>\n",
       "      <td>Eric Holder</td>\n",
       "      <td>232</td>\n",
       "      <td>6.774510e-01</td>\n",
       "    </tr>\n",
       "    <tr>\n",
       "      <th>24848</th>\n",
       "      <td>John C. Eastman</td>\n",
       "      <td>366</td>\n",
       "      <td>6.797243e-01</td>\n",
       "    </tr>\n",
       "    <tr>\n",
       "      <th>36425</th>\n",
       "      <td>Edward B. Montgomery</td>\n",
       "      <td>331</td>\n",
       "      <td>6.813870e-01</td>\n",
       "    </tr>\n",
       "    <tr>\n",
       "      <th>14754</th>\n",
       "      <td>Mitt Romney</td>\n",
       "      <td>502</td>\n",
       "      <td>6.817613e-01</td>\n",
       "    </tr>\n",
       "    <tr>\n",
       "      <th>35357</th>\n",
       "      <td>Lawrence Summers</td>\n",
       "      <td>413</td>\n",
       "      <td>6.872718e-01</td>\n",
       "    </tr>\n",
       "    <tr>\n",
       "      <th>47303</th>\n",
       "      <td>John Kerry</td>\n",
       "      <td>410</td>\n",
       "      <td>6.927011e-01</td>\n",
       "    </tr>\n",
       "    <tr>\n",
       "      <th>34344</th>\n",
       "      <td>Mary Dawson (civil servant)</td>\n",
       "      <td>434</td>\n",
       "      <td>6.965806e-01</td>\n",
       "    </tr>\n",
       "    <tr>\n",
       "      <th>55181</th>\n",
       "      <td>Ron Paul</td>\n",
       "      <td>427</td>\n",
       "      <td>6.966418e-01</td>\n",
       "    </tr>\n",
       "    <tr>\n",
       "      <th>4565</th>\n",
       "      <td>Robinson O. Everett</td>\n",
       "      <td>764</td>\n",
       "      <td>6.981330e-01</td>\n",
       "    </tr>\n",
       "    <tr>\n",
       "      <th>46140</th>\n",
       "      <td>Robert Gibbs</td>\n",
       "      <td>257</td>\n",
       "      <td>6.985486e-01</td>\n",
       "    </tr>\n",
       "    <tr>\n",
       "      <th>52859</th>\n",
       "      <td>Ann Lewis</td>\n",
       "      <td>634</td>\n",
       "      <td>6.987995e-01</td>\n",
       "    </tr>\n",
       "  </tbody>\n",
       "</table>\n",
       "</div>"
      ],
      "text/plain": [
       "                              name  length  BO-cosine-TF-IDF\n",
       "35817                 Barack Obama     540      1.110223e-15\n",
       "24478                    Joe Biden     414      5.727248e-01\n",
       "57108       Hillary Rodham Clinton     580      6.161487e-01\n",
       "38376               Samantha Power     310      6.257966e-01\n",
       "38714      Eric Stern (politician)     255      6.514751e-01\n",
       "28447               George W. Bush     505      6.594783e-01\n",
       "39357                  John McCain     410      6.616452e-01\n",
       "48693                  Artur Davis     371      6.666905e-01\n",
       "18827                 Henry Waxman     279      6.712258e-01\n",
       "37199      Barry Sullivan (lawyer)     893      6.732998e-01\n",
       "46811                Jeff Sessions     230      6.735815e-01\n",
       "36452                 Bill Clinton     524      6.752595e-01\n",
       "6796                   Eric Holder     232      6.774510e-01\n",
       "24848              John C. Eastman     366      6.797243e-01\n",
       "36425         Edward B. Montgomery     331      6.813870e-01\n",
       "14754                  Mitt Romney     502      6.817613e-01\n",
       "35357             Lawrence Summers     413      6.872718e-01\n",
       "47303                   John Kerry     410      6.927011e-01\n",
       "34344  Mary Dawson (civil servant)     434      6.965806e-01\n",
       "55181                     Ron Paul     427      6.966418e-01\n",
       "4565           Robinson O. Everett     764      6.981330e-01\n",
       "46140                 Robert Gibbs     257      6.985486e-01\n",
       "52859                    Ann Lewis     634      6.987995e-01"
      ]
     },
     "execution_count": 37,
     "metadata": {},
     "output_type": "execute_result"
    }
   ],
   "source": [
    "nearest_neighbors_cosine[0:23]"
   ]
  },
  {
   "cell_type": "markdown",
   "metadata": {},
   "source": [
    "With cosine distances, the tweet is \"nearer\" to Barack Obama than most people! If someone is reading the Barack Obama Wikipedia page, would you want to recommend they read this tweet?\n",
    "In practice, it is common to enforce maximum or minimum document lengths. After all, when someone is reading a long article from _The Atlantic_, you wouldn't recommend him/her a tweet."
   ]
  }
 ],
 "metadata": {
  "anaconda-cloud": {},
  "kernelspec": {
   "display_name": "Python 3",
   "language": "python",
   "name": "python3"
  },
  "language_info": {
   "codemirror_mode": {
    "name": "ipython",
    "version": 3
   },
   "file_extension": ".py",
   "mimetype": "text/x-python",
   "name": "python",
   "nbconvert_exporter": "python",
   "pygments_lexer": "ipython3",
   "version": "3.12.2"
  }
 },
 "nbformat": 4,
 "nbformat_minor": 4
}
