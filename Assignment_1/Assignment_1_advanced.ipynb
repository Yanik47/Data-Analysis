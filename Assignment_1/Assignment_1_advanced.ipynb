{
 "cells": [
  {
   "cell_type": "markdown",
   "metadata": {},
   "source": []
  },
  {
   "cell_type": "code",
   "execution_count": 1,
   "metadata": {},
   "outputs": [],
   "source": [
    "import requests\n",
    "import pandas as pd\n",
    "import matplotlib.pyplot as plt\n",
    "import seaborn as sns\n",
    "from sklearn.linear_model import LinearRegression\n",
    "from sklearn.model_selection import train_test_split\n",
    "from sklearn.metrics import mean_squared_error, r2_score\n"
   ]
  },
  {
   "cell_type": "markdown",
   "metadata": {},
   "source": []
  },
  {
   "cell_type": "code",
   "execution_count": 17,
   "metadata": {},
   "outputs": [
    {
     "name": "stdout",
     "output_type": "stream",
     "text": [
      "Empty DataFrame\n",
      "Columns: []\n",
      "Index: []\n"
     ]
    }
   ],
   "source": [
    "\n",
    "# Добавьте ваш API ключ\n",
    "#headers = {\n",
    "#    \"X-API-Key\": \"0b210d5865470a9c8980bcb51cae5cc6f140bd63b9748128c6a144dd4ee52564\"  # Замените на ваш ключ\n",
    "#}\n",
    "\n",
    "import requests\n",
    "import pandas as pd\n",
    "\n",
    "# Ваш API ключ\n",
    "api_key = \"0b210d5865470a9c8980bcb51cae5cc6f140bd63b9748128c6a144dd4ee52564\"\n",
    "\n",
    "# Заголовки для запроса\n",
    "headers = {\n",
    "    \"X-API-Key\": api_key\n",
    "}\n",
    "\n",
    "# URL и параметры запроса\n",
    "url = \"https://api.openaq.org/v3/measurements\"\n",
    "params = {\n",
    "    \"city\": \"Krakow\",  # Город\n",
    "    \"parameter\": \"pm25\",  # Параметр PM2.5\n",
    "    \"limit\": 100,  # Максимум 100 записей за запрос\n",
    "    \"date_from\": \"2023-01-01\",  # Начало периода\n",
    "    \"date_to\": \"2023-12-31\",  # Конец периода\n",
    "    \"page\": 1  # Первая страница\n",
    "}\n",
    "\n",
    "# Создадим пустой DataFrame для накопления данных\n",
    "df = pd.DataFrame()\n",
    "\n",
    "# Получение данных с использованием пагинации\n",
    "while True:\n",
    "    # Запрос к API\n",
    "    response = requests.get(url, headers=headers, params=params)\n",
    "    data = response.json()\n",
    "\n",
    "    # Проверка на наличие данных\n",
    "    if 'results' not in data:\n",
    "        break\n",
    "\n",
    "    # Преобразуем данные в DataFrame и добавляем их в основной DataFrame\n",
    "    new_df = pd.DataFrame(data['results'])\n",
    "    df = pd.concat([df, new_df], ignore_index=True)\n",
    "\n",
    "    # Переход на следующую страницу, если есть больше данных\n",
    "    if len(new_df) < params['limit']:\n",
    "        break  # Нет больше страниц\n",
    "    params['page'] += 1\n",
    "\n",
    "# Выводим первые несколько строк для проверки\n",
    "print(df.head())\n",
    "\n",
    "\n"
   ]
  }
 ],
 "metadata": {
  "kernelspec": {
   "display_name": "Python 3",
   "language": "python",
   "name": "python3"
  },
  "language_info": {
   "codemirror_mode": {
    "name": "ipython",
    "version": 3
   },
   "file_extension": ".py",
   "mimetype": "text/x-python",
   "name": "python",
   "nbconvert_exporter": "python",
   "pygments_lexer": "ipython3",
   "version": "3.12.2"
  }
 },
 "nbformat": 4,
 "nbformat_minor": 2
}
