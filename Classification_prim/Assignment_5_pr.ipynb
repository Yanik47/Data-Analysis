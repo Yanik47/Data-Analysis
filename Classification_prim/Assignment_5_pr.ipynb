{
 "cells": [
  {
   "cell_type": "markdown",
   "metadata": {},
   "source": [
    "### Today we are going to perform the simple classification of the amazon reviews' sentiment.\n",
    "\n",
    "### Please, download the dataset amazon_baby.csv."
   ]
  },
  {
   "cell_type": "code",
   "execution_count": 1,
   "metadata": {
    "collapsed": false
   },
   "outputs": [
    {
     "data": {
      "text/html": [
       "<div>\n",
       "<style scoped>\n",
       "    .dataframe tbody tr th:only-of-type {\n",
       "        vertical-align: middle;\n",
       "    }\n",
       "\n",
       "    .dataframe tbody tr th {\n",
       "        vertical-align: top;\n",
       "    }\n",
       "\n",
       "    .dataframe thead th {\n",
       "        text-align: right;\n",
       "    }\n",
       "</style>\n",
       "<table border=\"1\" class=\"dataframe\">\n",
       "  <thead>\n",
       "    <tr style=\"text-align: right;\">\n",
       "      <th></th>\n",
       "      <th>name</th>\n",
       "      <th>review</th>\n",
       "      <th>rating</th>\n",
       "    </tr>\n",
       "  </thead>\n",
       "  <tbody>\n",
       "    <tr>\n",
       "      <th>0</th>\n",
       "      <td>Planetwise Flannel Wipes</td>\n",
       "      <td>These flannel wipes are OK, but in my opinion ...</td>\n",
       "      <td>3</td>\n",
       "    </tr>\n",
       "    <tr>\n",
       "      <th>1</th>\n",
       "      <td>Planetwise Wipe Pouch</td>\n",
       "      <td>it came early and was not disappointed. i love...</td>\n",
       "      <td>5</td>\n",
       "    </tr>\n",
       "    <tr>\n",
       "      <th>2</th>\n",
       "      <td>Annas Dream Full Quilt with 2 Shams</td>\n",
       "      <td>Very soft and comfortable and warmer than it l...</td>\n",
       "      <td>5</td>\n",
       "    </tr>\n",
       "    <tr>\n",
       "      <th>3</th>\n",
       "      <td>Stop Pacifier Sucking without tears with Thumb...</td>\n",
       "      <td>This is a product well worth the purchase.  I ...</td>\n",
       "      <td>5</td>\n",
       "    </tr>\n",
       "    <tr>\n",
       "      <th>4</th>\n",
       "      <td>Stop Pacifier Sucking without tears with Thumb...</td>\n",
       "      <td>All of my kids have cried non-stop when I trie...</td>\n",
       "      <td>5</td>\n",
       "    </tr>\n",
       "  </tbody>\n",
       "</table>\n",
       "</div>"
      ],
      "text/plain": [
       "                                                name  \\\n",
       "0                           Planetwise Flannel Wipes   \n",
       "1                              Planetwise Wipe Pouch   \n",
       "2                Annas Dream Full Quilt with 2 Shams   \n",
       "3  Stop Pacifier Sucking without tears with Thumb...   \n",
       "4  Stop Pacifier Sucking without tears with Thumb...   \n",
       "\n",
       "                                              review  rating  \n",
       "0  These flannel wipes are OK, but in my opinion ...       3  \n",
       "1  it came early and was not disappointed. i love...       5  \n",
       "2  Very soft and comfortable and warmer than it l...       5  \n",
       "3  This is a product well worth the purchase.  I ...       5  \n",
       "4  All of my kids have cried non-stop when I trie...       5  "
      ]
     },
     "execution_count": 1,
     "metadata": {},
     "output_type": "execute_result"
    }
   ],
   "source": [
    "import pandas as pd\n",
    "import numpy as np\n",
    "import matplotlib.pyplot as plt\n",
    "import string\n",
    "from sklearn.linear_model import LogisticRegression\n",
    "\n",
    "def remove_punctuation(text):\n",
    "    import string\n",
    "    if not isinstance(text, str):  \n",
    "        return text  \n",
    "    translator = str.maketrans('', '', string.punctuation)\n",
    "    return text.translate(translator)\n",
    "\n",
    "baby_df = pd.read_csv('amazon_baby.csv')\n",
    "baby_df.head()"
   ]
  },
  {
   "cell_type": "markdown",
   "metadata": {},
   "source": [
    "## Exercise 1 (data preparation)\n",
    "a) Remove punctuation from reviews using the given function.   \n",
    "b) Replace all missing (nan) revies with empty \"\" string.  \n",
    "c) Drop all the entries with rating = 3, as they have neutral sentiment.   \n",
    "d) Set all positive ($\\geq$4) ratings to 1 and negative($\\leq$2) to -1."
   ]
  },
  {
   "cell_type": "code",
   "execution_count": 2,
   "metadata": {
    "collapsed": false
   },
   "outputs": [
    {
     "data": {
      "text/plain": [
       "True"
      ]
     },
     "execution_count": 2,
     "metadata": {},
     "output_type": "execute_result"
    }
   ],
   "source": [
    "#a)\n",
    "baby_df['cleaned_reviews'] = baby_df['review'].apply(remove_punctuation)\n",
    "#short test: \n",
    "baby_df[\"review\"][4] == 'All of my kids have cried nonstop when I tried to ween them off their pacifier until I found Thumbuddy To Loves Binky Fairy Puppet  It is an easy way to work with your kids to allow them to understand where their pacifier is going and help them part from itThis is a must buy book and a great gift for expecting parents  You will save them soo many headachesThanks for this book  You all rock'\n",
    "remove_punctuation(baby_df[\"review\"][4]) == 'All of my kids have cried nonstop when I tried to ween them off their pacifier until I found Thumbuddy To Loves Binky Fairy Puppet  It is an easy way to work with your kids to allow them to understand where their pacifier is going and help them part from itThis is a must buy book and a great gift for expecting parents  You will save them soo many headachesThanks for this book  You all rock'"
   ]
  },
  {
   "cell_type": "code",
   "execution_count": 3,
   "metadata": {
    "collapsed": false
   },
   "outputs": [
    {
     "name": "stdout",
     "output_type": "stream",
     "text": [
      "Index 37: Our baby loves this book  has loved it for a while now  He enjoys when I read it to him and enjoys playing with it on his own\n",
      "Index 38: Empty string ('')\n",
      "Index 39: My son likes brushing elmos teeth Almost too nice of a book to let the kids play with haha \n",
      "Index 58: Empty string ('')\n",
      "Index 59: Absolutely love it and all of the Scripture in it  I purchased the Baby Boy version for my grandson when he was born and my daughterinlaw was thrilled to receive the same book again\n",
      "Index 60: Bought as a gift for my daughter in law She loved it Simple but a place to put important memories down I loved the verses at bottom of pages\n"
     ]
    }
   ],
   "source": [
    "#b)\n",
    "\n",
    "def test_cleaned_reviews(index):\n",
    "    try:\n",
    "        result = baby_df[\"cleaned_reviews\"][index]\n",
    "        if result == \"\":  \n",
    "            print(f\"Index {index}: Empty string ('')\")\n",
    "        else:\n",
    "            print(f\"Index {index}: {result}\")\n",
    "    except KeyError:\n",
    "        print(f\"Index {index} has been removed from the DataFrame.\")\n",
    "\n",
    "\n",
    "baby_df['cleaned_reviews'] = baby_df['cleaned_reviews'].fillna(\"\")\n",
    "\n",
    "#short test:\n",
    "test_cleaned_reviews(37)\n",
    "test_cleaned_reviews(38)\n",
    "test_cleaned_reviews(39)\n",
    "test_cleaned_reviews(58)\n",
    "test_cleaned_reviews(59)\n",
    "test_cleaned_reviews(60)"
   ]
  },
  {
   "cell_type": "code",
   "execution_count": 4,
   "metadata": {
    "collapsed": false
   },
   "outputs": [
    {
     "data": {
      "text/plain": [
       "0"
      ]
     },
     "execution_count": 4,
     "metadata": {},
     "output_type": "execute_result"
    }
   ],
   "source": [
    "#c)\n",
    "baby_df = baby_df[baby_df['rating'] != 3]\n",
    "\n",
    "#short test:\n",
    "sum(baby_df[\"rating\"] == 3)"
   ]
  },
  {
   "cell_type": "code",
   "execution_count": 5,
   "metadata": {
    "collapsed": false
   },
   "outputs": [
    {
     "data": {
      "text/plain": [
       "0"
      ]
     },
     "execution_count": 5,
     "metadata": {},
     "output_type": "execute_result"
    }
   ],
   "source": [
    "#d) \n",
    "baby_df.loc[baby_df['rating'] <= 2, 'rating'] = -1\n",
    "baby_df.loc[baby_df['rating'] >= 4, 'rating'] = 1\n",
    "\n",
    "#short test:\n",
    "sum(baby_df[\"rating\"]**2 != 1)"
   ]
  },
  {
   "cell_type": "markdown",
   "metadata": {},
   "source": [
    "## CountVectorizer\n",
    "In order to analyze strings, we need to assign them numerical values. We will use one of the simplest string representation, which transforms strings into the $n$ dimensional vectors. The number of dimensions will be the size of our dictionary, and then the values of the vector will represent the number of appereances of the given word in the sentence."
   ]
  },
  {
   "cell_type": "code",
   "execution_count": 6,
   "metadata": {
    "collapsed": false
   },
   "outputs": [
    {
     "name": "stdout",
     "output_type": "stream",
     "text": [
      "['adore' 'and' 'apples' 'bananas' 'dislike' 'hate' 'like' 'oranges' 'they'\n",
      " 'we']\n",
      "[[0 0 1 0 0 0 1 0 0 1]\n",
      " [0 0 0 0 0 1 0 1 0 1]\n",
      " [1 0 0 1 0 0 0 0 0 0]\n",
      " [0 1 1 0 0 0 2 1 0 1]\n",
      " [0 0 0 1 1 0 0 0 1 0]]\n"
     ]
    }
   ],
   "source": [
    "from sklearn.feature_extraction.text import CountVectorizer\n",
    "\n",
    "vectorizer = CountVectorizer()\n",
    "reviews_train_example = [\"We like apples\",\n",
    "                   \"We hate oranges\",\n",
    "                   \"I adore bananas\",\n",
    "                   \"We like like apples and oranges\",\n",
    "                   \"They dislike bananas\"]\n",
    "\n",
    "X_train_example = vectorizer.fit_transform(reviews_train_example)\n",
    "\n",
    "print(vectorizer.get_feature_names_out())\n",
    "print(X_train_example.todense())\n",
    "\n"
   ]
  },
  {
   "cell_type": "code",
   "execution_count": 7,
   "metadata": {
    "collapsed": false
   },
   "outputs": [
    {
     "name": "stdout",
     "output_type": "stream",
     "text": [
      "[[0 0 0 1 0 0 1 0 1 0]\n",
      " [0 1 1 1 0 1 0 1 0 1]\n",
      " [0 0 0 1 0 0 0 0 0 1]]\n"
     ]
    }
   ],
   "source": [
    "reviews_test_example = [\"They like bananas\",\n",
    "                   \"We hate oranges bananas and apples\",\n",
    "                   \"We love bananas\"] #New word!\n",
    "\n",
    "X_test_example = vectorizer.transform(reviews_test_example)\n",
    "\n",
    "print(X_test_example.todense())"
   ]
  },
  {
   "cell_type": "markdown",
   "metadata": {},
   "source": [
    "We should acknowledge few facts. Firstly, CountVectorizer does not take order into account. Secondly, it ignores one-letter words (this can be changed during initialization). Finally, for test values, CountVectorizer ignores words which are not in it's dictionary."
   ]
  },
  {
   "cell_type": "markdown",
   "metadata": {},
   "source": [
    "## Exercise 2 \n",
    "a) Split dataset into training and test sets.     \n",
    "b) Transform reviews into vectors using CountVectorizer. "
   ]
  },
  {
   "cell_type": "code",
   "execution_count": 8,
   "metadata": {
    "collapsed": true
   },
   "outputs": [],
   "source": [
    "#a)\n",
    "from sklearn.model_selection import train_test_split\n",
    "\n",
    "train, test = train_test_split(baby_df.dropna(), test_size=0.2, random_state=42)"
   ]
  },
  {
   "cell_type": "code",
   "execution_count": 9,
   "metadata": {
    "collapsed": true
   },
   "outputs": [],
   "source": [
    "#b)\n",
    "vectorizer = CountVectorizer()\n",
    "\n",
    "x = vectorizer.fit_transform(list(train[\"review\"]))\n",
    "y = train[\"rating\"]\n",
    "x_test = vectorizer.transform(list(test[\"review\"]))\n",
    "y_test = test[\"rating\"]"
   ]
  },
  {
   "cell_type": "markdown",
   "metadata": {},
   "source": [
    "## Exercise 3 \n",
    "a) Train LogisticRegression model on training data (reviews processed with CountVectorizer, ratings as they were).   \n",
    "b) Print 10 most positive and 10 most negative words."
   ]
  },
  {
   "cell_type": "code",
   "execution_count": 17,
   "metadata": {
    "collapsed": true
   },
   "outputs": [
    {
     "name": "stderr",
     "output_type": "stream",
     "text": [
      "c:\\Python312\\Lib\\site-packages\\sklearn\\linear_model\\_logistic.py:469: ConvergenceWarning: lbfgs failed to converge (status=1):\n",
      "STOP: TOTAL NO. of ITERATIONS REACHED LIMIT.\n",
      "\n",
      "Increase the number of iterations (max_iter) or scale the data as shown in:\n",
      "    https://scikit-learn.org/stable/modules/preprocessing.html\n",
      "Please also refer to the documentation for alternative solver options:\n",
      "    https://scikit-learn.org/stable/modules/linear_model.html#logistic-regression\n",
      "  n_iter_i = _check_optimize_result(\n"
     ]
    },
    {
     "data": {
      "text/html": [
       "<style>#sk-container-id-5 {\n",
       "  /* Definition of color scheme common for light and dark mode */\n",
       "  --sklearn-color-text: black;\n",
       "  --sklearn-color-line: gray;\n",
       "  /* Definition of color scheme for unfitted estimators */\n",
       "  --sklearn-color-unfitted-level-0: #fff5e6;\n",
       "  --sklearn-color-unfitted-level-1: #f6e4d2;\n",
       "  --sklearn-color-unfitted-level-2: #ffe0b3;\n",
       "  --sklearn-color-unfitted-level-3: chocolate;\n",
       "  /* Definition of color scheme for fitted estimators */\n",
       "  --sklearn-color-fitted-level-0: #f0f8ff;\n",
       "  --sklearn-color-fitted-level-1: #d4ebff;\n",
       "  --sklearn-color-fitted-level-2: #b3dbfd;\n",
       "  --sklearn-color-fitted-level-3: cornflowerblue;\n",
       "\n",
       "  /* Specific color for light theme */\n",
       "  --sklearn-color-text-on-default-background: var(--sg-text-color, var(--theme-code-foreground, var(--jp-content-font-color1, black)));\n",
       "  --sklearn-color-background: var(--sg-background-color, var(--theme-background, var(--jp-layout-color0, white)));\n",
       "  --sklearn-color-border-box: var(--sg-text-color, var(--theme-code-foreground, var(--jp-content-font-color1, black)));\n",
       "  --sklearn-color-icon: #696969;\n",
       "\n",
       "  @media (prefers-color-scheme: dark) {\n",
       "    /* Redefinition of color scheme for dark theme */\n",
       "    --sklearn-color-text-on-default-background: var(--sg-text-color, var(--theme-code-foreground, var(--jp-content-font-color1, white)));\n",
       "    --sklearn-color-background: var(--sg-background-color, var(--theme-background, var(--jp-layout-color0, #111)));\n",
       "    --sklearn-color-border-box: var(--sg-text-color, var(--theme-code-foreground, var(--jp-content-font-color1, white)));\n",
       "    --sklearn-color-icon: #878787;\n",
       "  }\n",
       "}\n",
       "\n",
       "#sk-container-id-5 {\n",
       "  color: var(--sklearn-color-text);\n",
       "}\n",
       "\n",
       "#sk-container-id-5 pre {\n",
       "  padding: 0;\n",
       "}\n",
       "\n",
       "#sk-container-id-5 input.sk-hidden--visually {\n",
       "  border: 0;\n",
       "  clip: rect(1px 1px 1px 1px);\n",
       "  clip: rect(1px, 1px, 1px, 1px);\n",
       "  height: 1px;\n",
       "  margin: -1px;\n",
       "  overflow: hidden;\n",
       "  padding: 0;\n",
       "  position: absolute;\n",
       "  width: 1px;\n",
       "}\n",
       "\n",
       "#sk-container-id-5 div.sk-dashed-wrapped {\n",
       "  border: 1px dashed var(--sklearn-color-line);\n",
       "  margin: 0 0.4em 0.5em 0.4em;\n",
       "  box-sizing: border-box;\n",
       "  padding-bottom: 0.4em;\n",
       "  background-color: var(--sklearn-color-background);\n",
       "}\n",
       "\n",
       "#sk-container-id-5 div.sk-container {\n",
       "  /* jupyter's `normalize.less` sets `[hidden] { display: none; }`\n",
       "     but bootstrap.min.css set `[hidden] { display: none !important; }`\n",
       "     so we also need the `!important` here to be able to override the\n",
       "     default hidden behavior on the sphinx rendered scikit-learn.org.\n",
       "     See: https://github.com/scikit-learn/scikit-learn/issues/21755 */\n",
       "  display: inline-block !important;\n",
       "  position: relative;\n",
       "}\n",
       "\n",
       "#sk-container-id-5 div.sk-text-repr-fallback {\n",
       "  display: none;\n",
       "}\n",
       "\n",
       "div.sk-parallel-item,\n",
       "div.sk-serial,\n",
       "div.sk-item {\n",
       "  /* draw centered vertical line to link estimators */\n",
       "  background-image: linear-gradient(var(--sklearn-color-text-on-default-background), var(--sklearn-color-text-on-default-background));\n",
       "  background-size: 2px 100%;\n",
       "  background-repeat: no-repeat;\n",
       "  background-position: center center;\n",
       "}\n",
       "\n",
       "/* Parallel-specific style estimator block */\n",
       "\n",
       "#sk-container-id-5 div.sk-parallel-item::after {\n",
       "  content: \"\";\n",
       "  width: 100%;\n",
       "  border-bottom: 2px solid var(--sklearn-color-text-on-default-background);\n",
       "  flex-grow: 1;\n",
       "}\n",
       "\n",
       "#sk-container-id-5 div.sk-parallel {\n",
       "  display: flex;\n",
       "  align-items: stretch;\n",
       "  justify-content: center;\n",
       "  background-color: var(--sklearn-color-background);\n",
       "  position: relative;\n",
       "}\n",
       "\n",
       "#sk-container-id-5 div.sk-parallel-item {\n",
       "  display: flex;\n",
       "  flex-direction: column;\n",
       "}\n",
       "\n",
       "#sk-container-id-5 div.sk-parallel-item:first-child::after {\n",
       "  align-self: flex-end;\n",
       "  width: 50%;\n",
       "}\n",
       "\n",
       "#sk-container-id-5 div.sk-parallel-item:last-child::after {\n",
       "  align-self: flex-start;\n",
       "  width: 50%;\n",
       "}\n",
       "\n",
       "#sk-container-id-5 div.sk-parallel-item:only-child::after {\n",
       "  width: 0;\n",
       "}\n",
       "\n",
       "/* Serial-specific style estimator block */\n",
       "\n",
       "#sk-container-id-5 div.sk-serial {\n",
       "  display: flex;\n",
       "  flex-direction: column;\n",
       "  align-items: center;\n",
       "  background-color: var(--sklearn-color-background);\n",
       "  padding-right: 1em;\n",
       "  padding-left: 1em;\n",
       "}\n",
       "\n",
       "\n",
       "/* Toggleable style: style used for estimator/Pipeline/ColumnTransformer box that is\n",
       "clickable and can be expanded/collapsed.\n",
       "- Pipeline and ColumnTransformer use this feature and define the default style\n",
       "- Estimators will overwrite some part of the style using the `sk-estimator` class\n",
       "*/\n",
       "\n",
       "/* Pipeline and ColumnTransformer style (default) */\n",
       "\n",
       "#sk-container-id-5 div.sk-toggleable {\n",
       "  /* Default theme specific background. It is overwritten whether we have a\n",
       "  specific estimator or a Pipeline/ColumnTransformer */\n",
       "  background-color: var(--sklearn-color-background);\n",
       "}\n",
       "\n",
       "/* Toggleable label */\n",
       "#sk-container-id-5 label.sk-toggleable__label {\n",
       "  cursor: pointer;\n",
       "  display: block;\n",
       "  width: 100%;\n",
       "  margin-bottom: 0;\n",
       "  padding: 0.5em;\n",
       "  box-sizing: border-box;\n",
       "  text-align: center;\n",
       "}\n",
       "\n",
       "#sk-container-id-5 label.sk-toggleable__label-arrow:before {\n",
       "  /* Arrow on the left of the label */\n",
       "  content: \"▸\";\n",
       "  float: left;\n",
       "  margin-right: 0.25em;\n",
       "  color: var(--sklearn-color-icon);\n",
       "}\n",
       "\n",
       "#sk-container-id-5 label.sk-toggleable__label-arrow:hover:before {\n",
       "  color: var(--sklearn-color-text);\n",
       "}\n",
       "\n",
       "/* Toggleable content - dropdown */\n",
       "\n",
       "#sk-container-id-5 div.sk-toggleable__content {\n",
       "  max-height: 0;\n",
       "  max-width: 0;\n",
       "  overflow: hidden;\n",
       "  text-align: left;\n",
       "  /* unfitted */\n",
       "  background-color: var(--sklearn-color-unfitted-level-0);\n",
       "}\n",
       "\n",
       "#sk-container-id-5 div.sk-toggleable__content.fitted {\n",
       "  /* fitted */\n",
       "  background-color: var(--sklearn-color-fitted-level-0);\n",
       "}\n",
       "\n",
       "#sk-container-id-5 div.sk-toggleable__content pre {\n",
       "  margin: 0.2em;\n",
       "  border-radius: 0.25em;\n",
       "  color: var(--sklearn-color-text);\n",
       "  /* unfitted */\n",
       "  background-color: var(--sklearn-color-unfitted-level-0);\n",
       "}\n",
       "\n",
       "#sk-container-id-5 div.sk-toggleable__content.fitted pre {\n",
       "  /* unfitted */\n",
       "  background-color: var(--sklearn-color-fitted-level-0);\n",
       "}\n",
       "\n",
       "#sk-container-id-5 input.sk-toggleable__control:checked~div.sk-toggleable__content {\n",
       "  /* Expand drop-down */\n",
       "  max-height: 200px;\n",
       "  max-width: 100%;\n",
       "  overflow: auto;\n",
       "}\n",
       "\n",
       "#sk-container-id-5 input.sk-toggleable__control:checked~label.sk-toggleable__label-arrow:before {\n",
       "  content: \"▾\";\n",
       "}\n",
       "\n",
       "/* Pipeline/ColumnTransformer-specific style */\n",
       "\n",
       "#sk-container-id-5 div.sk-label input.sk-toggleable__control:checked~label.sk-toggleable__label {\n",
       "  color: var(--sklearn-color-text);\n",
       "  background-color: var(--sklearn-color-unfitted-level-2);\n",
       "}\n",
       "\n",
       "#sk-container-id-5 div.sk-label.fitted input.sk-toggleable__control:checked~label.sk-toggleable__label {\n",
       "  background-color: var(--sklearn-color-fitted-level-2);\n",
       "}\n",
       "\n",
       "/* Estimator-specific style */\n",
       "\n",
       "/* Colorize estimator box */\n",
       "#sk-container-id-5 div.sk-estimator input.sk-toggleable__control:checked~label.sk-toggleable__label {\n",
       "  /* unfitted */\n",
       "  background-color: var(--sklearn-color-unfitted-level-2);\n",
       "}\n",
       "\n",
       "#sk-container-id-5 div.sk-estimator.fitted input.sk-toggleable__control:checked~label.sk-toggleable__label {\n",
       "  /* fitted */\n",
       "  background-color: var(--sklearn-color-fitted-level-2);\n",
       "}\n",
       "\n",
       "#sk-container-id-5 div.sk-label label.sk-toggleable__label,\n",
       "#sk-container-id-5 div.sk-label label {\n",
       "  /* The background is the default theme color */\n",
       "  color: var(--sklearn-color-text-on-default-background);\n",
       "}\n",
       "\n",
       "/* On hover, darken the color of the background */\n",
       "#sk-container-id-5 div.sk-label:hover label.sk-toggleable__label {\n",
       "  color: var(--sklearn-color-text);\n",
       "  background-color: var(--sklearn-color-unfitted-level-2);\n",
       "}\n",
       "\n",
       "/* Label box, darken color on hover, fitted */\n",
       "#sk-container-id-5 div.sk-label.fitted:hover label.sk-toggleable__label.fitted {\n",
       "  color: var(--sklearn-color-text);\n",
       "  background-color: var(--sklearn-color-fitted-level-2);\n",
       "}\n",
       "\n",
       "/* Estimator label */\n",
       "\n",
       "#sk-container-id-5 div.sk-label label {\n",
       "  font-family: monospace;\n",
       "  font-weight: bold;\n",
       "  display: inline-block;\n",
       "  line-height: 1.2em;\n",
       "}\n",
       "\n",
       "#sk-container-id-5 div.sk-label-container {\n",
       "  text-align: center;\n",
       "}\n",
       "\n",
       "/* Estimator-specific */\n",
       "#sk-container-id-5 div.sk-estimator {\n",
       "  font-family: monospace;\n",
       "  border: 1px dotted var(--sklearn-color-border-box);\n",
       "  border-radius: 0.25em;\n",
       "  box-sizing: border-box;\n",
       "  margin-bottom: 0.5em;\n",
       "  /* unfitted */\n",
       "  background-color: var(--sklearn-color-unfitted-level-0);\n",
       "}\n",
       "\n",
       "#sk-container-id-5 div.sk-estimator.fitted {\n",
       "  /* fitted */\n",
       "  background-color: var(--sklearn-color-fitted-level-0);\n",
       "}\n",
       "\n",
       "/* on hover */\n",
       "#sk-container-id-5 div.sk-estimator:hover {\n",
       "  /* unfitted */\n",
       "  background-color: var(--sklearn-color-unfitted-level-2);\n",
       "}\n",
       "\n",
       "#sk-container-id-5 div.sk-estimator.fitted:hover {\n",
       "  /* fitted */\n",
       "  background-color: var(--sklearn-color-fitted-level-2);\n",
       "}\n",
       "\n",
       "/* Specification for estimator info (e.g. \"i\" and \"?\") */\n",
       "\n",
       "/* Common style for \"i\" and \"?\" */\n",
       "\n",
       ".sk-estimator-doc-link,\n",
       "a:link.sk-estimator-doc-link,\n",
       "a:visited.sk-estimator-doc-link {\n",
       "  float: right;\n",
       "  font-size: smaller;\n",
       "  line-height: 1em;\n",
       "  font-family: monospace;\n",
       "  background-color: var(--sklearn-color-background);\n",
       "  border-radius: 1em;\n",
       "  height: 1em;\n",
       "  width: 1em;\n",
       "  text-decoration: none !important;\n",
       "  margin-left: 1ex;\n",
       "  /* unfitted */\n",
       "  border: var(--sklearn-color-unfitted-level-1) 1pt solid;\n",
       "  color: var(--sklearn-color-unfitted-level-1);\n",
       "}\n",
       "\n",
       ".sk-estimator-doc-link.fitted,\n",
       "a:link.sk-estimator-doc-link.fitted,\n",
       "a:visited.sk-estimator-doc-link.fitted {\n",
       "  /* fitted */\n",
       "  border: var(--sklearn-color-fitted-level-1) 1pt solid;\n",
       "  color: var(--sklearn-color-fitted-level-1);\n",
       "}\n",
       "\n",
       "/* On hover */\n",
       "div.sk-estimator:hover .sk-estimator-doc-link:hover,\n",
       ".sk-estimator-doc-link:hover,\n",
       "div.sk-label-container:hover .sk-estimator-doc-link:hover,\n",
       ".sk-estimator-doc-link:hover {\n",
       "  /* unfitted */\n",
       "  background-color: var(--sklearn-color-unfitted-level-3);\n",
       "  color: var(--sklearn-color-background);\n",
       "  text-decoration: none;\n",
       "}\n",
       "\n",
       "div.sk-estimator.fitted:hover .sk-estimator-doc-link.fitted:hover,\n",
       ".sk-estimator-doc-link.fitted:hover,\n",
       "div.sk-label-container:hover .sk-estimator-doc-link.fitted:hover,\n",
       ".sk-estimator-doc-link.fitted:hover {\n",
       "  /* fitted */\n",
       "  background-color: var(--sklearn-color-fitted-level-3);\n",
       "  color: var(--sklearn-color-background);\n",
       "  text-decoration: none;\n",
       "}\n",
       "\n",
       "/* Span, style for the box shown on hovering the info icon */\n",
       ".sk-estimator-doc-link span {\n",
       "  display: none;\n",
       "  z-index: 9999;\n",
       "  position: relative;\n",
       "  font-weight: normal;\n",
       "  right: .2ex;\n",
       "  padding: .5ex;\n",
       "  margin: .5ex;\n",
       "  width: min-content;\n",
       "  min-width: 20ex;\n",
       "  max-width: 50ex;\n",
       "  color: var(--sklearn-color-text);\n",
       "  box-shadow: 2pt 2pt 4pt #999;\n",
       "  /* unfitted */\n",
       "  background: var(--sklearn-color-unfitted-level-0);\n",
       "  border: .5pt solid var(--sklearn-color-unfitted-level-3);\n",
       "}\n",
       "\n",
       ".sk-estimator-doc-link.fitted span {\n",
       "  /* fitted */\n",
       "  background: var(--sklearn-color-fitted-level-0);\n",
       "  border: var(--sklearn-color-fitted-level-3);\n",
       "}\n",
       "\n",
       ".sk-estimator-doc-link:hover span {\n",
       "  display: block;\n",
       "}\n",
       "\n",
       "/* \"?\"-specific style due to the `<a>` HTML tag */\n",
       "\n",
       "#sk-container-id-5 a.estimator_doc_link {\n",
       "  float: right;\n",
       "  font-size: 1rem;\n",
       "  line-height: 1em;\n",
       "  font-family: monospace;\n",
       "  background-color: var(--sklearn-color-background);\n",
       "  border-radius: 1rem;\n",
       "  height: 1rem;\n",
       "  width: 1rem;\n",
       "  text-decoration: none;\n",
       "  /* unfitted */\n",
       "  color: var(--sklearn-color-unfitted-level-1);\n",
       "  border: var(--sklearn-color-unfitted-level-1) 1pt solid;\n",
       "}\n",
       "\n",
       "#sk-container-id-5 a.estimator_doc_link.fitted {\n",
       "  /* fitted */\n",
       "  border: var(--sklearn-color-fitted-level-1) 1pt solid;\n",
       "  color: var(--sklearn-color-fitted-level-1);\n",
       "}\n",
       "\n",
       "/* On hover */\n",
       "#sk-container-id-5 a.estimator_doc_link:hover {\n",
       "  /* unfitted */\n",
       "  background-color: var(--sklearn-color-unfitted-level-3);\n",
       "  color: var(--sklearn-color-background);\n",
       "  text-decoration: none;\n",
       "}\n",
       "\n",
       "#sk-container-id-5 a.estimator_doc_link.fitted:hover {\n",
       "  /* fitted */\n",
       "  background-color: var(--sklearn-color-fitted-level-3);\n",
       "}\n",
       "</style><div id=\"sk-container-id-5\" class=\"sk-top-container\"><div class=\"sk-text-repr-fallback\"><pre>LogisticRegression()</pre><b>In a Jupyter environment, please rerun this cell to show the HTML representation or trust the notebook. <br />On GitHub, the HTML representation is unable to render, please try loading this page with nbviewer.org.</b></div><div class=\"sk-container\" hidden><div class=\"sk-item\"><div class=\"sk-estimator fitted sk-toggleable\"><input class=\"sk-toggleable__control sk-hidden--visually\" id=\"sk-estimator-id-5\" type=\"checkbox\" checked><label for=\"sk-estimator-id-5\" class=\"sk-toggleable__label fitted sk-toggleable__label-arrow fitted\">&nbsp;&nbsp;LogisticRegression<a class=\"sk-estimator-doc-link fitted\" rel=\"noreferrer\" target=\"_blank\" href=\"https://scikit-learn.org/1.5/modules/generated/sklearn.linear_model.LogisticRegression.html\">?<span>Documentation for LogisticRegression</span></a><span class=\"sk-estimator-doc-link fitted\">i<span>Fitted</span></span></label><div class=\"sk-toggleable__content fitted\"><pre>LogisticRegression()</pre></div> </div></div></div></div>"
      ],
      "text/plain": [
       "LogisticRegression()"
      ]
     },
     "execution_count": 17,
     "metadata": {},
     "output_type": "execute_result"
    }
   ],
   "source": [
    "#a)\n",
    "model = LogisticRegression()\n",
    "model.fit(x, y)\n"
   ]
  },
  {
   "cell_type": "code",
   "execution_count": 18,
   "metadata": {
    "collapsed": true
   },
   "outputs": [
    {
     "name": "stdout",
     "output_type": "stream",
     "text": [
      "most positive words:  ['helped' 'negative' 'complaints' 'pleased' 'amazing' 'awesome' 'perfect'\n",
      " 'satisfied' 'excellent' 'worry']\n",
      "most negative words:  ['disappointing' 'worst' 'poorly' 'concept' 'worthless' 'disappointed'\n",
      " 'theory' 'terrible' 'returning' 'useless']\n"
     ]
    }
   ],
   "source": [
    "#b)\n",
    "zipped_coef = list(zip(list(range(model.coef_.shape[1])), model.coef_[0]))\n",
    "sorted_coef = sorted(zipped_coef, key= lambda v: v[1])\n",
    "sorted_coef = np.array(sorted_coef)\n",
    "sorted_coef_indexes = sorted_coef[:, 0].astype(int)\n",
    "words = np.array(vectorizer.get_feature_names_out())\n",
    "most_positive_words = words[sorted_coef_indexes[-10:]]\n",
    "most_negative_words = words[sorted_coef_indexes[:10]]\n",
    "print(\"most positive words: \", most_positive_words)\n",
    "print(\"most negative words: \", most_negative_words)\n",
    "#hint: model.coef_, vectorizer.get_feature_names()"
   ]
  },
  {
   "cell_type": "markdown",
   "metadata": {},
   "source": [
    "## Exercise 4 \n",
    "a) Predict the sentiment of test data reviews.   \n",
    "b) Predict the sentiment of test data reviews in terms of probability.   \n",
    "c) Find five most positive and most negative reviews.   \n",
    "d) Calculate the accuracy of predictions."
   ]
  },
  {
   "cell_type": "code",
   "execution_count": 13,
   "metadata": {
    "collapsed": true
   },
   "outputs": [
    {
     "data": {
      "text/plain": [
       "array([ 1,  1, -1, ...,  1,  1,  1])"
      ]
     },
     "execution_count": 13,
     "metadata": {},
     "output_type": "execute_result"
    }
   ],
   "source": [
    "#a)\n",
    "model.predict(x_test)"
   ]
  },
  {
   "cell_type": "code",
   "execution_count": 14,
   "metadata": {
    "collapsed": true
   },
   "outputs": [
    {
     "data": {
      "text/plain": [
       "array([[3.11436193e-01, 6.88563807e-01],\n",
       "       [4.58939132e-03, 9.95410609e-01],\n",
       "       [8.30891227e-01, 1.69108773e-01],\n",
       "       ...,\n",
       "       [1.39895449e-01, 8.60104551e-01],\n",
       "       [1.59636773e-02, 9.84036323e-01],\n",
       "       [3.58822349e-04, 9.99641178e-01]])"
      ]
     },
     "execution_count": 14,
     "metadata": {},
     "output_type": "execute_result"
    }
   ],
   "source": [
    "#b)\n",
    "probabilty = model.predict_proba(x_test)\n",
    "probabilty\n",
    "#hint: model.predict_proba()"
   ]
  },
  {
   "cell_type": "code",
   "execution_count": 15,
   "metadata": {
    "collapsed": true
   },
   "outputs": [
    {
     "name": "stdout",
     "output_type": "stream",
     "text": [
      "most positive:  My husband and I assembled this Pack n' Play last night and so far we are very happy with it.  The assembly seemed a bit complicated but I think that's a normal reaction from a couple who has never put together baby gear before.  My husband was able to put it together in about 15-20 minutes and the entire setup seems very sturdy and secure.  The elevated bassinet is also 100% level (we checked with an actual level) and the changer is solid.  I was able to move the Pack n' Play easily and get it through our doors with no issues (it just fit) although I'm almost eight months along.  We haven't had a chance to try the mechanical portion yet as it appears you need to add your own batteries.My only surprise thus far was with the exact color.  The black looks great; I purposely was looking for simple modern colors.  However, I thought the trim color was a beige but it is actually a medium gray.  While I like the clean and simple black coloring of the main section, the gray makes it look a little dark.  Because the dangling stars are gray too, I will probably add a few colorful toys to the overhead bar.Once we have had a chance to use this Pack n' Play, I will update if there are any issues.  All in all, very happy with this item thus far!  Good looking, sturdy, and a great size.Update: We've been using this PnP for a few weeks and it is an essential piece of baby gear in our home.  It is kept by our bed and is used as the baby's night time bassinet until she is old enough to go into her own room in a crib.  We added a folded swaddling blanket on top of the mattress plus an organic sheet for comfort and the baby loves it.  At about three weeks old, she sleeps 4-5 hours in this item.  The changer and basket caddy is also super convenient for middle-of-the-night diaper changes.A minor complaint is since the changer is attached to the PnP on only one side, there is a slight tilting when changing baby but at this point it isn't severe enough to cause a problem.  We also don't find ourselves using the musical attachment however the nightlight is a nice bonus for a quick peek at baby.With regard to the color, I've become a fan of the gray trim color as the neutral tone doesn't distract the baby in the middle of the night and it fits in very nicely with our home decor.  We only use this piece for night time sleeping so this works great for us.\n",
      "\n",
      " most negative:  Note: we never installed batteries in these units, preferring to plug them all into AC sockets. So none of this has anything to do with low batteries!!We bought this unit from Amazon in late January 2011, paying $63.54. The video review and other reviews here and elsewhere led me to believe that it might be a little quirky when dealing with distances or interference, but it sounded like it would suit us well, with the 2 remote units and ability to speak from remote to either the other remote, or to both remote and base. I really tried to like this, despite my wife's initial reservations (due to low volume even at the max setting). In the end (after less than one year!), it has been worse than I could have imagined.Our setup was odd but effective for us, as we used it with another older analog monitor (great and loud at short distance, but way too much interference for a remote in the basement 2 floors down), as follows... Other monitor's base is near the crib, with its remote at our bedside... The P400 base unit was placed directly in front of the analog remote, so it would directly relay that very loud & clear audio from the crib area to one P400 remote on the main floor (1 floor directly below P400 base), and the other P400 remote in the basement (2 floors down, maybe 10' to the side). This largely overcame the too-quiet performance of the P400, which otherwise left me craning to hear what was going on when we tried it with the P400 base by the crib.This worked pretty well, though I found I would have to turn the P400 remotes off and back on periodically to restore relatively good performance (it would degrade over time, such that it got harder and harder to hear well, even when the lights indicated it was receiving loud signals, with the bars filling up!). Every once in a while it seemed to have lost the connection altogether, but wasn't giving the beep signaling disconnection (VERY frustrating!).After some months, the basement unit would more and more frequently work poorly, or not at all. My wife would get very frustrated when she would call me repeatedly and I couldn't hear a thing of it! I initially chalked it up to interference (thought nothing had changed!), and resolved to power cycle both remotes much more frequently. But alas, over time it pretty much just stopped working completely (but again, with the volume lights indicating it was receiving audio from the base station!), leaving me scrambling to resurrect another old monitor temporarily (suffering with it's droning interference) when working in the basement.We made do with that suboptimal situation for some time, but now I find the main level P400 remote (just a floor directly below the P400 base!) also stopped working... and again, the lights would be busily indicating incoming audio all the while!!Here is the kicker..... In desperation, I actually tried plugging earphones into the remote's jack, and Lo & Behold, it WORKED (via the headphones), with the activity shown by the lights now audible once again!!  Unplug the headphones and the remote would again go silent, despite audio lights still indicating activity. Plug in the headphones and I could again hear it! I tested both remotes and the base unit, and found that the broadcast function from remotes to base was working just fine, but there was nothing coming from the remote speakers no matter what I did. These suckers are effectively dead as monitors, since I have no intention of using them with headphones!!I conclude that there is something major wrong with the audio system on these units, something that prevents the received signals (again, as indicated by the activity lights that are a-flicker on the remotes) from making it to the built-in speaker... Which of course renders the units completely useless, or worse since there's no error signal to let you know something has gone horribly wrong!I did take one of the remotes apart (5 screws in total, 3 of them very small), and couldn't see anything clearly wrong with the wiring/connections, no bursting capacitors, etc., so I have no idea if this is a problem at the gross level or something amiss in the circuit board, or what... But for what it is worth, I would not touch these units.FWIW, when new, they did work reasonably well, though I fault them for unusually low volume even when set to loudest setting. And then there's the stealth degradation over time issue, which may be temporarily remedied by power-cycling the remotes... But in the end, if your experience is anything like ours, the remotes' speakers will eventually cease to produce any audio at all......Don't be seduced by the nice features. It won't last, at least in our experience....\n"
     ]
    }
   ],
   "source": [
    "#c) \n",
    "print(\"most positive: \", test.iloc[probabilty.T[1].argmax()][\"review\"])\n",
    "print(\"\\n most negative: \", test.iloc[probabilty.T[0].argmax()][\"review\"])\n",
    "#hint: use the results of b)"
   ]
  },
  {
   "cell_type": "code",
   "execution_count": 16,
   "metadata": {
    "collapsed": true
   },
   "outputs": [
    {
     "data": {
      "text/plain": [
       "0.9356892805408016"
      ]
     },
     "execution_count": 16,
     "metadata": {},
     "output_type": "execute_result"
    }
   ],
   "source": [
    "#d) \n",
    "model.score(x_test, y_test)"
   ]
  },
  {
   "cell_type": "markdown",
   "metadata": {},
   "source": [
    "## Exercise 5\n",
    "In this exercise we will limit the dictionary of CountVectorizer to the set of significant words, defined below.\n",
    "\n",
    "\n",
    "a) Redo exercises 2-5 using limited dictionary.   \n",
    "b) Check the impact of all the words from the dictionary.   \n",
    "c) Compare accuracy of predictions and the time of evaluation."
   ]
  },
  {
   "cell_type": "code",
   "execution_count": 18,
   "metadata": {
    "collapsed": true
   },
   "outputs": [],
   "source": [
    "significant_words = ['love','great','easy','old','little','perfect','loves','well','able','car','broke','less','even','waste','disappointed','work','product','money','would','return']"
   ]
  },
  {
   "cell_type": "code",
   "execution_count": 19,
   "metadata": {
    "collapsed": true
   },
   "outputs": [
    {
     "name": "stdout",
     "output_type": "stream",
     "text": [
      "most positive:  UPDATE 9/30/2012: Okay, so I've had a chance to use this stroller for months now, and I have to say I'm satisfied with it.1. I love the color orangie we picked. We recently went to a fair (The Big E) and my fianc&eacute; said it was easy to spot us in a crowd when he was returning with our food.2. The drink holders are very small, and if you have a large cup it's not going to fit because the handle bars that you push the stroller with gets in the way. A soda can fits perfectly though (just to give you an idea), and for the larger drinks, we actually unzipped the pockets you can put your cell phone or wallet in, and set it in there lol worked for us.3. Okay, I was a little disappointed with this basket. It is big compared to many other double strollers, but its not THAT BIG. My JJ Cole Mode diaper bag already takes up half the basket (but I have to lay it flat because it pokes at my kid's butt if not) and its not as easily accessible as I thought it would be. There is a bar that runs down the middle of the basket (perpendicular to you) so it's like two baskets. If I want to reach something  further in the basket, I can't just reach around objects, I have to take things out. It's not really a big deal, but I was expecting something a lot bigger with the way previous posters were ranting and raving about it.4. I'm 5'3 so not very tall, and I do notice myself occasionally kicking the break bar. Not a huge deal, I don't do it all the time, and have learned how to walk with it without bumping my foot on the bar. My fianc&eacute; is 6'2 and has never grazed his foot against it.5. I haven't met a door that this stroller cannot fit through yet.6. I still love that my kids sit side-by-side. They share a blanket and when my almost 5 month old starts to cry, my 22 month old leans over to pop a binky in his mouth.7. I really love how this reclines and inclines. Each seat has its own straps, and to recline the seat all you have to do is grab the buttons (front and back) together and pull, one handed very easy. To incline just push the seat forward and pull the two straps together, also very easy. The action is very smooth and fluid unlike with my single stroller I found I had to put the stroller wheels into a locked position so I could use my elbow to push the seat up and with that same arm, press the button together to unlock and pull the straps with my other arm.8. I love the shade, even with my youngest fully reclined and walking towards a sunset (say around 6:00pm during Sept. in New England), he was still covered, so no bright sun in his face.9. My oldest loves the bumper bar, if I take it down, he freaks out and wants it back. I guess it does give him a sense of security because he doesn't grab it or rest his legs on it, he just really likes the bar there. It does get dirty fast though, especially when it's touching the ground as the stroller folds down.10. A lot of people said you have to recline the seats all the way and the fold the stroller down, but I've never had to do that, it folds right down with the seats still up and i only have to use one hand to twist the handle bar for it to start collapsing. It was really weird at first because it folds backwards compared to my single stroller where the front wheels come up by my hand. I've learned to deal with it. It fits perfectly into my trunk, with room to spare.Something I noticed that I don't like is it shakes a little when we are using it. Like when you're riding your bike and going to fast downhill the steering wheel starts to shake, kind like what this feels like. It's also a bit heavy and weird to lift into the trunk of my car.Something I liked is how easy it was to assemble. Took me ten minutes, and there are no screws, everything just locks into place. There is also two settings for leg rests, you have the option of extending the seat so your kids legs rests up or you can unlock the position and have your kids legs rest on the foot rest. Plus, I have a tall 22 month old (90th percentile for height), and he seems to fit perfectly in his seat. Lastly, because this stroller doesn't accommodate an infant carseat, I lay my youngest right into the stroller, I just had to buy him the kiddopotamus snuzzler positioner so he's not sliding around in the seat. Both kids love it.---------------------------------------------Based on my extensive research on double strollers, I've decided to give the joovy scooterx2 double stroller a shot at it. There is no place in my area (not a Walmart or target or babies r us) that has this in store to test out, but I ordered it online anyways because it just seems to fit our family's needs more than other strollers do.1. I like that it comes in 3 different colors, we picked orangie since black might bake our children during the summertime, and it'll be easy to spot if my fianc&eacute; and I are some place and happen to split up.2. I like that it offers a place to put your drinks and zip pockets to store keys, phones, etc.. and although it doesn't offer a snack tray for the kids, there are mesh pockets on the inside of their seats for them to store those things away.3. I like that it has a huge basket underneath for holding baby bags, lunch boxes, purses, and shopping bags. We tested out the city mini whose basket was practically non existent, the only way to access it were the sides, and it wouldn't allow me to fit my baby bag in there. I have a JJ Cole Mode diaper bag.4. I like that it has a breakbar, even though many reviewers seem to hate that feature because theyr'e constantly kicking it while walking. I'm only 5'3 so I hope that's not a problem for me, although my fianc&eacute;; is 6'2 so he might not like it very much as well.5. I like that it can fit through a standard sized door.6. I like that my kids will sit side by side instead of front and back like a tandem stroller. It'll allow them to interact with each other and also see things all around them rather than the one child in back getting his/her scenery cut off in front of him/her because of the seat in front of him.7. I love that it reclines almost all the way down so that my kids could nap if they want, and I love that the seats are separate. That way if one child wants to layback and nap, the other who wants to be up and awake doesn't have to recline his seat as well.8. I really appreciate the big sun shade overhead. I don't have extremely fair skinned children, but they are light and have sensitive skins, so this particular sun shade will really help keep them sunburn free.9. I've never seen a bumper bar before, usually that's where the snack tray is for regular single strollers, but I like this feature too, my oldest likes to kick his feet up onto his snack tray on his single stroller, so I know he'll appreciate this bumper bar. It also gives me a sense of more security for the kids, like they're not going to fall out of it, if for some reason the stroller tips forward.10. I'm also hoping that it folds down nicely and fits in my trunk of my Toyota Yaris like the city mini fits in it with room to spare.I haven't received my joovy scooter in the mail yet, but I ordered it on babies r us and got it for $185 instead of $229 because they're  having an online savings for this particular stroller. I will also come back and update/comment on my review after I've had some time to use it, and I'll let you know for sure if it's really all i think it's cracked up to be.\n",
      "\n",
      "most negative:  Babyhaven knew that the items were never taken out their boxes and definitely not used, however they gave me no consideration for a return. I understand that they have a return policy, but I'm sure exceptions have been made.  These were purchased to keep our kitty from opening bedroom doors, but we had to put him down before we could install the product.  We placed them in a closet and just found them.  As one can imagine, after losing a member of our family, my first thought was not in returning the items.  We found the package this weekend and thought we would at least attempt a return.  But because they were purchased over 30 days ago, we are unable to return them.  This company should consider the condition of the item in the return before just flat out denying the return. I will not be purchasing any additional items from this company.\n"
     ]
    },
    {
     "data": {
      "text/plain": [
       "0.8672440849830999"
      ]
     },
     "execution_count": 19,
     "metadata": {},
     "output_type": "execute_result"
    }
   ],
   "source": [
    "#a)\n",
    "vectorizer_small = CountVectorizer(vocabulary=significant_words)\n",
    "\n",
    "x_small = vectorizer_small.fit_transform(list(train[\"review\"]))\n",
    "y_small = train[\"rating\"]\n",
    "x_test_small = vectorizer_small.transform(list(test[\"review\"]))\n",
    "y_test_small = test[\"rating\"]\n",
    "\n",
    "light_model = LogisticRegression()\n",
    "light_model.fit(x_small, y_small)\n",
    "proba = light_model.predict_proba(x_test_small)\n",
    "print(\"most positive: \", test.iloc[proba.T[1].argmax()][\"review\"])\n",
    "print(\"\\nmost negative: \", test.iloc[proba.T[0].argmax()][\"review\"])\n",
    "light_model.score(x_test_small, y_test_small)"
   ]
  },
  {
   "cell_type": "code",
   "execution_count": 20,
   "metadata": {
    "collapsed": true
   },
   "outputs": [
    {
     "name": "stdout",
     "output_type": "stream",
     "text": [
      "love: 1.3695639614376605\n",
      "great: 0.9390286281836189\n",
      "easy: 1.180621465787631\n",
      "old: 0.10758407430492509\n",
      "little: 0.48342960090866754\n",
      "perfect: 1.4930511270436548\n",
      "loves: 1.7184706805970134\n",
      "well: 0.5185346245595523\n",
      "able: 0.19325270019614244\n",
      "car: 0.07071286667178822\n",
      "broke: -1.6297400760546477\n",
      "less: -0.1564738132835682\n",
      "even: -0.515596242644489\n",
      "waste: -1.9762772435552034\n",
      "disappointed: -2.373613905849694\n",
      "work: -0.6255981631729428\n",
      "product: -0.31450121877494397\n",
      "money: -0.9120965568185173\n",
      "would: -0.34671853808878844\n",
      "return: -2.0625096333076662\n"
     ]
    }
   ],
   "source": [
    "#b)\n",
    "for word, coef in zip(vectorizer_small.get_feature_names_out(), light_model.coef_[0]):\n",
    "    print(f\"{word}: {coef}\")"
   ]
  },
  {
   "cell_type": "code",
   "execution_count": 21,
   "metadata": {
    "collapsed": true
   },
   "outputs": [
    {
     "name": "stdout",
     "output_type": "stream",
     "text": [
      "light model achieves 0.8672440849830999\n",
      "standard model achieves 0.9356892805408016\n"
     ]
    }
   ],
   "source": [
    "#c)\n",
    "print(f\"light model achieves {light_model.score(x_test_small, y_test_small)}\")\n",
    "print(f\"standard model achieves {model.score(x_test, y_test)}\")\n",
    "#hint: %time, %timeit"
   ]
  },
  {
   "cell_type": "code",
   "execution_count": null,
   "metadata": {},
   "outputs": [
    {
     "name": "stdout",
     "output_type": "stream",
     "text": [
      "CPU times: total: 0 ns\n",
      "Wall time: 0 ns\n"
     ]
    },
    {
     "data": {
      "text/plain": [
       "array([-1,  1,  1, ...,  1,  1,  1])"
      ]
     },
     "execution_count": 24,
     "metadata": {},
     "output_type": "execute_result"
    }
   ],
   "source": [
    "import sys, time\n"
   ]
  },
  {
   "cell_type": "code",
   "execution_count": 27,
   "metadata": {},
   "outputs": [
    {
     "name": "stdout",
     "output_type": "stream",
     "text": [
      "843 μs ± 135 μs per loop (mean ± std. dev. of 7 runs, 1,000 loops each)\n",
      "CPU times: total: 6.62 s\n",
      "Wall time: 6.95 s\n"
     ]
    }
   ],
   "source": [
    "%%time\n",
    "%%timeit\n",
    "light_model.predict(x_test_small)"
   ]
  },
  {
   "cell_type": "code",
   "execution_count": 26,
   "metadata": {},
   "outputs": [
    {
     "name": "stdout",
     "output_type": "stream",
     "text": [
      "9.72 ms ± 1.97 ms per loop (mean ± std. dev. of 7 runs, 100 loops each)\n",
      "CPU times: total: 7.78 s\n",
      "Wall time: 8.04 s\n"
     ]
    }
   ],
   "source": [
    "%%time\n",
    "%%timeit\n",
    "model.predict(x_test)"
   ]
  }
 ],
 "metadata": {
  "anaconda-cloud": {},
  "kernelspec": {
   "display_name": "Python 3",
   "language": "python",
   "name": "python3"
  },
  "language_info": {
   "codemirror_mode": {
    "name": "ipython",
    "version": 3
   },
   "file_extension": ".py",
   "mimetype": "text/x-python",
   "name": "python",
   "nbconvert_exporter": "python",
   "pygments_lexer": "ipython3",
   "version": "3.12.2"
  }
 },
 "nbformat": 4,
 "nbformat_minor": 4
}
